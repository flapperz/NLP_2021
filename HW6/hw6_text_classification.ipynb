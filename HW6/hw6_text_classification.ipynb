{
  "nbformat": 4,
  "nbformat_minor": 0,
  "metadata": {
    "kernelspec": {
      "display_name": "Python 3",
      "language": "python",
      "name": "python3"
    },
    "language_info": {
      "codemirror_mode": {
        "name": "ipython",
        "version": 3
      },
      "file_extension": ".py",
      "mimetype": "text/x-python",
      "name": "python",
      "nbconvert_exporter": "python",
      "pygments_lexer": "ipython3",
      "version": "3.5.2"
    },
    "colab": {
      "name": "hw6_text_classification.ipynb",
      "provenance": [],
      "collapsed_sections": []
    },
    "accelerator": "GPU"
  },
  "cells": [
    {
      "cell_type": "markdown",
      "metadata": {
        "id": "VQ8FRFIYMc5X"
      },
      "source": [
        "# HOMEWORK 5: TEXT CLASSIFICATION\n",
        "In this homework, you will create models to classify texts from TRUE call-center. There are two classification tasks:\n",
        "1. Action Classification: Identify which action the customer would like to take (e.g. enquire, report, cancle)\n",
        "2. Object Classification: Identify which object the customer is referring to (e.g. payment, truemoney, internet, roaming) \n",
        "\n",
        "In this homework, you are asked to do the following tasks:\n",
        "1. Data Cleaning\n",
        "2. Preprocessing data for keras\n",
        "3. Build and evaluate a model for \"action\" classification\n",
        "4. Build and evaluate a model for \"object\" classification\n",
        "5. Build and evaluate a multi-task model that does both \"action\" and \"object\" classifications in one-go \n",
        "\n",
        "\n",
        "Note: we have removed phone numbers from the dataset for privacy purposes. "
      ]
    },
    {
      "cell_type": "code",
      "metadata": {
        "colab": {
          "base_uri": "https://localhost:8080/"
        },
        "id": "dxjXpLPPoRbE",
        "outputId": "e63e1a7f-0fc1-44e5-f59b-5278403090f8"
      },
      "source": [
        "from google.colab import drive\n",
        "drive.mount('/content/drive')"
      ],
      "execution_count": 10,
      "outputs": [
        {
          "output_type": "stream",
          "text": [
            "Mounted at /content/drive\n"
          ],
          "name": "stdout"
        }
      ]
    },
    {
      "cell_type": "code",
      "metadata": {
        "colab": {
          "base_uri": "https://localhost:8080/"
        },
        "id": "a2ooifu0ozek",
        "outputId": "39cbb82f-38db-40cd-c012-28d4c0b1c5f0"
      },
      "source": [
        "%cd /content/drive/MyDrive/Colab\\ Notebooks/NLP/hw6"
      ],
      "execution_count": 1,
      "outputs": [
        {
          "output_type": "stream",
          "text": [
            "/content/drive/MyDrive/Colab Notebooks/NLP/hw6\n"
          ],
          "name": "stdout"
        }
      ]
    },
    {
      "cell_type": "code",
      "metadata": {
        "id": "kHqkFSyaNvOt"
      },
      "source": [
        "# !wget --no-check-certificate https://www.dropbox.com/s/37u83g55p19kvrl/clean-phone-data-for-students.csv"
      ],
      "execution_count": 2,
      "outputs": []
    },
    {
      "cell_type": "markdown",
      "metadata": {
        "id": "2YprqbOPMc5a"
      },
      "source": [
        "## Import Libs"
      ]
    },
    {
      "cell_type": "code",
      "metadata": {
        "id": "heICP79cMc5e"
      },
      "source": [
        "%matplotlib inline\n",
        "import pandas\n",
        "import sklearn\n",
        "from sklearn.model_selection import train_test_split\n",
        "import numpy as np\n",
        "from IPython.display import display\n",
        "\n",
        "import matplotlib.pyplot as plt"
      ],
      "execution_count": 115,
      "outputs": []
    },
    {
      "cell_type": "markdown",
      "metadata": {
        "id": "GPaUf4PLMc5k"
      },
      "source": [
        "## Loading data\n",
        "First, we load the data from disk into a Dataframe.\n",
        "\n",
        "A Dataframe is essentially a table, or 2D-array/Matrix with a name for each column."
      ]
    },
    {
      "cell_type": "code",
      "metadata": {
        "id": "JhZ2eBAWMc5l"
      },
      "source": [
        "data_df = pandas.read_csv('clean-phone-data-for-students.csv')"
      ],
      "execution_count": 116,
      "outputs": []
    },
    {
      "cell_type": "markdown",
      "metadata": {
        "id": "cje3yruTMc5p"
      },
      "source": [
        "Let's preview the data."
      ]
    },
    {
      "cell_type": "code",
      "metadata": {
        "id": "aNqRNz1PMc5q",
        "colab": {
          "base_uri": "https://localhost:8080/",
          "height": 360
        },
        "outputId": "7e9fb1f3-3441-4956-98b6-9760514e9101"
      },
      "source": [
        "# Show the top 5 rows\n",
        "display(data_df.head())\n",
        "# Summarize the data\n",
        "data_df.describe()"
      ],
      "execution_count": 117,
      "outputs": [
        {
          "output_type": "display_data",
          "data": {
            "text/html": [
              "<div>\n",
              "<style scoped>\n",
              "    .dataframe tbody tr th:only-of-type {\n",
              "        vertical-align: middle;\n",
              "    }\n",
              "\n",
              "    .dataframe tbody tr th {\n",
              "        vertical-align: top;\n",
              "    }\n",
              "\n",
              "    .dataframe thead th {\n",
              "        text-align: right;\n",
              "    }\n",
              "</style>\n",
              "<table border=\"1\" class=\"dataframe\">\n",
              "  <thead>\n",
              "    <tr style=\"text-align: right;\">\n",
              "      <th></th>\n",
              "      <th>Sentence Utterance</th>\n",
              "      <th>Action</th>\n",
              "      <th>Object</th>\n",
              "    </tr>\n",
              "  </thead>\n",
              "  <tbody>\n",
              "    <tr>\n",
              "      <th>0</th>\n",
              "      <td>&lt;PHONE_NUMBER_REMOVED&gt; ผมไปจ่ายเงินที่ Counte...</td>\n",
              "      <td>enquire</td>\n",
              "      <td>payment</td>\n",
              "    </tr>\n",
              "    <tr>\n",
              "      <th>1</th>\n",
              "      <td>internet ยังความเร็วอยุ่เท่าไหร ครับ</td>\n",
              "      <td>enquire</td>\n",
              "      <td>package</td>\n",
              "    </tr>\n",
              "    <tr>\n",
              "      <th>2</th>\n",
              "      <td>ตะกี้ไปชำระค่าบริการไปแล้ว แต่ยังใช้งานไม่ได้...</td>\n",
              "      <td>report</td>\n",
              "      <td>suspend</td>\n",
              "    </tr>\n",
              "    <tr>\n",
              "      <th>3</th>\n",
              "      <td>พี่ค่ะยังใช้ internet ไม่ได้เลยค่ะ เป็นเครื่อ...</td>\n",
              "      <td>enquire</td>\n",
              "      <td>internet</td>\n",
              "    </tr>\n",
              "    <tr>\n",
              "      <th>4</th>\n",
              "      <td>ฮาโหล คะ พอดีว่าเมื่อวานเปิดซิมทรูมูฟ แต่มันโ...</td>\n",
              "      <td>report</td>\n",
              "      <td>phone_issues</td>\n",
              "    </tr>\n",
              "  </tbody>\n",
              "</table>\n",
              "</div>"
            ],
            "text/plain": [
              "                                  Sentence Utterance   Action        Object\n",
              "0   <PHONE_NUMBER_REMOVED> ผมไปจ่ายเงินที่ Counte...  enquire       payment\n",
              "1               internet ยังความเร็วอยุ่เท่าไหร ครับ  enquire       package\n",
              "2   ตะกี้ไปชำระค่าบริการไปแล้ว แต่ยังใช้งานไม่ได้...   report       suspend\n",
              "3   พี่ค่ะยังใช้ internet ไม่ได้เลยค่ะ เป็นเครื่อ...  enquire      internet\n",
              "4   ฮาโหล คะ พอดีว่าเมื่อวานเปิดซิมทรูมูฟ แต่มันโ...   report  phone_issues"
            ]
          },
          "metadata": {
            "tags": []
          }
        },
        {
          "output_type": "execute_result",
          "data": {
            "text/html": [
              "<div>\n",
              "<style scoped>\n",
              "    .dataframe tbody tr th:only-of-type {\n",
              "        vertical-align: middle;\n",
              "    }\n",
              "\n",
              "    .dataframe tbody tr th {\n",
              "        vertical-align: top;\n",
              "    }\n",
              "\n",
              "    .dataframe thead th {\n",
              "        text-align: right;\n",
              "    }\n",
              "</style>\n",
              "<table border=\"1\" class=\"dataframe\">\n",
              "  <thead>\n",
              "    <tr style=\"text-align: right;\">\n",
              "      <th></th>\n",
              "      <th>Sentence Utterance</th>\n",
              "      <th>Action</th>\n",
              "      <th>Object</th>\n",
              "    </tr>\n",
              "  </thead>\n",
              "  <tbody>\n",
              "    <tr>\n",
              "      <th>count</th>\n",
              "      <td>16175</td>\n",
              "      <td>16175</td>\n",
              "      <td>16175</td>\n",
              "    </tr>\n",
              "    <tr>\n",
              "      <th>unique</th>\n",
              "      <td>13389</td>\n",
              "      <td>10</td>\n",
              "      <td>33</td>\n",
              "    </tr>\n",
              "    <tr>\n",
              "      <th>top</th>\n",
              "      <td>บริการอื่นๆ</td>\n",
              "      <td>enquire</td>\n",
              "      <td>service</td>\n",
              "    </tr>\n",
              "    <tr>\n",
              "      <th>freq</th>\n",
              "      <td>97</td>\n",
              "      <td>10377</td>\n",
              "      <td>2525</td>\n",
              "    </tr>\n",
              "  </tbody>\n",
              "</table>\n",
              "</div>"
            ],
            "text/plain": [
              "       Sentence Utterance   Action   Object\n",
              "count               16175    16175    16175\n",
              "unique              13389       10       33\n",
              "top           บริการอื่นๆ  enquire  service\n",
              "freq                   97    10377     2525"
            ]
          },
          "metadata": {
            "tags": []
          },
          "execution_count": 117
        }
      ]
    },
    {
      "cell_type": "markdown",
      "metadata": {
        "id": "jGd8BNvMMc5y"
      },
      "source": [
        "## Data cleaning\n",
        "\n",
        "We call the DataFrame.describe() again.\n",
        "Notice that there are 33 unique labels/classes for object and 10 unique labels for action that the model will try to predict.\n",
        "But there are unwanted duplications e.g. Idd,idd,lotalty_card,Lotalty_card\n",
        "\n",
        "Also note that, there are 13389 unqiue sentence utterances from 16175 utterances. You have to clean that too!\n",
        "\n",
        "## #TODO 1: \n",
        "You will have to remove unwanted label duplications as well as duplications in text inputs. \n",
        "Also, you will have to trim out unwanted whitespaces from the text inputs. \n",
        "This shouldn't be too hard, as you have already seen it in the demo.\n",
        "\n"
      ]
    },
    {
      "cell_type": "code",
      "metadata": {
        "id": "V0bGLblVMc5z",
        "colab": {
          "base_uri": "https://localhost:8080/",
          "height": 326
        },
        "outputId": "8d43d1ca-69f5-4988-b721-ecaa9919d080"
      },
      "source": [
        "display(data_df.describe())\n",
        "display(data_df.Object.unique())\n",
        "display(data_df.Action.unique())"
      ],
      "execution_count": 118,
      "outputs": [
        {
          "output_type": "display_data",
          "data": {
            "text/html": [
              "<div>\n",
              "<style scoped>\n",
              "    .dataframe tbody tr th:only-of-type {\n",
              "        vertical-align: middle;\n",
              "    }\n",
              "\n",
              "    .dataframe tbody tr th {\n",
              "        vertical-align: top;\n",
              "    }\n",
              "\n",
              "    .dataframe thead th {\n",
              "        text-align: right;\n",
              "    }\n",
              "</style>\n",
              "<table border=\"1\" class=\"dataframe\">\n",
              "  <thead>\n",
              "    <tr style=\"text-align: right;\">\n",
              "      <th></th>\n",
              "      <th>Sentence Utterance</th>\n",
              "      <th>Action</th>\n",
              "      <th>Object</th>\n",
              "    </tr>\n",
              "  </thead>\n",
              "  <tbody>\n",
              "    <tr>\n",
              "      <th>count</th>\n",
              "      <td>16175</td>\n",
              "      <td>16175</td>\n",
              "      <td>16175</td>\n",
              "    </tr>\n",
              "    <tr>\n",
              "      <th>unique</th>\n",
              "      <td>13389</td>\n",
              "      <td>10</td>\n",
              "      <td>33</td>\n",
              "    </tr>\n",
              "    <tr>\n",
              "      <th>top</th>\n",
              "      <td>บริการอื่นๆ</td>\n",
              "      <td>enquire</td>\n",
              "      <td>service</td>\n",
              "    </tr>\n",
              "    <tr>\n",
              "      <th>freq</th>\n",
              "      <td>97</td>\n",
              "      <td>10377</td>\n",
              "      <td>2525</td>\n",
              "    </tr>\n",
              "  </tbody>\n",
              "</table>\n",
              "</div>"
            ],
            "text/plain": [
              "       Sentence Utterance   Action   Object\n",
              "count               16175    16175    16175\n",
              "unique              13389       10       33\n",
              "top           บริการอื่นๆ  enquire  service\n",
              "freq                   97    10377     2525"
            ]
          },
          "metadata": {
            "tags": []
          }
        },
        {
          "output_type": "display_data",
          "data": {
            "text/plain": [
              "array(['payment', 'package', 'suspend', 'internet', 'phone_issues',\n",
              "       'service', 'nonTrueMove', 'balance', 'detail', 'bill', 'credit',\n",
              "       'promotion', 'mobile_setting', 'iservice', 'roaming', 'truemoney',\n",
              "       'information', 'lost_stolen', 'balance_minutes', 'idd',\n",
              "       'TrueMoney', 'garbage', 'Payment', 'IDD', 'ringtone', 'Idd',\n",
              "       'rate', 'loyalty_card', 'contact', 'officer', 'Balance', 'Service',\n",
              "       'Loyalty_card'], dtype=object)"
            ]
          },
          "metadata": {
            "tags": []
          }
        },
        {
          "output_type": "display_data",
          "data": {
            "text/plain": [
              "array(['enquire', 'report', 'cancel', 'Enquire', 'buy', 'activate',\n",
              "       'request', 'Report', 'garbage', 'change'], dtype=object)"
            ]
          },
          "metadata": {
            "tags": []
          }
        }
      ]
    },
    {
      "cell_type": "code",
      "metadata": {
        "id": "19onNNUZMc54",
        "colab": {
          "base_uri": "https://localhost:8080/",
          "height": 309
        },
        "outputId": "3865c27b-bf0c-4cee-cefd-635540d9f334"
      },
      "source": [
        "# TODO1: Data cleaning\r\n",
        "data_df.Action = data_df.Action.str.lower().copy()\r\n",
        "data_df.Object = data_df.Object.str.lower().copy()\r\n",
        "\r\n",
        "display(data_df.describe())\r\n",
        "display(data_df.Object.unique())\r\n",
        "display(data_df.Action.unique())"
      ],
      "execution_count": 119,
      "outputs": [
        {
          "output_type": "display_data",
          "data": {
            "text/html": [
              "<div>\n",
              "<style scoped>\n",
              "    .dataframe tbody tr th:only-of-type {\n",
              "        vertical-align: middle;\n",
              "    }\n",
              "\n",
              "    .dataframe tbody tr th {\n",
              "        vertical-align: top;\n",
              "    }\n",
              "\n",
              "    .dataframe thead th {\n",
              "        text-align: right;\n",
              "    }\n",
              "</style>\n",
              "<table border=\"1\" class=\"dataframe\">\n",
              "  <thead>\n",
              "    <tr style=\"text-align: right;\">\n",
              "      <th></th>\n",
              "      <th>Sentence Utterance</th>\n",
              "      <th>Action</th>\n",
              "      <th>Object</th>\n",
              "    </tr>\n",
              "  </thead>\n",
              "  <tbody>\n",
              "    <tr>\n",
              "      <th>count</th>\n",
              "      <td>16175</td>\n",
              "      <td>16175</td>\n",
              "      <td>16175</td>\n",
              "    </tr>\n",
              "    <tr>\n",
              "      <th>unique</th>\n",
              "      <td>13389</td>\n",
              "      <td>8</td>\n",
              "      <td>26</td>\n",
              "    </tr>\n",
              "    <tr>\n",
              "      <th>top</th>\n",
              "      <td>บริการอื่นๆ</td>\n",
              "      <td>enquire</td>\n",
              "      <td>service</td>\n",
              "    </tr>\n",
              "    <tr>\n",
              "      <th>freq</th>\n",
              "      <td>97</td>\n",
              "      <td>10484</td>\n",
              "      <td>2528</td>\n",
              "    </tr>\n",
              "  </tbody>\n",
              "</table>\n",
              "</div>"
            ],
            "text/plain": [
              "       Sentence Utterance   Action   Object\n",
              "count               16175    16175    16175\n",
              "unique              13389        8       26\n",
              "top           บริการอื่นๆ  enquire  service\n",
              "freq                   97    10484     2528"
            ]
          },
          "metadata": {
            "tags": []
          }
        },
        {
          "output_type": "display_data",
          "data": {
            "text/plain": [
              "array(['payment', 'package', 'suspend', 'internet', 'phone_issues',\n",
              "       'service', 'nontruemove', 'balance', 'detail', 'bill', 'credit',\n",
              "       'promotion', 'mobile_setting', 'iservice', 'roaming', 'truemoney',\n",
              "       'information', 'lost_stolen', 'balance_minutes', 'idd', 'garbage',\n",
              "       'ringtone', 'rate', 'loyalty_card', 'contact', 'officer'],\n",
              "      dtype=object)"
            ]
          },
          "metadata": {
            "tags": []
          }
        },
        {
          "output_type": "display_data",
          "data": {
            "text/plain": [
              "array(['enquire', 'report', 'cancel', 'buy', 'activate', 'request',\n",
              "       'garbage', 'change'], dtype=object)"
            ]
          },
          "metadata": {
            "tags": []
          }
        }
      ]
    },
    {
      "cell_type": "code",
      "metadata": {
        "colab": {
          "base_uri": "https://localhost:8080/",
          "height": 173
        },
        "id": "8H4rgzfDqPlk",
        "outputId": "cfb3b918-b656-4fec-aafd-5e398d83c802"
      },
      "source": [
        "data_df = data_df.drop_duplicates(\"Sentence Utterance\", keep='first')\r\n",
        "display(data_df.describe())"
      ],
      "execution_count": 120,
      "outputs": [
        {
          "output_type": "display_data",
          "data": {
            "text/html": [
              "<div>\n",
              "<style scoped>\n",
              "    .dataframe tbody tr th:only-of-type {\n",
              "        vertical-align: middle;\n",
              "    }\n",
              "\n",
              "    .dataframe tbody tr th {\n",
              "        vertical-align: top;\n",
              "    }\n",
              "\n",
              "    .dataframe thead th {\n",
              "        text-align: right;\n",
              "    }\n",
              "</style>\n",
              "<table border=\"1\" class=\"dataframe\">\n",
              "  <thead>\n",
              "    <tr style=\"text-align: right;\">\n",
              "      <th></th>\n",
              "      <th>Sentence Utterance</th>\n",
              "      <th>Action</th>\n",
              "      <th>Object</th>\n",
              "    </tr>\n",
              "  </thead>\n",
              "  <tbody>\n",
              "    <tr>\n",
              "      <th>count</th>\n",
              "      <td>13389</td>\n",
              "      <td>13389</td>\n",
              "      <td>13389</td>\n",
              "    </tr>\n",
              "    <tr>\n",
              "      <th>unique</th>\n",
              "      <td>13389</td>\n",
              "      <td>8</td>\n",
              "      <td>26</td>\n",
              "    </tr>\n",
              "    <tr>\n",
              "      <th>top</th>\n",
              "      <td>เด๋วพี่ขอปรึกษาหน่อยนะ น้องสามารถเช็คโปรโมชั่น...</td>\n",
              "      <td>enquire</td>\n",
              "      <td>service</td>\n",
              "    </tr>\n",
              "    <tr>\n",
              "      <th>freq</th>\n",
              "      <td>1</td>\n",
              "      <td>8658</td>\n",
              "      <td>2111</td>\n",
              "    </tr>\n",
              "  </tbody>\n",
              "</table>\n",
              "</div>"
            ],
            "text/plain": [
              "                                       Sentence Utterance   Action   Object\n",
              "count                                               13389    13389    13389\n",
              "unique                                              13389        8       26\n",
              "top     เด๋วพี่ขอปรึกษาหน่อยนะ น้องสามารถเช็คโปรโมชั่น...  enquire  service\n",
              "freq                                                    1     8658     2111"
            ]
          },
          "metadata": {
            "tags": []
          }
        }
      ]
    },
    {
      "cell_type": "code",
      "metadata": {
        "id": "ny0IVKLds6bt"
      },
      "source": [
        "data_df = data_df.rename(columns={\"Sentence Utterance\": \"input\"})"
      ],
      "execution_count": 121,
      "outputs": []
    },
    {
      "cell_type": "code",
      "metadata": {
        "id": "WX0ZxiRXtAZt"
      },
      "source": [
        "## strip space before input\r\n",
        "data_df.input = data_df.input.str.strip()"
      ],
      "execution_count": 122,
      "outputs": []
    },
    {
      "cell_type": "code",
      "metadata": {
        "id": "TbakJzu4FA8E"
      },
      "source": [
        "data_df.to_csv('checkpoint.csv', index=False)"
      ],
      "execution_count": 124,
      "outputs": []
    },
    {
      "cell_type": "markdown",
      "metadata": {
        "id": "7BZZYPuIMc59"
      },
      "source": [
        "## #TODO 2: Preprocessing data for Keras\n",
        "You will be using Tensorflow 2 keras in this assignment. Please show us how you prepare your data for keras.\n",
        "Don't forget to split data into train and test sets (+ validation set if you want)"
      ]
    },
    {
      "cell_type": "code",
      "metadata": {
        "id": "VgIzscos--5P"
      },
      "source": [
        "import tensorflow as tf"
      ],
      "execution_count": 125,
      "outputs": []
    },
    {
      "cell_type": "code",
      "metadata": {
        "id": "S5AP0fVMwR5w",
        "outputId": "a536df3d-d045-4308-e2b7-2e5e4d0b3a5e",
        "colab": {
          "base_uri": "https://localhost:8080/"
        }
      },
      "source": [
        "!pip install pythainlp"
      ],
      "execution_count": 126,
      "outputs": [
        {
          "output_type": "stream",
          "text": [
            "Requirement already satisfied: pythainlp in /usr/local/lib/python3.7/dist-packages (2.2.6)\n",
            "Requirement already satisfied: tinydb>=3.0 in /usr/local/lib/python3.7/dist-packages (from pythainlp) (4.4.0)\n",
            "Requirement already satisfied: python-crfsuite>=0.9.6 in /usr/local/lib/python3.7/dist-packages (from pythainlp) (0.9.7)\n",
            "Requirement already satisfied: requests>=2.22.0 in /usr/local/lib/python3.7/dist-packages (from pythainlp) (2.23.0)\n",
            "Requirement already satisfied: chardet<4,>=3.0.2 in /usr/local/lib/python3.7/dist-packages (from requests>=2.22.0->pythainlp) (3.0.4)\n",
            "Requirement already satisfied: idna<3,>=2.5 in /usr/local/lib/python3.7/dist-packages (from requests>=2.22.0->pythainlp) (2.10)\n",
            "Requirement already satisfied: certifi>=2017.4.17 in /usr/local/lib/python3.7/dist-packages (from requests>=2.22.0->pythainlp) (2020.12.5)\n",
            "Requirement already satisfied: urllib3!=1.25.0,!=1.25.1,<1.26,>=1.21.1 in /usr/local/lib/python3.7/dist-packages (from requests>=2.22.0->pythainlp) (1.24.3)\n"
          ],
          "name": "stdout"
        }
      ]
    },
    {
      "cell_type": "code",
      "metadata": {
        "id": "VMFPFISewKGr"
      },
      "source": [
        "from pythainlp import word_tokenize, Tokenizer\r\n",
        "from pythainlp.util.trie import dict_trie\r\n",
        "from pythainlp.corpus.common import thai_words"
      ],
      "execution_count": 127,
      "outputs": []
    },
    {
      "cell_type": "code",
      "metadata": {
        "id": "SycOJ6cDMc5_",
        "colab": {
          "base_uri": "https://localhost:8080/",
          "height": 419
        },
        "outputId": "8d1a7c5f-44f7-4f19-da45-c88e4ed266b9"
      },
      "source": [
        "# TODO2: Preprocessing data for Keras\r\n",
        "data_df = pandas.read_csv('checkpoint.csv')\r\n",
        "display(data_df)\r\n",
        "data = data_df.to_numpy()"
      ],
      "execution_count": 128,
      "outputs": [
        {
          "output_type": "display_data",
          "data": {
            "text/html": [
              "<div>\n",
              "<style scoped>\n",
              "    .dataframe tbody tr th:only-of-type {\n",
              "        vertical-align: middle;\n",
              "    }\n",
              "\n",
              "    .dataframe tbody tr th {\n",
              "        vertical-align: top;\n",
              "    }\n",
              "\n",
              "    .dataframe thead th {\n",
              "        text-align: right;\n",
              "    }\n",
              "</style>\n",
              "<table border=\"1\" class=\"dataframe\">\n",
              "  <thead>\n",
              "    <tr style=\"text-align: right;\">\n",
              "      <th></th>\n",
              "      <th>input</th>\n",
              "      <th>Action</th>\n",
              "      <th>Object</th>\n",
              "    </tr>\n",
              "  </thead>\n",
              "  <tbody>\n",
              "    <tr>\n",
              "      <th>0</th>\n",
              "      <td>&lt;PHONE_NUMBER_REMOVED&gt; ผมไปจ่ายเงินที่ Counter...</td>\n",
              "      <td>enquire</td>\n",
              "      <td>payment</td>\n",
              "    </tr>\n",
              "    <tr>\n",
              "      <th>1</th>\n",
              "      <td>internet ยังความเร็วอยุ่เท่าไหร ครับ</td>\n",
              "      <td>enquire</td>\n",
              "      <td>package</td>\n",
              "    </tr>\n",
              "    <tr>\n",
              "      <th>2</th>\n",
              "      <td>ตะกี้ไปชำระค่าบริการไปแล้ว แต่ยังใช้งานไม่ได้ ค่ะ</td>\n",
              "      <td>report</td>\n",
              "      <td>suspend</td>\n",
              "    </tr>\n",
              "    <tr>\n",
              "      <th>3</th>\n",
              "      <td>พี่ค่ะยังใช้ internet ไม่ได้เลยค่ะ เป็นเครื่อง...</td>\n",
              "      <td>enquire</td>\n",
              "      <td>internet</td>\n",
              "    </tr>\n",
              "    <tr>\n",
              "      <th>4</th>\n",
              "      <td>ฮาโหล คะ พอดีว่าเมื่อวานเปิดซิมทรูมูฟ แต่มันโท...</td>\n",
              "      <td>report</td>\n",
              "      <td>phone_issues</td>\n",
              "    </tr>\n",
              "    <tr>\n",
              "      <th>...</th>\n",
              "      <td>...</td>\n",
              "      <td>...</td>\n",
              "      <td>...</td>\n",
              "    </tr>\n",
              "    <tr>\n",
              "      <th>13384</th>\n",
              "      <td>ต้องการทราบวันตัดรอบบิลค่ะ</td>\n",
              "      <td>enquire</td>\n",
              "      <td>bill</td>\n",
              "    </tr>\n",
              "    <tr>\n",
              "      <th>13385</th>\n",
              "      <td>เชื่อมต่ออินเตอร์เน็ตไม่ได้ค่ะ</td>\n",
              "      <td>enquire</td>\n",
              "      <td>internet</td>\n",
              "    </tr>\n",
              "    <tr>\n",
              "      <th>13386</th>\n",
              "      <td>ยอดเงินเหลือเท่าไหร่ค่ะ</td>\n",
              "      <td>enquire</td>\n",
              "      <td>balance</td>\n",
              "    </tr>\n",
              "    <tr>\n",
              "      <th>13387</th>\n",
              "      <td>ยอดเงินในระบบ</td>\n",
              "      <td>enquire</td>\n",
              "      <td>balance</td>\n",
              "    </tr>\n",
              "    <tr>\n",
              "      <th>13388</th>\n",
              "      <td>สอบถามโปรโมชั่นปัจจุบันที่ใช้อยู่ค่ะ</td>\n",
              "      <td>enquire</td>\n",
              "      <td>package</td>\n",
              "    </tr>\n",
              "  </tbody>\n",
              "</table>\n",
              "<p>13389 rows × 3 columns</p>\n",
              "</div>"
            ],
            "text/plain": [
              "                                                   input   Action        Object\n",
              "0      <PHONE_NUMBER_REMOVED> ผมไปจ่ายเงินที่ Counter...  enquire       payment\n",
              "1                   internet ยังความเร็วอยุ่เท่าไหร ครับ  enquire       package\n",
              "2      ตะกี้ไปชำระค่าบริการไปแล้ว แต่ยังใช้งานไม่ได้ ค่ะ   report       suspend\n",
              "3      พี่ค่ะยังใช้ internet ไม่ได้เลยค่ะ เป็นเครื่อง...  enquire      internet\n",
              "4      ฮาโหล คะ พอดีว่าเมื่อวานเปิดซิมทรูมูฟ แต่มันโท...   report  phone_issues\n",
              "...                                                  ...      ...           ...\n",
              "13384                         ต้องการทราบวันตัดรอบบิลค่ะ  enquire          bill\n",
              "13385                     เชื่อมต่ออินเตอร์เน็ตไม่ได้ค่ะ  enquire      internet\n",
              "13386                            ยอดเงินเหลือเท่าไหร่ค่ะ  enquire       balance\n",
              "13387                                      ยอดเงินในระบบ  enquire       balance\n",
              "13388               สอบถามโปรโมชั่นปัจจุบันที่ใช้อยู่ค่ะ  enquire       package\n",
              "\n",
              "[13389 rows x 3 columns]"
            ]
          },
          "metadata": {
            "tags": []
          }
        }
      ]
    },
    {
      "cell_type": "code",
      "metadata": {
        "id": "4w1ONKrgvH3d"
      },
      "source": [
        "action_labels = data_df.Action.unique()\r\n",
        "object_labels = data_df.Object.unique()\r\n",
        "\r\n",
        "action2idx = dict(zip(action_labels, range(len(action_labels))))\r\n",
        "idx2action = dict(zip(range(len(action_labels)), action_labels))\r\n",
        "\r\n",
        "object2idx = dict(zip(object_labels, range(len(object_labels))))\r\n",
        "idx2object = dict(zip(range(len(object_labels)), object_labels))\r\n",
        "\r\n",
        "# display(action2index)\r\n",
        "# display(index2action)\r\n",
        "\r\n",
        "# display(object2index)\r\n",
        "# display(index2object)\r\n",
        "\r\n",
        "data[:,1] = np.vectorize(action2idx.get)(data[:,1])\r\n",
        "data[:,2] = np.vectorize(object2idx.get)(data[:,2])"
      ],
      "execution_count": 129,
      "outputs": []
    },
    {
      "cell_type": "code",
      "metadata": {
        "id": "xz8wFs4BwxD3",
        "outputId": "8c491ad2-26a1-4120-884a-f13a2ab4229c",
        "colab": {
          "base_uri": "https://localhost:8080/"
        }
      },
      "source": [
        "words = [\"<PHONE_NUMBER_REMOVED>\"]\r\n",
        "custom_words_list = set(thai_words())\r\n",
        "custom_words_list.update(words)\r\n",
        "trie = dict_trie(dict_source=custom_words_list)\r\n",
        "\r\n",
        "custom_tokenizer = Tokenizer(custom_dict=trie, engine='newmm')\r\n",
        "sentence_data = [custom_tokenizer.word_tokenize(data[i,0]) for i in range(data.shape[0])]\r\n",
        "print(sentence_data[:5])"
      ],
      "execution_count": 130,
      "outputs": [
        {
          "output_type": "stream",
          "text": [
            "[['<PHONE_NUMBER_REMOVED>', ' ', 'ผม', 'ไป', 'จ่าย', 'เงิน', 'ที่', ' ', 'Counter', ' ', 'Services', ' ', 'เค้า', 'เช็ต', ' ', '3276.25', ' ', 'บาท', ' ', 'เมื่อวาน', 'ที่', 'ผม', 'เช็ค', 'ที่', 'ศูนย์', 'บอก', 'มี', 'ยอด', ' ', '3057.79', ' ', 'บาท'], ['internet', ' ', 'ยัง', 'ความเร็ว', 'อยุ่', 'เท่า', 'ไห', 'ร', ' ', 'ครับ'], ['ตะกี้', 'ไป', 'ชำระ', 'ค่าบริการ', 'ไป', 'แล้ว', ' ', 'แต่', 'ยัง', 'ใช้งาน', 'ไม่', 'ได้', ' ', 'ค่ะ'], ['พี่', 'ค่ะ', 'ยัง', 'ใช้', ' ', 'internet', ' ', 'ไม่', 'ได้', 'เลย', 'ค่ะ', ' ', 'เป็น', 'เครื่อง', ' ', 'โก', 'ลไล'], ['ฮา', 'โหล', ' ', 'คะ', ' ', 'พอดี', 'ว่า', 'เมื่อวาน', 'เปิด', 'ซิม', 'ทรูมูฟ', ' ', 'แต่', 'มัน', 'โทร', 'ออก', 'ไม่', 'ได้', 'คะ', ' ', 'แต่', 'เล่น', 'เนต', 'ได้', 'คะ']]\n"
          ],
          "name": "stdout"
        }
      ]
    },
    {
      "cell_type": "code",
      "metadata": {
        "id": "uwTCoxkP4D3m",
        "outputId": "3cb21c96-21dc-4786-a1bb-c42240da230d",
        "colab": {
          "base_uri": "https://localhost:8080/"
        }
      },
      "source": [
        "print('max len train', max([len(x) for x in sentence_data]))"
      ],
      "execution_count": 131,
      "outputs": [
        {
          "output_type": "stream",
          "text": [
            "max len train 124\n"
          ],
          "name": "stdout"
        }
      ]
    },
    {
      "cell_type": "code",
      "metadata": {
        "id": "yKknMRj4xVPl"
      },
      "source": [
        "train_data, test_data, y_train, y_test = sklearn.model_selection.train_test_split(sentence_data.copy(), data[:,1:3].copy(), test_size=0.2)\r\n",
        "\r\n",
        "\r\n",
        "\r\n",
        "# ya_train, ya_test = Y_train[:,0].copy(), Y_test[:,0].copy()\r\n",
        "# yo_train, yo_test = Y_train[:,1].copy(), Y_test[:,1].copy()\r\n",
        "\r\n",
        "# print(ya_train.shape, yo_train.shape)\r\n",
        "# print(np.max(ya_train))\r\n",
        "# print(np.max(yo_train))"
      ],
      "execution_count": 132,
      "outputs": []
    },
    {
      "cell_type": "code",
      "metadata": {
        "id": "f2mVuAJC4qjh"
      },
      "source": [
        "word2idx = {}\r\n",
        "idx2word = {}\r\n",
        "for sent in train_data:\r\n",
        "  for word in sent:\r\n",
        "    if word not in word2idx:\r\n",
        "      word2idx[word] = len(word2idx)+1\r\n",
        "      idx2word[word2idx[word]] = word\r\n",
        "word2idx['UNK'] = len(word2idx)"
      ],
      "execution_count": 133,
      "outputs": []
    },
    {
      "cell_type": "code",
      "metadata": {
        "id": "Rmm4Xabx8Gyv",
        "outputId": "cedd37c7-fb81-46c8-decf-60e76f563db2",
        "colab": {
          "base_uri": "https://localhost:8080/"
        }
      },
      "source": [
        "def sent2features(sent, emb_dict=word2idx):\r\n",
        "  return np.asarray([word2idx.get(w, word2idx['UNK']) for w in sent])\r\n",
        "\r\n",
        "sent2features([\"ฉัน\",\"หิว\",\"โทร\",\"กดฟห\"])"
      ],
      "execution_count": 134,
      "outputs": [
        {
          "output_type": "execute_result",
          "data": {
            "text/plain": [
              "array([1963, 3754,    1, 3754])"
            ]
          },
          "metadata": {
            "tags": []
          },
          "execution_count": 134
        }
      ]
    },
    {
      "cell_type": "code",
      "metadata": {
        "id": "_z3yaAwX97Ne",
        "outputId": "b7a2fcf9-6e73-4482-e0f4-c67923b8ba55",
        "colab": {
          "base_uri": "https://localhost:8080/"
        }
      },
      "source": [
        "\r\n",
        "x_train = np.asarray([sent2features(sent) for sent in train_data])\r\n",
        "x_test = [sent2features(sent) for sent in test_data]\r\n",
        "print(x_train[100])\r\n",
        "x_train = tf.keras.preprocessing.sequence.pad_sequences(x_train, maxlen=128, dtype='int32', padding='post', truncating='pre', value=0.)\r\n",
        "x_test = tf.keras.preprocessing.sequence.pad_sequences(x_test, maxlen=128, dtype='int32', padding='post', truncating='pre', value=0.)\r\n",
        "print(x_train[100])"
      ],
      "execution_count": 168,
      "outputs": [
        {
          "output_type": "stream",
          "text": [
            "[ 43   9  12  39  45   9 340   9 309   9 114   9 402   9  12 103 289  70\n",
            "  57  43]\n",
            "[ 43.   9.  12.  39.  45.   9. 340.   9. 309.   9. 114.   9. 402.   9.\n",
            "  12. 103. 289.  70.  57.  43.   0.   0.   0.   0.   0.   0.   0.   0.\n",
            "   0.   0.   0.   0.   0.   0.   0.   0.   0.   0.   0.   0.   0.   0.\n",
            "   0.   0.   0.   0.   0.   0.   0.   0.   0.   0.   0.   0.   0.   0.\n",
            "   0.   0.   0.   0.   0.   0.   0.   0.   0.   0.   0.   0.   0.   0.\n",
            "   0.   0.   0.   0.   0.   0.   0.   0.   0.   0.   0.   0.   0.   0.\n",
            "   0.   0.   0.   0.   0.   0.   0.   0.   0.   0.   0.   0.   0.   0.\n",
            "   0.   0.   0.   0.   0.   0.   0.   0.   0.   0.   0.   0.   0.   0.\n",
            "   0.   0.   0.   0.   0.   0.   0.   0.   0.   0.   0.   0.   0.   0.\n",
            "   0.   0.]\n"
          ],
          "name": "stdout"
        },
        {
          "output_type": "stream",
          "text": [
            "/usr/local/lib/python3.7/dist-packages/numpy/core/_asarray.py:83: VisibleDeprecationWarning: Creating an ndarray from ragged nested sequences (which is a list-or-tuple of lists-or-tuples-or ndarrays with different lengths or shapes) is deprecated. If you meant to do this, you must specify 'dtype=object' when creating the ndarray\n",
            "  return array(a, dtype, copy=False, order=order)\n"
          ],
          "name": "stderr"
        }
      ]
    },
    {
      "cell_type": "code",
      "metadata": {
        "id": "d8a7g08z_I_I",
        "outputId": "14bfb2ad-622a-4189-8f16-6c0fc8e22d10",
        "colab": {
          "base_uri": "https://localhost:8080/"
        }
      },
      "source": [
        "from sklearn.preprocessing import OneHotEncoder\r\n",
        "\r\n",
        "naction = len(action2idx)\r\n",
        "nobject = len(object2idx)\r\n",
        "\r\n",
        "onehot_encoder = OneHotEncoder(sparse=False)\r\n",
        "ya_train = onehot_encoder.fit_transform(y_train[:,0].reshape(-1,1)).astype(np.float32)\r\n",
        "ya_test = onehot_encoder.fit_transform(y_test[:,0].reshape(-1,1)).astype(np.float32)\r\n",
        "yo_train = onehot_encoder.fit_transform(y_train[:,1].reshape(-1,1)).astype(np.float32)\r\n",
        "yo_test = onehot_encoder.fit_transform(y_test[:,1].reshape(-1,1)).astype(np.float32)\r\n",
        "\r\n",
        "print('action test', ya_test.shape)\r\n",
        "print('action train', ya_train.shape)\r\n",
        "print('object test', yo_test.shape)\r\n",
        "print('object train', yo_train.shape)\r\n",
        "\r\n",
        "print('nclass action', naction)\r\n",
        "print('nclass object', nobject)"
      ],
      "execution_count": 170,
      "outputs": [
        {
          "output_type": "stream",
          "text": [
            "action test (2678, 8)\n",
            "action train (10711, 8)\n",
            "object test (2678, 26)\n",
            "object train (10711, 26)\n",
            "nclass action 8\n",
            "nclass object 26\n"
          ],
          "name": "stdout"
        }
      ]
    },
    {
      "cell_type": "markdown",
      "metadata": {
        "id": "-tXZiLZ4Mc6E"
      },
      "source": [
        "## #TODO 3: Build and evaluate a model for \"action\" classification\n"
      ]
    },
    {
      "cell_type": "code",
      "metadata": {
        "id": "xNpq_t3hMajY"
      },
      "source": [
        "from tensorflow.keras.backend import clear_session\r\n",
        "from tensorflow.keras.models import Sequential, Model\r\n",
        "from tensorflow.keras.layers import Embedding, Reshape, Activation, Input, Dense,GRU,Reshape,TimeDistributed,Bidirectional,Dropout,Masking, SimpleRNN\r\n",
        "from tensorflow.keras.optimizers import Adam"
      ],
      "execution_count": 162,
      "outputs": []
    },
    {
      "cell_type": "code",
      "metadata": {
        "id": "sYXnkcY7Mc6F",
        "outputId": "0c8ff896-86aa-4d6d-d546-56eda9a6322c",
        "colab": {
          "base_uri": "https://localhost:8080/"
        }
      },
      "source": [
        "#TODO 3: Build and evaluate a model for \"action\" classification\r\n",
        "clear_session()\r\n",
        "\r\n",
        "def getActionModel():\r\n",
        "  inputs = Input(shape=(128,), dtype='int32')\r\n",
        "  x = Embedding(len(word2idx), 32, input_length=128, mask_zero=True)(inputs)\r\n",
        "  x = Bidirectional(GRU(32, return_sequences=True))(x)\r\n",
        "  x = Dropout(0.2)(x)\r\n",
        "  # x = TimeDistributed(Dense(naction,activation='softmax'))(x)\r\n",
        "  x = SimpleRNN(128)(x)\r\n",
        "  x = Dense(naction, activation='softmax')(x)\r\n",
        "  model = Model(inputs, x)\r\n",
        "\r\n",
        "  \r\n",
        "\r\n",
        "  model.compile(optimizer=Adam(lr=0.001),  loss='categorical_crossentropy', metrics=['categorical_accuracy'])\r\n",
        "  return model\r\n",
        "\r\n",
        "model = getActionModel()\r\n",
        "model.summary()\r\n",
        "model.fit(x_train,y=ya_train, batch_size=64, epochs=7, verbose=1, validation_split=0.05)\r\n"
      ],
      "execution_count": 208,
      "outputs": [
        {
          "output_type": "stream",
          "text": [
            "Model: \"model\"\n",
            "_________________________________________________________________\n",
            "Layer (type)                 Output Shape              Param #   \n",
            "=================================================================\n",
            "input_1 (InputLayer)         [(None, 128)]             0         \n",
            "_________________________________________________________________\n",
            "embedding (Embedding)        (None, 128, 32)           120160    \n",
            "_________________________________________________________________\n",
            "bidirectional (Bidirectional (None, 128, 64)           12672     \n",
            "_________________________________________________________________\n",
            "dropout (Dropout)            (None, 128, 64)           0         \n",
            "_________________________________________________________________\n",
            "simple_rnn (SimpleRNN)       (None, 128)               24704     \n",
            "_________________________________________________________________\n",
            "dense (Dense)                (None, 8)                 1032      \n",
            "=================================================================\n",
            "Total params: 158,568\n",
            "Trainable params: 158,568\n",
            "Non-trainable params: 0\n",
            "_________________________________________________________________\n",
            "Epoch 1/7\n",
            "159/159 [==============================] - 37s 193ms/step - loss: 1.3402 - categorical_accuracy: 0.6207 - val_loss: 0.7190 - val_categorical_accuracy: 0.7799\n",
            "Epoch 2/7\n",
            "159/159 [==============================] - 29s 181ms/step - loss: 0.6762 - categorical_accuracy: 0.7834 - val_loss: 0.5373 - val_categorical_accuracy: 0.8284\n",
            "Epoch 3/7\n",
            "159/159 [==============================] - 30s 187ms/step - loss: 0.4608 - categorical_accuracy: 0.8587 - val_loss: 0.4480 - val_categorical_accuracy: 0.8526\n",
            "Epoch 4/7\n",
            "159/159 [==============================] - 29s 181ms/step - loss: 0.3629 - categorical_accuracy: 0.8865 - val_loss: 0.4327 - val_categorical_accuracy: 0.8507\n",
            "Epoch 5/7\n",
            "159/159 [==============================] - 30s 186ms/step - loss: 0.3142 - categorical_accuracy: 0.8955 - val_loss: 0.4459 - val_categorical_accuracy: 0.8489\n",
            "Epoch 6/7\n",
            "159/159 [==============================] - 30s 188ms/step - loss: 0.2766 - categorical_accuracy: 0.9066 - val_loss: 0.4858 - val_categorical_accuracy: 0.8657\n",
            "Epoch 7/7\n",
            "159/159 [==============================] - 28s 179ms/step - loss: 0.2689 - categorical_accuracy: 0.9103 - val_loss: 0.4901 - val_categorical_accuracy: 0.8451\n"
          ],
          "name": "stdout"
        },
        {
          "output_type": "execute_result",
          "data": {
            "text/plain": [
              "<tensorflow.python.keras.callbacks.History at 0x7f933cf53ed0>"
            ]
          },
          "metadata": {
            "tags": []
          },
          "execution_count": 208
        }
      ]
    },
    {
      "cell_type": "code",
      "metadata": {
        "id": "KjNc-do0SDuX",
        "outputId": "25e574cf-9515-487c-bd9c-08ba85112986",
        "colab": {
          "base_uri": "https://localhost:8080/"
        }
      },
      "source": [
        "model.save('action_bigru1')"
      ],
      "execution_count": 209,
      "outputs": [
        {
          "output_type": "stream",
          "text": [
            "2021-02-28:07:24:56 WARNING  [absl:241] Found untraced functions such as gru_cell_1_layer_call_and_return_conditional_losses, gru_cell_1_layer_call_fn, gru_cell_2_layer_call_and_return_conditional_losses, gru_cell_2_layer_call_fn, gru_cell_1_layer_call_fn while saving (showing 5 of 10). These functions will not be directly callable after loading.\n",
            "2021-02-28:07:24:56 WARNING  [absl:241] Found untraced functions such as gru_cell_1_layer_call_and_return_conditional_losses, gru_cell_1_layer_call_fn, gru_cell_2_layer_call_and_return_conditional_losses, gru_cell_2_layer_call_fn, gru_cell_1_layer_call_fn while saving (showing 5 of 10). These functions will not be directly callable after loading.\n"
          ],
          "name": "stderr"
        }
      ]
    },
    {
      "cell_type": "code",
      "metadata": {
        "id": "0xiqCXzOSoUl"
      },
      "source": [
        "def evaluate_action(y_true, y_pred):\r\n",
        "    y_true = y_true.argmax(axis=1)\r\n",
        "    y_pred = y_pred.argmax(axis=1)\r\n",
        "    print(sklearn.metrics.classification_report(y_true, y_pred, target_names=[idx2action[i] for i in range(8)]))\r\n",
        "    print('accuracy', np.sum(y_true==y_pred)/y_true.size)"
      ],
      "execution_count": 210,
      "outputs": []
    },
    {
      "cell_type": "code",
      "metadata": {
        "id": "XCsp1oe7bbm7",
        "outputId": "aa5eed55-7f4b-4256-d4af-94444a765134",
        "colab": {
          "base_uri": "https://localhost:8080/"
        }
      },
      "source": [
        "ya_pred = model.predict(x_test)\r\n",
        "print(evaluate_action(ya_test, ya_pred))"
      ],
      "execution_count": 211,
      "outputs": [
        {
          "output_type": "stream",
          "text": [
            "              precision    recall  f1-score   support\n",
            "\n",
            "     enquire       0.91      0.87      0.89      1748\n",
            "      report       0.69      0.80      0.74       282\n",
            "      cancel       0.88      0.92      0.90       213\n",
            "         buy       0.58      0.78      0.67       157\n",
            "    activate       0.71      0.70      0.70       106\n",
            "     request       0.55      0.45      0.50        58\n",
            "     garbage       0.00      0.00      0.00        10\n",
            "      change       0.85      0.78      0.81       104\n",
            "\n",
            "    accuracy                           0.84      2678\n",
            "   macro avg       0.65      0.66      0.65      2678\n",
            "weighted avg       0.84      0.84      0.84      2678\n",
            "\n",
            "accuracy 0.8368185212845407\n",
            "None\n"
          ],
          "name": "stdout"
        },
        {
          "output_type": "stream",
          "text": [
            "/usr/local/lib/python3.7/dist-packages/sklearn/metrics/_classification.py:1272: UndefinedMetricWarning: Precision and F-score are ill-defined and being set to 0.0 in labels with no predicted samples. Use `zero_division` parameter to control this behavior.\n",
            "  _warn_prf(average, modifier, msg_start, len(result))\n"
          ],
          "name": "stderr"
        }
      ]
    },
    {
      "cell_type": "markdown",
      "metadata": {
        "id": "JLRUK0Q8Mc6J"
      },
      "source": [
        "## #TODO 4: Build and evaluate a model for \"object\" classification\n",
        "\n"
      ]
    },
    {
      "cell_type": "code",
      "metadata": {
        "id": "9evsrIiKMc6K",
        "outputId": "c8e473eb-fe1a-4147-d952-d9fcb08bcf98",
        "colab": {
          "base_uri": "https://localhost:8080/"
        }
      },
      "source": [
        "#TODO 4: Build and evaluate a model for \"object\" classification\r\n",
        "clear_session()\r\n",
        "def evaluate_object(y_true, y_pred):\r\n",
        "    y_true = y_true.argmax(axis=1)\r\n",
        "    y_pred = y_pred.argmax(axis=1)\r\n",
        "    print(sklearn.metrics.classification_report(y_true, y_pred, target_names=[idx2object[i] for i in range(26)]))\r\n",
        "    print('accuracy', np.sum(y_true==y_pred)/y_true.size)\r\n",
        "\r\n",
        "def getObjectModel():\r\n",
        "  inputs = Input(shape=(128,), dtype='int32')\r\n",
        "  x = Embedding(len(word2idx), 32, input_length=128, mask_zero=True)(inputs)\r\n",
        "  x = Bidirectional(GRU(32, return_sequences=True))(x)\r\n",
        "  x = Dropout(0.2)(x)\r\n",
        "  # x = TimeDistributed(Dense(naction,activation='softmax'))(x)\r\n",
        "  x = SimpleRNN(128)(x)\r\n",
        "  x = Dense(nobject, activation='softmax')(x)\r\n",
        "  model = Model(inputs, x)\r\n",
        "\r\n",
        "  \r\n",
        "\r\n",
        "  model.compile(optimizer=Adam(lr=0.001),  loss='categorical_crossentropy', metrics=['categorical_accuracy'])\r\n",
        "  return model\r\n",
        "\r\n",
        "model = getObjectModel()\r\n",
        "model.summary()\r\n",
        "model.fit(x_train,y=yo_train, batch_size=64, epochs=10, verbose=1, validation_split=0.05)"
      ],
      "execution_count": 227,
      "outputs": [
        {
          "output_type": "stream",
          "text": [
            "Model: \"model\"\n",
            "_________________________________________________________________\n",
            "Layer (type)                 Output Shape              Param #   \n",
            "=================================================================\n",
            "input_1 (InputLayer)         [(None, 128)]             0         \n",
            "_________________________________________________________________\n",
            "embedding (Embedding)        (None, 128, 32)           120160    \n",
            "_________________________________________________________________\n",
            "bidirectional (Bidirectional (None, 128, 64)           12672     \n",
            "_________________________________________________________________\n",
            "dropout (Dropout)            (None, 128, 64)           0         \n",
            "_________________________________________________________________\n",
            "simple_rnn (SimpleRNN)       (None, 128)               24704     \n",
            "_________________________________________________________________\n",
            "dense (Dense)                (None, 26)                3354      \n",
            "=================================================================\n",
            "Total params: 160,890\n",
            "Trainable params: 160,890\n",
            "Non-trainable params: 0\n",
            "_________________________________________________________________\n",
            "Epoch 1/10\n",
            "159/159 [==============================] - 40s 208ms/step - loss: 2.7317 - categorical_accuracy: 0.1732 - val_loss: 1.5871 - val_categorical_accuracy: 0.5504\n",
            "Epoch 2/10\n",
            "159/159 [==============================] - 28s 174ms/step - loss: 1.5776 - categorical_accuracy: 0.5271 - val_loss: 1.1342 - val_categorical_accuracy: 0.6530\n",
            "Epoch 3/10\n",
            "159/159 [==============================] - 29s 180ms/step - loss: 1.1696 - categorical_accuracy: 0.6411 - val_loss: 1.0078 - val_categorical_accuracy: 0.6922\n",
            "Epoch 4/10\n",
            "159/159 [==============================] - 28s 179ms/step - loss: 1.0606 - categorical_accuracy: 0.6757 - val_loss: 1.0090 - val_categorical_accuracy: 0.6884\n",
            "Epoch 5/10\n",
            "159/159 [==============================] - 28s 177ms/step - loss: 0.9053 - categorical_accuracy: 0.7333 - val_loss: 0.9707 - val_categorical_accuracy: 0.6996\n",
            "Epoch 6/10\n",
            "159/159 [==============================] - 30s 187ms/step - loss: 0.8080 - categorical_accuracy: 0.7517 - val_loss: 0.9836 - val_categorical_accuracy: 0.7183\n",
            "Epoch 7/10\n",
            "159/159 [==============================] - 28s 178ms/step - loss: 0.7526 - categorical_accuracy: 0.7787 - val_loss: 0.9394 - val_categorical_accuracy: 0.7276\n",
            "Epoch 8/10\n",
            "159/159 [==============================] - 29s 182ms/step - loss: 0.6773 - categorical_accuracy: 0.7978 - val_loss: 0.9037 - val_categorical_accuracy: 0.7444\n",
            "Epoch 9/10\n",
            "159/159 [==============================] - 29s 185ms/step - loss: 0.6119 - categorical_accuracy: 0.8245 - val_loss: 0.9405 - val_categorical_accuracy: 0.7127\n",
            "Epoch 10/10\n",
            "159/159 [==============================] - 29s 184ms/step - loss: 0.5843 - categorical_accuracy: 0.8296 - val_loss: 0.9295 - val_categorical_accuracy: 0.7332\n"
          ],
          "name": "stdout"
        },
        {
          "output_type": "execute_result",
          "data": {
            "text/plain": [
              "<tensorflow.python.keras.callbacks.History at 0x7f93372d6b50>"
            ]
          },
          "metadata": {
            "tags": []
          },
          "execution_count": 227
        }
      ]
    },
    {
      "cell_type": "code",
      "metadata": {
        "id": "mjDiW6KVeuNb",
        "outputId": "8bb75a11-5c8f-4834-b579-95030a7b83e1",
        "colab": {
          "base_uri": "https://localhost:8080/"
        }
      },
      "source": [
        "model.save('object_bigru1')"
      ],
      "execution_count": 228,
      "outputs": [
        {
          "output_type": "stream",
          "text": [
            "2021-02-28:07:37:04 WARNING  [absl:241] Found untraced functions such as gru_cell_1_layer_call_and_return_conditional_losses, gru_cell_1_layer_call_fn, gru_cell_2_layer_call_and_return_conditional_losses, gru_cell_2_layer_call_fn, gru_cell_1_layer_call_fn while saving (showing 5 of 10). These functions will not be directly callable after loading.\n",
            "2021-02-28:07:37:04 WARNING  [absl:241] Found untraced functions such as gru_cell_1_layer_call_and_return_conditional_losses, gru_cell_1_layer_call_fn, gru_cell_2_layer_call_and_return_conditional_losses, gru_cell_2_layer_call_fn, gru_cell_1_layer_call_fn while saving (showing 5 of 10). These functions will not be directly callable after loading.\n"
          ],
          "name": "stderr"
        }
      ]
    },
    {
      "cell_type": "code",
      "metadata": {
        "id": "LrCe65fBe0OJ",
        "outputId": "e8f940b7-ed5f-4776-d156-23791aae89f9",
        "colab": {
          "base_uri": "https://localhost:8080/"
        }
      },
      "source": [
        "yo_pred = model.predict(x_test)\r\n",
        "print(evaluate_object(yo_test, yo_pred))"
      ],
      "execution_count": 230,
      "outputs": [
        {
          "output_type": "stream",
          "text": [
            "                 precision    recall  f1-score   support\n",
            "\n",
            "        payment       0.56      0.59      0.57       131\n",
            "        package       0.66      0.74      0.70       371\n",
            "        suspend       0.70      0.81      0.75       140\n",
            "       internet       0.70      0.76      0.73       349\n",
            "   phone_issues       0.52      0.59      0.55       121\n",
            "        service       0.76      0.73      0.75       404\n",
            "    nontruemove       0.14      0.10      0.12        58\n",
            "        balance       0.81      0.84      0.82       296\n",
            "         detail       0.50      0.22      0.30        73\n",
            "           bill       0.61      0.61      0.61        97\n",
            "         credit       0.87      0.82      0.84        33\n",
            "      promotion       0.69      0.55      0.61       229\n",
            " mobile_setting       0.53      0.44      0.48        57\n",
            "       iservice       0.00      0.00      0.00        10\n",
            "        roaming       0.64      0.58      0.61        48\n",
            "      truemoney       0.81      0.82      0.82        51\n",
            "    information       0.34      0.43      0.38        63\n",
            "    lost_stolen       0.85      0.85      0.85        40\n",
            "balance_minutes       0.67      0.18      0.29        11\n",
            "            idd       0.74      0.79      0.76        47\n",
            "        garbage       0.00      0.00      0.00        10\n",
            "       ringtone       0.62      0.84      0.71        19\n",
            "           rate       0.00      0.00      0.00         5\n",
            "   loyalty_card       0.53      0.62      0.57        13\n",
            "        contact       0.00      0.00      0.00         1\n",
            "        officer       0.00      0.00      0.00         1\n",
            "\n",
            "       accuracy                           0.67      2678\n",
            "      macro avg       0.51      0.50      0.49      2678\n",
            "   weighted avg       0.66      0.67      0.66      2678\n",
            "\n",
            "accuracy 0.6721433905899925\n",
            "None\n"
          ],
          "name": "stdout"
        },
        {
          "output_type": "stream",
          "text": [
            "/usr/local/lib/python3.7/dist-packages/sklearn/metrics/_classification.py:1272: UndefinedMetricWarning: Precision and F-score are ill-defined and being set to 0.0 in labels with no predicted samples. Use `zero_division` parameter to control this behavior.\n",
            "  _warn_prf(average, modifier, msg_start, len(result))\n"
          ],
          "name": "stderr"
        }
      ]
    },
    {
      "cell_type": "markdown",
      "metadata": {
        "id": "bsAxmXfGMc6N"
      },
      "source": [
        "## #TODO 5: Build and evaluate a multi-task model that does both \"action\" and \"object\" classifications in one-go \n",
        "\n",
        "This can be a bit tricky, if you are not familiar with the Keras functional API. PLEASE READ these webpages(https://www.tensorflow.org/guide/keras/functional, https://keras.io/getting-started/functional-api-guide/) before you start this task.   \n",
        "\n",
        "Your model will have 2 separate output layers one for action classification task and another for object classification task. \n",
        "\n",
        "This is a rough sketch of what your model might look like:\n",
        "![image](https://raw.githubusercontent.com/ekapolc/nlp_course/master/HW5/multitask_sketch.png)"
      ]
    },
    {
      "cell_type": "code",
      "metadata": {
        "id": "MZX6wx49Mc6P",
        "outputId": "f26d9da6-54e1-4730-c9c3-cb3b54b2ad6c",
        "colab": {
          "base_uri": "https://localhost:8080/"
        }
      },
      "source": [
        "#TODO 5: Build and evaluate a multi-task model that does both \"action\" and \"object\" classifications in one-go\r\n",
        "def getMultiModel():\r\n",
        "  inputs = Input(shape=(128,), dtype='int32')\r\n",
        "  x = Embedding(len(word2idx), 32, input_length=128, mask_zero=True)(inputs)\r\n",
        "  x = Bidirectional(GRU(32, return_sequences=True))(x)\r\n",
        "  x = Dropout(0.2)(x)\r\n",
        "  # x = TimeDistributed(Dense(naction,activation='softmax'))(x)\r\n",
        "  x = SimpleRNN(128)(x)\r\n",
        "  xa = Dense(naction, activation='softmax', name='action')(x)\r\n",
        "  xo = Dense(nobject, activation='softmax', name='object')(x)\r\n",
        "  model = Model(inputs, outputs=[xa,xo])\r\n",
        "  model.compile(optimizer=Adam(lr=0.001),  loss={'action':'categorical_crossentropy', 'object':'categorical_crossentropy'}, loss_weights=[1.0, 1.0])\r\n",
        "  return model\r\n",
        "\r\n",
        "model = getMultiModel()\r\n",
        "model.summary()\r\n",
        "model.fit(x_train,{'action':ya_train, 'object':yo_train}, batch_size=64, epochs=17, verbose=1, validation_split=0.05)"
      ],
      "execution_count": 240,
      "outputs": [
        {
          "output_type": "stream",
          "text": [
            "Model: \"model_2\"\n",
            "__________________________________________________________________________________________________\n",
            "Layer (type)                    Output Shape         Param #     Connected to                     \n",
            "==================================================================================================\n",
            "input_3 (InputLayer)            [(None, 128)]        0                                            \n",
            "__________________________________________________________________________________________________\n",
            "embedding_2 (Embedding)         (None, 128, 32)      120160      input_3[0][0]                    \n",
            "__________________________________________________________________________________________________\n",
            "bidirectional_2 (Bidirectional) (None, 128, 64)      12672       embedding_2[0][0]                \n",
            "__________________________________________________________________________________________________\n",
            "dropout_2 (Dropout)             (None, 128, 64)      0           bidirectional_2[0][0]            \n",
            "__________________________________________________________________________________________________\n",
            "simple_rnn_2 (SimpleRNN)        (None, 128)          24704       dropout_2[0][0]                  \n",
            "__________________________________________________________________________________________________\n",
            "action (Dense)                  (None, 8)            1032        simple_rnn_2[0][0]               \n",
            "__________________________________________________________________________________________________\n",
            "object (Dense)                  (None, 26)           3354        simple_rnn_2[0][0]               \n",
            "==================================================================================================\n",
            "Total params: 161,922\n",
            "Trainable params: 161,922\n",
            "Non-trainable params: 0\n",
            "__________________________________________________________________________________________________\n",
            "Epoch 1/17\n",
            "159/159 [==============================] - 38s 195ms/step - loss: 4.0586 - action_loss: 1.3144 - object_loss: 2.7442 - val_loss: 2.8063 - val_action_loss: 0.7897 - val_object_loss: 2.0166\n",
            "Epoch 2/17\n",
            "159/159 [==============================] - 29s 185ms/step - loss: 2.7767 - action_loss: 0.7543 - object_loss: 2.0224 - val_loss: 1.9493 - val_action_loss: 0.5116 - val_object_loss: 1.4377\n",
            "Epoch 3/17\n",
            "159/159 [==============================] - 29s 183ms/step - loss: 2.0955 - action_loss: 0.5573 - object_loss: 1.5383 - val_loss: 1.6930 - val_action_loss: 0.4890 - val_object_loss: 1.2040\n",
            "Epoch 4/17\n",
            "159/159 [==============================] - 30s 188ms/step - loss: 1.6888 - action_loss: 0.4513 - object_loss: 1.2375 - val_loss: 1.5655 - val_action_loss: 0.4776 - val_object_loss: 1.0879\n",
            "Epoch 5/17\n",
            "159/159 [==============================] - 30s 186ms/step - loss: 1.4731 - action_loss: 0.4031 - object_loss: 1.0699 - val_loss: 1.5291 - val_action_loss: 0.4598 - val_object_loss: 1.0693\n",
            "Epoch 6/17\n",
            "159/159 [==============================] - 29s 182ms/step - loss: 1.2743 - action_loss: 0.3584 - object_loss: 0.9159 - val_loss: 1.4770 - val_action_loss: 0.4524 - val_object_loss: 1.0246\n",
            "Epoch 7/17\n",
            "159/159 [==============================] - 31s 196ms/step - loss: 1.1401 - action_loss: 0.3330 - object_loss: 0.8071 - val_loss: 1.4667 - val_action_loss: 0.4532 - val_object_loss: 1.0134\n",
            "Epoch 8/17\n",
            "159/159 [==============================] - 29s 184ms/step - loss: 1.0463 - action_loss: 0.3004 - object_loss: 0.7459 - val_loss: 1.5138 - val_action_loss: 0.4653 - val_object_loss: 1.0486\n",
            "Epoch 9/17\n",
            "159/159 [==============================] - 29s 184ms/step - loss: 0.9683 - action_loss: 0.2740 - object_loss: 0.6943 - val_loss: 1.4871 - val_action_loss: 0.4428 - val_object_loss: 1.0443\n",
            "Epoch 10/17\n",
            "159/159 [==============================] - 29s 182ms/step - loss: 0.9034 - action_loss: 0.2569 - object_loss: 0.6465 - val_loss: 1.4647 - val_action_loss: 0.4347 - val_object_loss: 1.0300\n",
            "Epoch 11/17\n",
            "159/159 [==============================] - 28s 177ms/step - loss: 0.8576 - action_loss: 0.2435 - object_loss: 0.6141 - val_loss: 1.5082 - val_action_loss: 0.4490 - val_object_loss: 1.0592\n",
            "Epoch 12/17\n",
            "159/159 [==============================] - 29s 186ms/step - loss: 0.8845 - action_loss: 0.2631 - object_loss: 0.6214 - val_loss: 1.4809 - val_action_loss: 0.4634 - val_object_loss: 1.0175\n",
            "Epoch 13/17\n",
            "159/159 [==============================] - 30s 186ms/step - loss: 0.7626 - action_loss: 0.2265 - object_loss: 0.5361 - val_loss: 1.5761 - val_action_loss: 0.5039 - val_object_loss: 1.0722\n",
            "Epoch 14/17\n",
            "159/159 [==============================] - 29s 181ms/step - loss: 0.7211 - action_loss: 0.2242 - object_loss: 0.4969 - val_loss: 1.5850 - val_action_loss: 0.4776 - val_object_loss: 1.1074\n",
            "Epoch 15/17\n",
            "159/159 [==============================] - 29s 182ms/step - loss: 0.7104 - action_loss: 0.2093 - object_loss: 0.5011 - val_loss: 1.5210 - val_action_loss: 0.4701 - val_object_loss: 1.0510\n",
            "Epoch 16/17\n",
            "159/159 [==============================] - 29s 182ms/step - loss: 0.6694 - action_loss: 0.2048 - object_loss: 0.4645 - val_loss: 1.5981 - val_action_loss: 0.4849 - val_object_loss: 1.1132\n",
            "Epoch 17/17\n",
            "159/159 [==============================] - 30s 187ms/step - loss: 0.6230 - action_loss: 0.1842 - object_loss: 0.4388 - val_loss: 1.5865 - val_action_loss: 0.5005 - val_object_loss: 1.0860\n"
          ],
          "name": "stdout"
        },
        {
          "output_type": "execute_result",
          "data": {
            "text/plain": [
              "<tensorflow.python.keras.callbacks.History at 0x7f9336d6bb50>"
            ]
          },
          "metadata": {
            "tags": []
          },
          "execution_count": 240
        }
      ]
    },
    {
      "cell_type": "code",
      "metadata": {
        "id": "MuITri0OjLX5",
        "outputId": "7d691ea5-b646-4c3c-f713-e85b23b454f1",
        "colab": {
          "base_uri": "https://localhost:8080/"
        }
      },
      "source": [
        "model.save('multi_bigru1')"
      ],
      "execution_count": 241,
      "outputs": [
        {
          "output_type": "stream",
          "text": [
            "2021-02-28:07:54:23 WARNING  [absl:241] Found untraced functions such as gru_cell_7_layer_call_and_return_conditional_losses, gru_cell_7_layer_call_fn, gru_cell_8_layer_call_and_return_conditional_losses, gru_cell_8_layer_call_fn, gru_cell_7_layer_call_fn while saving (showing 5 of 10). These functions will not be directly callable after loading.\n",
            "2021-02-28:07:54:23 WARNING  [absl:241] Found untraced functions such as gru_cell_7_layer_call_and_return_conditional_losses, gru_cell_7_layer_call_fn, gru_cell_8_layer_call_and_return_conditional_losses, gru_cell_8_layer_call_fn, gru_cell_7_layer_call_fn while saving (showing 5 of 10). These functions will not be directly callable after loading.\n"
          ],
          "name": "stderr"
        }
      ]
    },
    {
      "cell_type": "code",
      "metadata": {
        "id": "Ky6Zh2EkhlFB"
      },
      "source": [
        "ya_pred, yo_pred = model.predict(x_test)"
      ],
      "execution_count": 242,
      "outputs": []
    },
    {
      "cell_type": "code",
      "metadata": {
        "id": "MiKhtOYchrSA",
        "outputId": "f00d6dbb-5dab-4118-ca29-f26895ab22c0",
        "colab": {
          "base_uri": "https://localhost:8080/"
        }
      },
      "source": [
        "evaluate_action(ya_pred, ya_test)\r\n",
        "evaluate_object(yo_pred, yo_test)"
      ],
      "execution_count": 243,
      "outputs": [
        {
          "output_type": "stream",
          "text": [
            "              precision    recall  f1-score   support\n",
            "\n",
            "     enquire       0.91      0.88      0.89      1801\n",
            "      report       0.70      0.70      0.70       282\n",
            "      cancel       0.91      0.86      0.88       225\n",
            "         buy       0.68      0.75      0.71       141\n",
            "    activate       0.59      0.64      0.61        99\n",
            "     request       0.36      0.66      0.47        32\n",
            "     garbage       0.00      0.00      0.00         4\n",
            "      change       0.75      0.83      0.79        94\n",
            "\n",
            "    accuracy                           0.84      2678\n",
            "   macro avg       0.61      0.66      0.63      2678\n",
            "weighted avg       0.85      0.84      0.84      2678\n",
            "\n",
            "accuracy 0.8379387602688574\n",
            "                 precision    recall  f1-score   support\n",
            "\n",
            "        payment       0.58      0.61      0.60       124\n",
            "        package       0.71      0.64      0.68       411\n",
            "        suspend       0.75      0.75      0.75       140\n",
            "       internet       0.80      0.64      0.71       436\n",
            "   phone_issues       0.50      0.57      0.54       107\n",
            "        service       0.77      0.69      0.73       451\n",
            "    nontruemove       0.16      0.22      0.18        41\n",
            "        balance       0.80      0.82      0.81       288\n",
            "         detail       0.25      0.58      0.35        31\n",
            "           bill       0.62      0.57      0.59       105\n",
            "         credit       0.82      0.82      0.82        33\n",
            "      promotion       0.59      0.61      0.60       222\n",
            " mobile_setting       0.39      0.47      0.42        47\n",
            "       iservice       0.00      0.00      0.00         0\n",
            "        roaming       0.50      0.77      0.61        31\n",
            "      truemoney       0.73      0.82      0.77        45\n",
            "    information       0.38      0.63      0.48        38\n",
            "    lost_stolen       0.93      0.76      0.83        49\n",
            "balance_minutes       0.55      0.86      0.67         7\n",
            "            idd       0.74      0.80      0.77        44\n",
            "        garbage       0.00      0.00      0.00         4\n",
            "       ringtone       0.53      0.71      0.61        14\n",
            "           rate       0.00      0.00      0.00         0\n",
            "   loyalty_card       0.46      0.60      0.52        10\n",
            "        contact       0.00      0.00      0.00         0\n",
            "        officer       0.00      0.00      0.00         0\n",
            "\n",
            "       accuracy                           0.67      2678\n",
            "      macro avg       0.48      0.54      0.50      2678\n",
            "   weighted avg       0.70      0.67      0.68      2678\n",
            "\n",
            "accuracy 0.666168782673637\n"
          ],
          "name": "stdout"
        },
        {
          "output_type": "stream",
          "text": [
            "/usr/local/lib/python3.7/dist-packages/sklearn/metrics/_classification.py:1272: UndefinedMetricWarning: Recall and F-score are ill-defined and being set to 0.0 in labels with no true samples. Use `zero_division` parameter to control this behavior.\n",
            "  _warn_prf(average, modifier, msg_start, len(result))\n"
          ],
          "name": "stderr"
        }
      ]
    },
    {
      "cell_type": "code",
      "metadata": {
        "id": "a0kTY-Adit14",
        "outputId": "43e94c88-a2a6-439b-f60c-42b2d3612355",
        "colab": {
          "base_uri": "https://localhost:8080/"
        }
      },
      "source": [
        "myx = [sent2features([\"สอบ\",\"ถาม\",\"ยอด\",\"ค่า\",\"บริการ\"])]\r\n",
        "myya, myyo = model.predict(myx)\r\n",
        "actionidx =myya.argmax(axis=1)\r\n",
        "objectidx =myyo.argmax(axis=1)\r\n",
        "print(idx2action[actionidx[0]])\r\n",
        "print(idx2object[objectidx[0]])"
      ],
      "execution_count": 245,
      "outputs": [
        {
          "output_type": "stream",
          "text": [
            "enquire\n",
            "service\n"
          ],
          "name": "stdout"
        }
      ]
    },
    {
      "cell_type": "code",
      "metadata": {
        "id": "480kYQC7lXMj"
      },
      "source": [
        ""
      ],
      "execution_count": null,
      "outputs": []
    }
  ]
}