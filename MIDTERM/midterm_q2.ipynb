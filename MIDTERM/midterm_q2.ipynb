{
  "nbformat": 4,
  "nbformat_minor": 0,
  "metadata": {
    "colab": {
      "name": "midterm_q2.ipynb",
      "provenance": [],
      "collapsed_sections": [
        "Hc1PwDvIhEmF",
        "kOIHapj1nlRc",
        "am-dxdsHa-UJ",
        "Okp7ud3WbKcA",
        "e5uR64izc5UR",
        "58fttgE1MVSg"
      ],
      "include_colab_link": true
    },
    "kernelspec": {
      "name": "python3",
      "display_name": "Python 3"
    },
    "accelerator": "GPU",
    "widgets": {
      "application/vnd.jupyter.widget-state+json": {
        "505a627691dc4f83910df6924390b816": {
          "model_module": "@jupyter-widgets/controls",
          "model_name": "HBoxModel",
          "state": {
            "_view_name": "HBoxView",
            "_dom_classes": [],
            "_model_name": "HBoxModel",
            "_view_module": "@jupyter-widgets/controls",
            "_model_module_version": "1.5.0",
            "_view_count": null,
            "_view_module_version": "1.5.0",
            "box_style": "",
            "layout": "IPY_MODEL_4684321769aa4beca8cfe791a57e1c42",
            "_model_module": "@jupyter-widgets/controls",
            "children": [
              "IPY_MODEL_98bb14bb47b142b891e50915a09d5c73",
              "IPY_MODEL_d9e91682398e4527aed24b5262dd6f7e"
            ]
          }
        },
        "4684321769aa4beca8cfe791a57e1c42": {
          "model_module": "@jupyter-widgets/base",
          "model_name": "LayoutModel",
          "state": {
            "_view_name": "LayoutView",
            "grid_template_rows": null,
            "right": null,
            "justify_content": null,
            "_view_module": "@jupyter-widgets/base",
            "overflow": null,
            "_model_module_version": "1.2.0",
            "_view_count": null,
            "flex_flow": null,
            "width": null,
            "min_width": null,
            "border": null,
            "align_items": null,
            "bottom": null,
            "_model_module": "@jupyter-widgets/base",
            "top": null,
            "grid_column": null,
            "overflow_y": null,
            "overflow_x": null,
            "grid_auto_flow": null,
            "grid_area": null,
            "grid_template_columns": null,
            "flex": null,
            "_model_name": "LayoutModel",
            "justify_items": null,
            "grid_row": null,
            "max_height": null,
            "align_content": null,
            "visibility": null,
            "align_self": null,
            "height": null,
            "min_height": null,
            "padding": null,
            "grid_auto_rows": null,
            "grid_gap": null,
            "max_width": null,
            "order": null,
            "_view_module_version": "1.2.0",
            "grid_template_areas": null,
            "object_position": null,
            "object_fit": null,
            "grid_auto_columns": null,
            "margin": null,
            "display": null,
            "left": null
          }
        },
        "98bb14bb47b142b891e50915a09d5c73": {
          "model_module": "@jupyter-widgets/controls",
          "model_name": "FloatProgressModel",
          "state": {
            "_view_name": "ProgressView",
            "style": "IPY_MODEL_ef14bc458ea44d7e8a7d359933abb4aa",
            "_dom_classes": [],
            "description": "Downloading: 100%",
            "_model_name": "FloatProgressModel",
            "bar_style": "success",
            "max": 546,
            "_view_module": "@jupyter-widgets/controls",
            "_model_module_version": "1.5.0",
            "value": 546,
            "_view_count": null,
            "_view_module_version": "1.5.0",
            "orientation": "horizontal",
            "min": 0,
            "description_tooltip": null,
            "_model_module": "@jupyter-widgets/controls",
            "layout": "IPY_MODEL_246fa018c93843f58ea79e0f43adca24"
          }
        },
        "d9e91682398e4527aed24b5262dd6f7e": {
          "model_module": "@jupyter-widgets/controls",
          "model_name": "HTMLModel",
          "state": {
            "_view_name": "HTMLView",
            "style": "IPY_MODEL_65e59c3890a6455ea68bdfa6dbc9ec17",
            "_dom_classes": [],
            "description": "",
            "_model_name": "HTMLModel",
            "placeholder": "​",
            "_view_module": "@jupyter-widgets/controls",
            "_model_module_version": "1.5.0",
            "value": " 546/546 [00:11&lt;00:00, 47.8B/s]",
            "_view_count": null,
            "_view_module_version": "1.5.0",
            "description_tooltip": null,
            "_model_module": "@jupyter-widgets/controls",
            "layout": "IPY_MODEL_b1abce7d603f4cacb6a94a064e13cd6b"
          }
        },
        "ef14bc458ea44d7e8a7d359933abb4aa": {
          "model_module": "@jupyter-widgets/controls",
          "model_name": "ProgressStyleModel",
          "state": {
            "_view_name": "StyleView",
            "_model_name": "ProgressStyleModel",
            "description_width": "initial",
            "_view_module": "@jupyter-widgets/base",
            "_model_module_version": "1.5.0",
            "_view_count": null,
            "_view_module_version": "1.2.0",
            "bar_color": null,
            "_model_module": "@jupyter-widgets/controls"
          }
        },
        "246fa018c93843f58ea79e0f43adca24": {
          "model_module": "@jupyter-widgets/base",
          "model_name": "LayoutModel",
          "state": {
            "_view_name": "LayoutView",
            "grid_template_rows": null,
            "right": null,
            "justify_content": null,
            "_view_module": "@jupyter-widgets/base",
            "overflow": null,
            "_model_module_version": "1.2.0",
            "_view_count": null,
            "flex_flow": null,
            "width": null,
            "min_width": null,
            "border": null,
            "align_items": null,
            "bottom": null,
            "_model_module": "@jupyter-widgets/base",
            "top": null,
            "grid_column": null,
            "overflow_y": null,
            "overflow_x": null,
            "grid_auto_flow": null,
            "grid_area": null,
            "grid_template_columns": null,
            "flex": null,
            "_model_name": "LayoutModel",
            "justify_items": null,
            "grid_row": null,
            "max_height": null,
            "align_content": null,
            "visibility": null,
            "align_self": null,
            "height": null,
            "min_height": null,
            "padding": null,
            "grid_auto_rows": null,
            "grid_gap": null,
            "max_width": null,
            "order": null,
            "_view_module_version": "1.2.0",
            "grid_template_areas": null,
            "object_position": null,
            "object_fit": null,
            "grid_auto_columns": null,
            "margin": null,
            "display": null,
            "left": null
          }
        },
        "65e59c3890a6455ea68bdfa6dbc9ec17": {
          "model_module": "@jupyter-widgets/controls",
          "model_name": "DescriptionStyleModel",
          "state": {
            "_view_name": "StyleView",
            "_model_name": "DescriptionStyleModel",
            "description_width": "",
            "_view_module": "@jupyter-widgets/base",
            "_model_module_version": "1.5.0",
            "_view_count": null,
            "_view_module_version": "1.2.0",
            "_model_module": "@jupyter-widgets/controls"
          }
        },
        "b1abce7d603f4cacb6a94a064e13cd6b": {
          "model_module": "@jupyter-widgets/base",
          "model_name": "LayoutModel",
          "state": {
            "_view_name": "LayoutView",
            "grid_template_rows": null,
            "right": null,
            "justify_content": null,
            "_view_module": "@jupyter-widgets/base",
            "overflow": null,
            "_model_module_version": "1.2.0",
            "_view_count": null,
            "flex_flow": null,
            "width": null,
            "min_width": null,
            "border": null,
            "align_items": null,
            "bottom": null,
            "_model_module": "@jupyter-widgets/base",
            "top": null,
            "grid_column": null,
            "overflow_y": null,
            "overflow_x": null,
            "grid_auto_flow": null,
            "grid_area": null,
            "grid_template_columns": null,
            "flex": null,
            "_model_name": "LayoutModel",
            "justify_items": null,
            "grid_row": null,
            "max_height": null,
            "align_content": null,
            "visibility": null,
            "align_self": null,
            "height": null,
            "min_height": null,
            "padding": null,
            "grid_auto_rows": null,
            "grid_gap": null,
            "max_width": null,
            "order": null,
            "_view_module_version": "1.2.0",
            "grid_template_areas": null,
            "object_position": null,
            "object_fit": null,
            "grid_auto_columns": null,
            "margin": null,
            "display": null,
            "left": null
          }
        },
        "894fc201596c466a98ef4c9f48cbda81": {
          "model_module": "@jupyter-widgets/controls",
          "model_name": "HBoxModel",
          "state": {
            "_view_name": "HBoxView",
            "_dom_classes": [],
            "_model_name": "HBoxModel",
            "_view_module": "@jupyter-widgets/controls",
            "_model_module_version": "1.5.0",
            "_view_count": null,
            "_view_module_version": "1.5.0",
            "box_style": "",
            "layout": "IPY_MODEL_0b73baa3b7124733a9559ad434921d68",
            "_model_module": "@jupyter-widgets/controls",
            "children": [
              "IPY_MODEL_21c50d463cb14fc881d00f4dbe9b4940",
              "IPY_MODEL_67e83d2c7101420fb20850f0650065c7"
            ]
          }
        },
        "0b73baa3b7124733a9559ad434921d68": {
          "model_module": "@jupyter-widgets/base",
          "model_name": "LayoutModel",
          "state": {
            "_view_name": "LayoutView",
            "grid_template_rows": null,
            "right": null,
            "justify_content": null,
            "_view_module": "@jupyter-widgets/base",
            "overflow": null,
            "_model_module_version": "1.2.0",
            "_view_count": null,
            "flex_flow": null,
            "width": null,
            "min_width": null,
            "border": null,
            "align_items": null,
            "bottom": null,
            "_model_module": "@jupyter-widgets/base",
            "top": null,
            "grid_column": null,
            "overflow_y": null,
            "overflow_x": null,
            "grid_auto_flow": null,
            "grid_area": null,
            "grid_template_columns": null,
            "flex": null,
            "_model_name": "LayoutModel",
            "justify_items": null,
            "grid_row": null,
            "max_height": null,
            "align_content": null,
            "visibility": null,
            "align_self": null,
            "height": null,
            "min_height": null,
            "padding": null,
            "grid_auto_rows": null,
            "grid_gap": null,
            "max_width": null,
            "order": null,
            "_view_module_version": "1.2.0",
            "grid_template_areas": null,
            "object_position": null,
            "object_fit": null,
            "grid_auto_columns": null,
            "margin": null,
            "display": null,
            "left": null
          }
        },
        "21c50d463cb14fc881d00f4dbe9b4940": {
          "model_module": "@jupyter-widgets/controls",
          "model_name": "FloatProgressModel",
          "state": {
            "_view_name": "ProgressView",
            "style": "IPY_MODEL_59783f69380b4a528badf1a3a9cbe019",
            "_dom_classes": [],
            "description": "Downloading: 100%",
            "_model_name": "FloatProgressModel",
            "bar_style": "success",
            "max": 904693,
            "_view_module": "@jupyter-widgets/controls",
            "_model_module_version": "1.5.0",
            "value": 904693,
            "_view_count": null,
            "_view_module_version": "1.5.0",
            "orientation": "horizontal",
            "min": 0,
            "description_tooltip": null,
            "_model_module": "@jupyter-widgets/controls",
            "layout": "IPY_MODEL_2b9667f4c5d847e9bedec3ba1d930973"
          }
        },
        "67e83d2c7101420fb20850f0650065c7": {
          "model_module": "@jupyter-widgets/controls",
          "model_name": "HTMLModel",
          "state": {
            "_view_name": "HTMLView",
            "style": "IPY_MODEL_1ca47f7bd1d94fb59d8ebe3a816ce5d3",
            "_dom_classes": [],
            "description": "",
            "_model_name": "HTMLModel",
            "placeholder": "​",
            "_view_module": "@jupyter-widgets/controls",
            "_model_module_version": "1.5.0",
            "value": " 905k/905k [00:00&lt;00:00, 6.41MB/s]",
            "_view_count": null,
            "_view_module_version": "1.5.0",
            "description_tooltip": null,
            "_model_module": "@jupyter-widgets/controls",
            "layout": "IPY_MODEL_bbbeabafd09b4fb7982c5bb6e863b457"
          }
        },
        "59783f69380b4a528badf1a3a9cbe019": {
          "model_module": "@jupyter-widgets/controls",
          "model_name": "ProgressStyleModel",
          "state": {
            "_view_name": "StyleView",
            "_model_name": "ProgressStyleModel",
            "description_width": "initial",
            "_view_module": "@jupyter-widgets/base",
            "_model_module_version": "1.5.0",
            "_view_count": null,
            "_view_module_version": "1.2.0",
            "bar_color": null,
            "_model_module": "@jupyter-widgets/controls"
          }
        },
        "2b9667f4c5d847e9bedec3ba1d930973": {
          "model_module": "@jupyter-widgets/base",
          "model_name": "LayoutModel",
          "state": {
            "_view_name": "LayoutView",
            "grid_template_rows": null,
            "right": null,
            "justify_content": null,
            "_view_module": "@jupyter-widgets/base",
            "overflow": null,
            "_model_module_version": "1.2.0",
            "_view_count": null,
            "flex_flow": null,
            "width": null,
            "min_width": null,
            "border": null,
            "align_items": null,
            "bottom": null,
            "_model_module": "@jupyter-widgets/base",
            "top": null,
            "grid_column": null,
            "overflow_y": null,
            "overflow_x": null,
            "grid_auto_flow": null,
            "grid_area": null,
            "grid_template_columns": null,
            "flex": null,
            "_model_name": "LayoutModel",
            "justify_items": null,
            "grid_row": null,
            "max_height": null,
            "align_content": null,
            "visibility": null,
            "align_self": null,
            "height": null,
            "min_height": null,
            "padding": null,
            "grid_auto_rows": null,
            "grid_gap": null,
            "max_width": null,
            "order": null,
            "_view_module_version": "1.2.0",
            "grid_template_areas": null,
            "object_position": null,
            "object_fit": null,
            "grid_auto_columns": null,
            "margin": null,
            "display": null,
            "left": null
          }
        },
        "1ca47f7bd1d94fb59d8ebe3a816ce5d3": {
          "model_module": "@jupyter-widgets/controls",
          "model_name": "DescriptionStyleModel",
          "state": {
            "_view_name": "StyleView",
            "_model_name": "DescriptionStyleModel",
            "description_width": "",
            "_view_module": "@jupyter-widgets/base",
            "_model_module_version": "1.5.0",
            "_view_count": null,
            "_view_module_version": "1.2.0",
            "_model_module": "@jupyter-widgets/controls"
          }
        },
        "bbbeabafd09b4fb7982c5bb6e863b457": {
          "model_module": "@jupyter-widgets/base",
          "model_name": "LayoutModel",
          "state": {
            "_view_name": "LayoutView",
            "grid_template_rows": null,
            "right": null,
            "justify_content": null,
            "_view_module": "@jupyter-widgets/base",
            "overflow": null,
            "_model_module_version": "1.2.0",
            "_view_count": null,
            "flex_flow": null,
            "width": null,
            "min_width": null,
            "border": null,
            "align_items": null,
            "bottom": null,
            "_model_module": "@jupyter-widgets/base",
            "top": null,
            "grid_column": null,
            "overflow_y": null,
            "overflow_x": null,
            "grid_auto_flow": null,
            "grid_area": null,
            "grid_template_columns": null,
            "flex": null,
            "_model_name": "LayoutModel",
            "justify_items": null,
            "grid_row": null,
            "max_height": null,
            "align_content": null,
            "visibility": null,
            "align_self": null,
            "height": null,
            "min_height": null,
            "padding": null,
            "grid_auto_rows": null,
            "grid_gap": null,
            "max_width": null,
            "order": null,
            "_view_module_version": "1.2.0",
            "grid_template_areas": null,
            "object_position": null,
            "object_fit": null,
            "grid_auto_columns": null,
            "margin": null,
            "display": null,
            "left": null
          }
        },
        "3b6831a332ca47b8af8fb63d459a9650": {
          "model_module": "@jupyter-widgets/controls",
          "model_name": "HBoxModel",
          "state": {
            "_view_name": "HBoxView",
            "_dom_classes": [],
            "_model_name": "HBoxModel",
            "_view_module": "@jupyter-widgets/controls",
            "_model_module_version": "1.5.0",
            "_view_count": null,
            "_view_module_version": "1.5.0",
            "box_style": "",
            "layout": "IPY_MODEL_ce20031e78184b7792ea38b6bbb9a140",
            "_model_module": "@jupyter-widgets/controls",
            "children": [
              "IPY_MODEL_6aa5c04e781c4bf49bc399c0d763566b",
              "IPY_MODEL_b2a123f5946d486e85b3f3ba5eada3f7"
            ]
          }
        },
        "ce20031e78184b7792ea38b6bbb9a140": {
          "model_module": "@jupyter-widgets/base",
          "model_name": "LayoutModel",
          "state": {
            "_view_name": "LayoutView",
            "grid_template_rows": null,
            "right": null,
            "justify_content": null,
            "_view_module": "@jupyter-widgets/base",
            "overflow": null,
            "_model_module_version": "1.2.0",
            "_view_count": null,
            "flex_flow": null,
            "width": null,
            "min_width": null,
            "border": null,
            "align_items": null,
            "bottom": null,
            "_model_module": "@jupyter-widgets/base",
            "top": null,
            "grid_column": null,
            "overflow_y": null,
            "overflow_x": null,
            "grid_auto_flow": null,
            "grid_area": null,
            "grid_template_columns": null,
            "flex": null,
            "_model_name": "LayoutModel",
            "justify_items": null,
            "grid_row": null,
            "max_height": null,
            "align_content": null,
            "visibility": null,
            "align_self": null,
            "height": null,
            "min_height": null,
            "padding": null,
            "grid_auto_rows": null,
            "grid_gap": null,
            "max_width": null,
            "order": null,
            "_view_module_version": "1.2.0",
            "grid_template_areas": null,
            "object_position": null,
            "object_fit": null,
            "grid_auto_columns": null,
            "margin": null,
            "display": null,
            "left": null
          }
        },
        "6aa5c04e781c4bf49bc399c0d763566b": {
          "model_module": "@jupyter-widgets/controls",
          "model_name": "FloatProgressModel",
          "state": {
            "_view_name": "ProgressView",
            "style": "IPY_MODEL_6fea62cd59e445df91d2f219a796fd0d",
            "_dom_classes": [],
            "description": "Downloading: 100%",
            "_model_name": "FloatProgressModel",
            "bar_style": "success",
            "max": 282,
            "_view_module": "@jupyter-widgets/controls",
            "_model_module_version": "1.5.0",
            "value": 282,
            "_view_count": null,
            "_view_module_version": "1.5.0",
            "orientation": "horizontal",
            "min": 0,
            "description_tooltip": null,
            "_model_module": "@jupyter-widgets/controls",
            "layout": "IPY_MODEL_6c8de415747446129f830e3c0673da48"
          }
        },
        "b2a123f5946d486e85b3f3ba5eada3f7": {
          "model_module": "@jupyter-widgets/controls",
          "model_name": "HTMLModel",
          "state": {
            "_view_name": "HTMLView",
            "style": "IPY_MODEL_6da453fcf29441538c78d8a1730bf55b",
            "_dom_classes": [],
            "description": "",
            "_model_name": "HTMLModel",
            "placeholder": "​",
            "_view_module": "@jupyter-widgets/controls",
            "_model_module_version": "1.5.0",
            "value": " 282/282 [00:11&lt;00:00, 25.2B/s]",
            "_view_count": null,
            "_view_module_version": "1.5.0",
            "description_tooltip": null,
            "_model_module": "@jupyter-widgets/controls",
            "layout": "IPY_MODEL_5c3a4941ec1f4fdc854f49682f501297"
          }
        },
        "6fea62cd59e445df91d2f219a796fd0d": {
          "model_module": "@jupyter-widgets/controls",
          "model_name": "ProgressStyleModel",
          "state": {
            "_view_name": "StyleView",
            "_model_name": "ProgressStyleModel",
            "description_width": "initial",
            "_view_module": "@jupyter-widgets/base",
            "_model_module_version": "1.5.0",
            "_view_count": null,
            "_view_module_version": "1.2.0",
            "bar_color": null,
            "_model_module": "@jupyter-widgets/controls"
          }
        },
        "6c8de415747446129f830e3c0673da48": {
          "model_module": "@jupyter-widgets/base",
          "model_name": "LayoutModel",
          "state": {
            "_view_name": "LayoutView",
            "grid_template_rows": null,
            "right": null,
            "justify_content": null,
            "_view_module": "@jupyter-widgets/base",
            "overflow": null,
            "_model_module_version": "1.2.0",
            "_view_count": null,
            "flex_flow": null,
            "width": null,
            "min_width": null,
            "border": null,
            "align_items": null,
            "bottom": null,
            "_model_module": "@jupyter-widgets/base",
            "top": null,
            "grid_column": null,
            "overflow_y": null,
            "overflow_x": null,
            "grid_auto_flow": null,
            "grid_area": null,
            "grid_template_columns": null,
            "flex": null,
            "_model_name": "LayoutModel",
            "justify_items": null,
            "grid_row": null,
            "max_height": null,
            "align_content": null,
            "visibility": null,
            "align_self": null,
            "height": null,
            "min_height": null,
            "padding": null,
            "grid_auto_rows": null,
            "grid_gap": null,
            "max_width": null,
            "order": null,
            "_view_module_version": "1.2.0",
            "grid_template_areas": null,
            "object_position": null,
            "object_fit": null,
            "grid_auto_columns": null,
            "margin": null,
            "display": null,
            "left": null
          }
        },
        "6da453fcf29441538c78d8a1730bf55b": {
          "model_module": "@jupyter-widgets/controls",
          "model_name": "DescriptionStyleModel",
          "state": {
            "_view_name": "StyleView",
            "_model_name": "DescriptionStyleModel",
            "description_width": "",
            "_view_module": "@jupyter-widgets/base",
            "_model_module_version": "1.5.0",
            "_view_count": null,
            "_view_module_version": "1.2.0",
            "_model_module": "@jupyter-widgets/controls"
          }
        },
        "5c3a4941ec1f4fdc854f49682f501297": {
          "model_module": "@jupyter-widgets/base",
          "model_name": "LayoutModel",
          "state": {
            "_view_name": "LayoutView",
            "grid_template_rows": null,
            "right": null,
            "justify_content": null,
            "_view_module": "@jupyter-widgets/base",
            "overflow": null,
            "_model_module_version": "1.2.0",
            "_view_count": null,
            "flex_flow": null,
            "width": null,
            "min_width": null,
            "border": null,
            "align_items": null,
            "bottom": null,
            "_model_module": "@jupyter-widgets/base",
            "top": null,
            "grid_column": null,
            "overflow_y": null,
            "overflow_x": null,
            "grid_auto_flow": null,
            "grid_area": null,
            "grid_template_columns": null,
            "flex": null,
            "_model_name": "LayoutModel",
            "justify_items": null,
            "grid_row": null,
            "max_height": null,
            "align_content": null,
            "visibility": null,
            "align_self": null,
            "height": null,
            "min_height": null,
            "padding": null,
            "grid_auto_rows": null,
            "grid_gap": null,
            "max_width": null,
            "order": null,
            "_view_module_version": "1.2.0",
            "grid_template_areas": null,
            "object_position": null,
            "object_fit": null,
            "grid_auto_columns": null,
            "margin": null,
            "display": null,
            "left": null
          }
        },
        "cdfc78592b5f4ebeba472b0e56779ef1": {
          "model_module": "@jupyter-widgets/controls",
          "model_name": "HBoxModel",
          "state": {
            "_view_name": "HBoxView",
            "_dom_classes": [],
            "_model_name": "HBoxModel",
            "_view_module": "@jupyter-widgets/controls",
            "_model_module_version": "1.5.0",
            "_view_count": null,
            "_view_module_version": "1.5.0",
            "box_style": "",
            "layout": "IPY_MODEL_ed6b22522320439a8f86f659adc9e7e2",
            "_model_module": "@jupyter-widgets/controls",
            "children": [
              "IPY_MODEL_17f04c4baeea4d80bbb9237969eb06d1",
              "IPY_MODEL_70cfc8bc86b34c24ae06450aa3a71c1a"
            ]
          }
        },
        "ed6b22522320439a8f86f659adc9e7e2": {
          "model_module": "@jupyter-widgets/base",
          "model_name": "LayoutModel",
          "state": {
            "_view_name": "LayoutView",
            "grid_template_rows": null,
            "right": null,
            "justify_content": null,
            "_view_module": "@jupyter-widgets/base",
            "overflow": null,
            "_model_module_version": "1.2.0",
            "_view_count": null,
            "flex_flow": null,
            "width": null,
            "min_width": null,
            "border": null,
            "align_items": null,
            "bottom": null,
            "_model_module": "@jupyter-widgets/base",
            "top": null,
            "grid_column": null,
            "overflow_y": null,
            "overflow_x": null,
            "grid_auto_flow": null,
            "grid_area": null,
            "grid_template_columns": null,
            "flex": null,
            "_model_name": "LayoutModel",
            "justify_items": null,
            "grid_row": null,
            "max_height": null,
            "align_content": null,
            "visibility": null,
            "align_self": null,
            "height": null,
            "min_height": null,
            "padding": null,
            "grid_auto_rows": null,
            "grid_gap": null,
            "max_width": null,
            "order": null,
            "_view_module_version": "1.2.0",
            "grid_template_areas": null,
            "object_position": null,
            "object_fit": null,
            "grid_auto_columns": null,
            "margin": null,
            "display": null,
            "left": null
          }
        },
        "17f04c4baeea4d80bbb9237969eb06d1": {
          "model_module": "@jupyter-widgets/controls",
          "model_name": "FloatProgressModel",
          "state": {
            "_view_name": "ProgressView",
            "style": "IPY_MODEL_1cfb17dbc10e4847975639c1bbcea671",
            "_dom_classes": [],
            "description": "Downloading: 100%",
            "_model_name": "FloatProgressModel",
            "bar_style": "success",
            "max": 423498558,
            "_view_module": "@jupyter-widgets/controls",
            "_model_module_version": "1.5.0",
            "value": 423498558,
            "_view_count": null,
            "_view_module_version": "1.5.0",
            "orientation": "horizontal",
            "min": 0,
            "description_tooltip": null,
            "_model_module": "@jupyter-widgets/controls",
            "layout": "IPY_MODEL_73e2adad5052455e95db6ec261a46fe8"
          }
        },
        "70cfc8bc86b34c24ae06450aa3a71c1a": {
          "model_module": "@jupyter-widgets/controls",
          "model_name": "HTMLModel",
          "state": {
            "_view_name": "HTMLView",
            "style": "IPY_MODEL_8efcb3f53a1d4416842366234c7859c6",
            "_dom_classes": [],
            "description": "",
            "_model_name": "HTMLModel",
            "placeholder": "​",
            "_view_module": "@jupyter-widgets/controls",
            "_model_module_version": "1.5.0",
            "value": " 423M/423M [00:08&lt;00:00, 48.3MB/s]",
            "_view_count": null,
            "_view_module_version": "1.5.0",
            "description_tooltip": null,
            "_model_module": "@jupyter-widgets/controls",
            "layout": "IPY_MODEL_767b889005e748f3897efb4437a01454"
          }
        },
        "1cfb17dbc10e4847975639c1bbcea671": {
          "model_module": "@jupyter-widgets/controls",
          "model_name": "ProgressStyleModel",
          "state": {
            "_view_name": "StyleView",
            "_model_name": "ProgressStyleModel",
            "description_width": "initial",
            "_view_module": "@jupyter-widgets/base",
            "_model_module_version": "1.5.0",
            "_view_count": null,
            "_view_module_version": "1.2.0",
            "bar_color": null,
            "_model_module": "@jupyter-widgets/controls"
          }
        },
        "73e2adad5052455e95db6ec261a46fe8": {
          "model_module": "@jupyter-widgets/base",
          "model_name": "LayoutModel",
          "state": {
            "_view_name": "LayoutView",
            "grid_template_rows": null,
            "right": null,
            "justify_content": null,
            "_view_module": "@jupyter-widgets/base",
            "overflow": null,
            "_model_module_version": "1.2.0",
            "_view_count": null,
            "flex_flow": null,
            "width": null,
            "min_width": null,
            "border": null,
            "align_items": null,
            "bottom": null,
            "_model_module": "@jupyter-widgets/base",
            "top": null,
            "grid_column": null,
            "overflow_y": null,
            "overflow_x": null,
            "grid_auto_flow": null,
            "grid_area": null,
            "grid_template_columns": null,
            "flex": null,
            "_model_name": "LayoutModel",
            "justify_items": null,
            "grid_row": null,
            "max_height": null,
            "align_content": null,
            "visibility": null,
            "align_self": null,
            "height": null,
            "min_height": null,
            "padding": null,
            "grid_auto_rows": null,
            "grid_gap": null,
            "max_width": null,
            "order": null,
            "_view_module_version": "1.2.0",
            "grid_template_areas": null,
            "object_position": null,
            "object_fit": null,
            "grid_auto_columns": null,
            "margin": null,
            "display": null,
            "left": null
          }
        },
        "8efcb3f53a1d4416842366234c7859c6": {
          "model_module": "@jupyter-widgets/controls",
          "model_name": "DescriptionStyleModel",
          "state": {
            "_view_name": "StyleView",
            "_model_name": "DescriptionStyleModel",
            "description_width": "",
            "_view_module": "@jupyter-widgets/base",
            "_model_module_version": "1.5.0",
            "_view_count": null,
            "_view_module_version": "1.2.0",
            "_model_module": "@jupyter-widgets/controls"
          }
        },
        "767b889005e748f3897efb4437a01454": {
          "model_module": "@jupyter-widgets/base",
          "model_name": "LayoutModel",
          "state": {
            "_view_name": "LayoutView",
            "grid_template_rows": null,
            "right": null,
            "justify_content": null,
            "_view_module": "@jupyter-widgets/base",
            "overflow": null,
            "_model_module_version": "1.2.0",
            "_view_count": null,
            "flex_flow": null,
            "width": null,
            "min_width": null,
            "border": null,
            "align_items": null,
            "bottom": null,
            "_model_module": "@jupyter-widgets/base",
            "top": null,
            "grid_column": null,
            "overflow_y": null,
            "overflow_x": null,
            "grid_auto_flow": null,
            "grid_area": null,
            "grid_template_columns": null,
            "flex": null,
            "_model_name": "LayoutModel",
            "justify_items": null,
            "grid_row": null,
            "max_height": null,
            "align_content": null,
            "visibility": null,
            "align_self": null,
            "height": null,
            "min_height": null,
            "padding": null,
            "grid_auto_rows": null,
            "grid_gap": null,
            "max_width": null,
            "order": null,
            "_view_module_version": "1.2.0",
            "grid_template_areas": null,
            "object_position": null,
            "object_fit": null,
            "grid_auto_columns": null,
            "margin": null,
            "display": null,
            "left": null
          }
        }
      }
    }
  },
  "cells": [
    {
      "cell_type": "markdown",
      "metadata": {
        "id": "view-in-github",
        "colab_type": "text"
      },
      "source": [
        "<a href=\"https://colab.research.google.com/github/flapperz/NLP_2021/blob/main/MIDTERM/midterm_q2.ipynb\" target=\"_parent\"><img src=\"https://colab.research.google.com/assets/colab-badge.svg\" alt=\"Open In Colab\"/></a>"
      ]
    },
    {
      "cell_type": "code",
      "metadata": {
        "colab": {
          "base_uri": "https://localhost:8080/"
        },
        "id": "VU8LFmBsUwKX",
        "outputId": "860d2804-94fe-4cad-b1e8-744c3df26927"
      },
      "source": [
        "!gdown --id 1LHo-ICoeKAOBotSv2gbWF0K7fAbrQQxq\r\n",
        "!gdown --id 15k6YNv4MxGt8N7LelCLfGx7xKSPPuhzD"
      ],
      "execution_count": null,
      "outputs": [
        {
          "output_type": "stream",
          "text": [
            "Downloading...\n",
            "From: https://drive.google.com/uc?id=1LHo-ICoeKAOBotSv2gbWF0K7fAbrQQxq\n",
            "To: /content/test_without_label.pkl\n",
            "100% 1.15M/1.15M [00:00<00:00, 18.3MB/s]\n",
            "Downloading...\n",
            "From: https://drive.google.com/uc?id=15k6YNv4MxGt8N7LelCLfGx7xKSPPuhzD\n",
            "To: /content/train_with_label.pkl\n",
            "3.18MB [00:00, 50.1MB/s]\n"
          ],
          "name": "stdout"
        }
      ]
    },
    {
      "cell_type": "code",
      "metadata": {
        "id": "8vKLv_mNUxYk"
      },
      "source": [
        "def write_submission(submission, path = 'out.txt'):\r\n",
        "  f = open(path, 'wb')\r\n",
        "  [f.write((i + '\\n').encode()) for i in submission ]\r\n",
        "\r\n",
        "import pickle\r\n",
        "X_train = pickle.load(open('train_with_label.pkl', 'rb'))\r\n",
        "X_test = pickle.load(open('test_without_label.pkl', 'rb'))\r\n",
        "\r\n"
      ],
      "execution_count": null,
      "outputs": []
    },
    {
      "cell_type": "code",
      "metadata": {
        "colab": {
          "base_uri": "https://localhost:8080/"
        },
        "id": "KYWcA5Wl_PZr",
        "outputId": "c61a25cd-e2e2-4452-9563-a4f8183d25d6"
      },
      "source": [
        "import tensorflow as tf\r\n",
        "print(tf.config.list_physical_devices('GPU'))"
      ],
      "execution_count": null,
      "outputs": [
        {
          "output_type": "stream",
          "text": [
            "[PhysicalDevice(name='/physical_device:GPU:0', device_type='GPU')]\n"
          ],
          "name": "stdout"
        }
      ]
    },
    {
      "cell_type": "code",
      "metadata": {
        "id": "kpFb_giCWEZp"
      },
      "source": [
        "# write_submission(submission_template)"
      ],
      "execution_count": null,
      "outputs": []
    },
    {
      "cell_type": "code",
      "metadata": {
        "id": "CowOSlOqvDRw"
      },
      "source": [
        "import numpy as np\r\n",
        "import pandas as pd\r\n",
        "import matplotlib.pyplot as plt"
      ],
      "execution_count": null,
      "outputs": []
    },
    {
      "cell_type": "markdown",
      "metadata": {
        "id": "hBM0pZTeagAK"
      },
      "source": [
        "## EDA"
      ]
    },
    {
      "cell_type": "code",
      "metadata": {
        "id": "04fT89cQdov9"
      },
      "source": [
        "from pythainlp.spell import correct, spell, NorvigSpellChecker\r\n",
        "correct('ครัฟ')"
      ],
      "execution_count": null,
      "outputs": []
    },
    {
      "cell_type": "code",
      "metadata": {
        "id": "xkgfFE57tjw_"
      },
      "source": [
        "def unpack_index(l):\r\n",
        "    idx0 = l[0]\r\n",
        "    idx1 = l[1]\r\n",
        "    if idx0 == idx1 - 1:\r\n",
        "        return [l]\r\n",
        "    res = []\r\n",
        "    for idx in range(idx0,idx1):\r\n",
        "        res.append([idx,idx+1])\r\n",
        "    return res\r\n"
      ],
      "execution_count": null,
      "outputs": []
    },
    {
      "cell_type": "code",
      "metadata": {
        "id": "1FBB45T52Ib5"
      },
      "source": [
        "misspellw = []\r\n",
        "correctw = []\r\n",
        "for x in X_train:\r\n",
        "    sent = x[0]\r\n",
        "    \r\n",
        "    for label in x[1]:\r\n",
        "        misspellw += sent[label[0][0]:label[0][1]]\r\n",
        "        correctw += label[1]\r\n",
        "misspellw_set = set(misspellw)\r\n",
        "df_corrw = pd.DataFrame({'word':correctw, 'c':[1]*len(correctw)})\r\n",
        "df_missw = pd.DataFrame({'word':misspellw, 'c':[1]*len(misspellw)})"
      ],
      "execution_count": null,
      "outputs": []
    },
    {
      "cell_type": "code",
      "metadata": {
        "colab": {
          "base_uri": "https://localhost:8080/",
          "height": 281
        },
        "id": "YmQmfOA32PmG",
        "outputId": "774d3bb4-a95a-4559-cb6c-6e6f467764a3"
      },
      "source": [
        "agg = df_missw.groupby('word').count().sort_values(['c'], ascending=False)\r\n",
        "\r\n",
        "plt.bar(np.arange(len(agg)),agg.c.values,width=1)\r\n",
        "plt.title('misspell word frequency')\r\n",
        "plt.show()"
      ],
      "execution_count": null,
      "outputs": [
        {
          "output_type": "display_data",
          "data": {
            "image/png": "[encoded data removed]",
            "text/plain": [
              "<Figure size 432x288 with 1 Axes>"
            ]
          },
          "metadata": {
            "tags": [],
            "needs_background": "light"
          }
        }
      ]
    },
    {
      "cell_type": "code",
      "metadata": {
        "colab": {
          "base_uri": "https://localhost:8080/",
          "height": 281
        },
        "id": "HIgl07Ue-Cah",
        "outputId": "f313fb86-1683-421e-f67e-8b1f26acb5e3"
      },
      "source": [
        "agg2 = df_corrw.groupby('word').count().sort_values(['c'], ascending=False)\r\n",
        "\r\n",
        "plt.bar(np.arange(len(agg2)),agg2.c.values,width=1)\r\n",
        "plt.title('correction frequency')\r\n",
        "plt.show()"
      ],
      "execution_count": null,
      "outputs": [
        {
          "output_type": "display_data",
          "data": {
            "image/png": "[encoded data removed]",
            "text/plain": [
              "<Figure size 432x288 with 1 Axes>"
            ]
          },
          "metadata": {
            "tags": [],
            "needs_background": "light"
          }
        }
      ]
    },
    {
      "cell_type": "code",
      "metadata": {
        "colab": {
          "base_uri": "https://localhost:8080/"
        },
        "id": "52aAQQEy8Wl4",
        "outputId": "42f804c3-574e-4acc-8430-5eb7b109e4f4"
      },
      "source": [
        "for w in agg.index[:200]:\r\n",
        "    print(w + ' ', end='')\r\n",
        "print()\r\n",
        "for w in agg2.index[:200]:\r\n",
        "    print(w + ' ', end='')\r\n",
        "    "
      ],
      "execution_count": null,
      "outputs": [
        {
          "output_type": "stream",
          "text": [
            "อ่ะ ค่ะ คับ คะ ค้ะ เบอ สมัค มั้ย อ่อ แอพ เปน ก้ ยังไง แอฟ ใด้ ไม มั๊ย คัฟ อยุ่ ไง หรอ ใหม บช เรย โทรศัพ บันชี ก้อ ไหม่ เคดิต รุ้ แร้ว ใหน ป่ะ ม่ อะ ค่ เค้า ตัง อ้ะ เปลียน ยังงัย ตุ้ ขอบคุน   ป่าว ไช่ เชค ใช่ ค ไม๊ คร้า นึง ยุ งัย ได่ เท่าไหร่ ดิ อินเตอร์เน็ต ใม่ จขกท เบอร โทรสับ จร้า โทรศัพย์ บัชชี ค่าาา ครัช . ขอโทด โทรสัพ ธ โหลด เนต ค่า น่ะ รึป่าว ค๊ะ เด๋ว หรือป่าว ไม่ เวป โทสับ น่อย น้ะ อะรัย ออนไล เนอะ ต่ะ ไห้ คนับ ด้ โท กะ แอป กุ้ ไทยพานิชย์ พิม ข้อมุล ใช้ เปิดบันชี เคแบงค์ เคาเตอร์ เบอร์ ช เนี้ย ยังใง ละ เน็ต ทำ คร่ ใว้ รึ ยุ่ คร้าบ ม่ะ คอลเซนเตอร์ บ เปนไร หรัส นู๋ มัย เช้ค พึ่ง เปิด ไร แบงค์ ตปท เปง เช็ค ปะ ที ก หน่ะ อิก ใง ฮาาา ปัย บัณชี เห้น ล่ะ ด้าย เงืน แล้ว ใข่ เหรอ ล๊อก คพ จ้า ทรัพ ลิ้ง นี่ จิง ยัง จ่ะ ม ไมา สวัดดี เทอ ฯ ออม พร้อมเพ นะ ตังค์ จัย อัพเดต แลัว ยัตร ที่ ล้ะ เนาะ เเร้ว แบงกิ้ง เครือง ้ คุน ใข้ คน ผม มี เลย ยาก ล็อค รัย เปี่ยน โห ประมาน รีไฟแนน ดี ค้ เน้ต มั่ง ว่า ว่ะ แล้ส แบง เดียว ซัก แอพพลิเคชั่น คราบ เห้อ \n",
            "คะ อะ ครับ ค่ะ ไหม เบอร์ อย่างไร แอป สมัคร ก็ เป็น อ๋อ โทรศัพท์ บัญชี ได้ อยู่ ไม่ . เลย แล้ว   เปล่า ใหม่ เครดิต นะ รู้ หรือ ใช่ อินเทอร์เน็ต แอพ ไหน สตางค์ เขา เปลี่ยน เหรอ อ่ะ ตู้ หรือเปล่า ยังไง ขอบคุณ ใช้ อะไร เช็ค ไง หนึ่ง เท่าไร กระทู้ ค เดี๋ยว เจ้าของ จ้ะ สิ เปิดบัญชี ให้ ขอโทษ ดาวน์โหลด บช ออนไลน์ เช็ก ปะ ธ หน่อย โทร กับ ไทยพาณิชย์ เงิน กู้ น่ะ ข้อมูล เว็บ พิมพ์ ไว้ นี่ จ้า นี้ เคาน์เตอร์ คอลเซ็นเตอร์ เคแบงก์ ทำไม หนู ที่ ต่าง เพิ่ง ประเทศ รหัส แบงก์ ละ ล็อก อีก ไป เห็น ฮา หมายเลข อัปเดต ธนาคาร อ้อ เป็นไร ล่ะ สวัสดี บ้าง ทรัพย์ ก เน็ต เว็บไซต์ เธอ จริง ครับผม บัตร ทำ พร้อมเพย์ ออม อยู่แล้ว เครื่อง วะ ม ประมาณ อาทิตย์ รีไฟแนนซ์ อยาก สามารถ โอ้โฮ แอปพลิเคชัน ก็เลย ดิฉัน รู้จัก ลิงค์ แบงก์กิ้ง เฮ้อ มี เข้า สัก คุณ ลิงก์ ต้อง หรือว่า หรือยัง เพิ่ม กว่า ต สัตว์ วิธี วัน บมจ ยัง ย มือถือ พีซ ความ จ๊ะ ไร กลับ สู่ ยอด พนักงาน จะ ล็อค ต่ำ อะสิ มาก ล็อกอิน เพื่อน คนละ เป็นอะ ที่อยู่ แบงค์ สอบถาม บุคคล ที และ ลอง ขอ สลิป กู ผม เนี่ย โอเค ๆ เสร็จ เมื่อไร อีเหน่ง อยู่อะ ชม พรุ่งนี้ เดียว ขี้เกียจ ล็อคอิน ปลด เพราะ เสีย บลจ แต่ อัตโนมัติ กด แบบฟอร์ม ลงทะเบียน น่ารักอะ โปรโมชัน ปั๊ม K PLUS K Bank "
          ],
          "name": "stdout"
        }
      ]
    },
    {
      "cell_type": "code",
      "metadata": {
        "colab": {
          "base_uri": "https://localhost:8080/"
        },
        "id": "q3tk52djI3H7",
        "outputId": "789690a4-abed-4afc-bef4-fbe29a72ddae"
      },
      "source": [
        "MAX_KEY_LEN = 6\r\n",
        "miss2corr_dict = defaultdict(lambda :defaultdict(int))\r\n",
        "\r\n",
        "for x in X_train:\r\n",
        "    sent = x[0]\r\n",
        "    \r\n",
        "    for label in x[1]:\r\n",
        "        # di = label[0][1] - label[0][0]\r\n",
        "        # if label[0][1] - label[0][0] == 1:\r\n",
        "        #     unpacked = unpack_index(label[0])\r\n",
        "        #     for i,idx in enumerate(unpacked):\r\n",
        "        #         miss2corr_dict[(sent[idx[0]],)][(label[1][i],)] += 1\r\n",
        "        # else:\r\n",
        "        key = tuple(sent[label[0][0]:label[0][1]])\r\n",
        "\r\n",
        "        miss2corr_dict[key][tuple(label[1])] += 1\r\n",
        "len(miss2corr_dict)"
      ],
      "execution_count": null,
      "outputs": [
        {
          "output_type": "execute_result",
          "data": {
            "text/plain": [
              "1589"
            ]
          },
          "metadata": {
            "tags": []
          },
          "execution_count": 183
        }
      ]
    },
    {
      "cell_type": "code",
      "metadata": {
        "id": "2w9SmVZWUWCl"
      },
      "source": [
        "miss2corr_dict"
      ],
      "execution_count": null,
      "outputs": []
    },
    {
      "cell_type": "markdown",
      "metadata": {
        "id": "DH_KteXjA6Gy"
      },
      "source": [
        "## Preprocess"
      ]
    },
    {
      "cell_type": "code",
      "metadata": {
        "id": "97f316ENA-v0"
      },
      "source": [
        "X_train_pp = [x[0] for x in X_train]"
      ],
      "execution_count": null,
      "outputs": []
    },
    {
      "cell_type": "code",
      "metadata": {
        "id": "3tznivi1BkRc"
      },
      "source": [
        "y_train = []\r\n",
        "for x in X_train:\r\n",
        "    sent = x[0]\r\n",
        "    morph = []\r\n",
        "    idx = 0\r\n",
        "    for label in x[1]:\r\n",
        "        morph += sent[idx:label[0][0]]\r\n",
        "        morph += label[1]\r\n",
        "        idx = label[0][1]\r\n",
        "    morph += sent[idx:len(sent)]\r\n",
        "    y_train.append(morph)"
      ],
      "execution_count": null,
      "outputs": []
    },
    {
      "cell_type": "markdown",
      "metadata": {
        "id": "8UVRkcyLiDIH"
      },
      "source": [
        "## Non-Word / Real-Word classification and correction (Busted)"
      ]
    },
    {
      "cell_type": "markdown",
      "metadata": {
        "id": "Hc1PwDvIhEmF"
      },
      "source": [
        "### None-Word Missspell"
      ]
    },
    {
      "cell_type": "code",
      "metadata": {
        "colab": {
          "base_uri": "https://localhost:8080/"
        },
        "id": "vUl4QzBJW5Wq",
        "outputId": "8fa0db55-7dab-4a4e-dd42-69e4e5a6375f"
      },
      "source": [
        "!wget https://gist.githubusercontent.com/anonymous/36568e5aaa73790e718757ff5f481afe/raw/51fa364bab4783596c3192c2c1d4b155fbdac83d/thai.dict"
      ],
      "execution_count": null,
      "outputs": [
        {
          "output_type": "stream",
          "text": [
            "--2021-03-14 11:25:29--  https://gist.githubusercontent.com/anonymous/36568e5aaa73790e718757ff5f481afe/raw/51fa364bab4783596c3192c2c1d4b155fbdac83d/thai.dict\n",
            "Resolving gist.githubusercontent.com (gist.githubusercontent.com)... 185.199.108.133, 185.199.109.133, 185.199.110.133, ...\n",
            "Connecting to gist.githubusercontent.com (gist.githubusercontent.com)|185.199.108.133|:443... connected.\n",
            "HTTP request sent, awaiting response... 200 OK\n",
            "Length: 857451 (837K) [text/plain]\n",
            "Saving to: ‘thai.dict’\n",
            "\n",
            "\rthai.dict             0%[                    ]       0  --.-KB/s               \rthai.dict           100%[===================>] 837.35K  --.-KB/s    in 0.02s   \n",
            "\n",
            "2021-03-14 11:25:29 (47.4 MB/s) - ‘thai.dict’ saved [857451/857451]\n",
            "\n"
          ],
          "name": "stdout"
        }
      ]
    },
    {
      "cell_type": "code",
      "metadata": {
        "id": "x1-cwkIO0p0j"
      },
      "source": [
        "!pip install pythainlp"
      ],
      "execution_count": null,
      "outputs": []
    },
    {
      "cell_type": "code",
      "metadata": {
        "id": "8vINOL82ZIOY",
        "colab": {
          "base_uri": "https://localhost:8080/"
        },
        "outputId": "04efe914-8842-478f-c341-9fa75190a818"
      },
      "source": [
        "# dictionary0\r\n",
        "dict0 = set()\r\n",
        "with open('thai.dict','r') as f:\r\n",
        "    for l in f:\r\n",
        "        dict0.add(l.strip())\r\n",
        "dict0.update(['ค่ะ'])\r\n",
        "\r\n",
        "# tcc corpus\r\n",
        "import pythainlp.corpus.ttc as tcc\r\n",
        "tcc_dict = set()\r\n",
        "tcc_word_freqs = tcc.word_freqs()\r\n",
        "for freq in tcc_word_freqs:\r\n",
        "    tcc_dict.add(freq[0])\r\n",
        "\r\n",
        "# train set\r\n",
        "kbtg_dict = set()\r\n",
        "for k,v in miss2corr_dict.items():\r\n",
        "    if len(k) == 1:\r\n",
        "        kbtg_dict.add(sorted(v.items(), key=lambda x: x[1], reverse=True)[0][0][0])\r\n",
        "print(len(kbtg_dict))\r\n",
        "\r\n",
        "# combine\r\n",
        "extra_dict = {'คอลเซ็นเตอร์', 'จริงจริง'}\r\n",
        "\r\n",
        "dictionary = tcc_dict\r\n",
        "dictionary.update(dict0)\r\n",
        "dictionary.update(kbtg_dict)\r\n",
        "dictionary.update(extra_dict)\r\n",
        "\r\n",
        "dictionary.remove(' ')\r\n",
        "dictionary.remove('')\r\n",
        "dictionary.remove('ก')\r\n",
        "dictionary.remove('เปน')\r\n",
        "len(dictionary)"
      ],
      "execution_count": null,
      "outputs": [
        {
          "output_type": "stream",
          "text": [
            "312\n"
          ],
          "name": "stdout"
        },
        {
          "output_type": "execute_result",
          "data": {
            "text/plain": [
              "42501"
            ]
          },
          "metadata": {
            "tags": []
          },
          "execution_count": 281
        }
      ]
    },
    {
      "cell_type": "code",
      "metadata": {
        "id": "7z3SeY530JCT"
      },
      "source": [
        "def is_nonword_miss(w, d):\r\n",
        "    return not w in d"
      ],
      "execution_count": null,
      "outputs": []
    },
    {
      "cell_type": "code",
      "metadata": {
        "colab": {
          "base_uri": "https://localhost:8080/"
        },
        "id": "a269mJoYAvDo",
        "outputId": "53877390-188e-4256-92be-908259400dc6"
      },
      "source": [
        "# predict\r\n",
        "y_train_s = []\r\n",
        "for x in X_train:\r\n",
        "    sent = x[0]\r\n",
        "    pred = []\r\n",
        "    for i,w in enumerate(sent):\r\n",
        "        if is_nonword_miss(w, dictionary):\r\n",
        "            if pred and pred[-1][1] == i:\r\n",
        "                pred[-1] = [pred[-1][0],i+1]\r\n",
        "            else:\r\n",
        "                pred.append([i,i+1])\r\n",
        "    y_train_s.append(list(pred))\r\n",
        "\r\n",
        "# evaluate\r\n",
        "tp = 0\r\n",
        "tn = 0\r\n",
        "fp = 0\r\n",
        "fn = 0\r\n",
        "for i,x in enumerate(X_train):\r\n",
        "    actual = set()\r\n",
        "    for label in x[1]:\r\n",
        "        actual.update([idx[0] for idx in unpack_index(label[0])])\r\n",
        "    pred = set()\r\n",
        "    for label in y_train_s[i]:\r\n",
        "        pred.update([idx[0] for idx in unpack_index(label)])\r\n",
        "\r\n",
        "    n = len(x[0])\r\n",
        "    tp_ = len(actual.intersection(pred))\r\n",
        "    tp += tp_\r\n",
        "    tn += n - len(actual.union(pred))\r\n",
        "    fp += len(pred) - tp_\r\n",
        "    fn += len(actual) - tp_\r\n",
        "\r\n",
        "# print result\r\n",
        "tp + tn + fp + fn\r\n",
        "print('recall', tp/(tp+fn))\r\n",
        "print('precision', tp/(tp+fp))\r\n",
        "print('accuracy', (tp+tn)/(tp+tn+fp+fn))\r\n",
        "print('fp-rate', fp/(tn+fp))\r\n",
        "# print('#true', tp+fn)\r\n",
        "# print('#false', tn+fp)\r\n",
        "# print('sum',tp+tn+fp+fn)"
      ],
      "execution_count": null,
      "outputs": [
        {
          "output_type": "stream",
          "text": [
            "recall 0.24640060621369034\n",
            "precision 1.0\n",
            "accuracy 0.8817654926437807\n",
            "fp-rate 0.0\n"
          ],
          "name": "stdout"
        }
      ]
    },
    {
      "cell_type": "code",
      "metadata": {
        "colab": {
          "base_uri": "https://localhost:8080/"
        },
        "id": "XTDA6tGieftA",
        "outputId": "705c590d-292e-415f-c93b-5716014542ed"
      },
      "source": [
        "'พนง' in dictionary"
      ],
      "execution_count": null,
      "outputs": [
        {
          "output_type": "execute_result",
          "data": {
            "text/plain": [
              "False"
            ]
          },
          "metadata": {
            "tags": []
          },
          "execution_count": 97
        }
      ]
    },
    {
      "cell_type": "code",
      "metadata": {
        "colab": {
          "base_uri": "https://localhost:8080/"
        },
        "id": "UafL7lmvt1at",
        "outputId": "d606fa25-c4e7-4c81-9157-5dad79f793f6"
      },
      "source": [
        "def find_cer(src,dst):\r\n",
        "    m = np.zeros((len(src)+1,len(dst)+1), dtype=np.uint16)\r\n",
        "    m[0,:] = np.arange(len(dst)+1)\r\n",
        "    m[:,0] = np.arange(len(src)+1)\r\n",
        "    for i in range(len(src)):\r\n",
        "        for j in range(len(dst)):\r\n",
        "            m[i+1,j+1] = min([\r\n",
        "                              m[i,j+1] + 1,\r\n",
        "                              m[i+1,j] + 1,\r\n",
        "                              m[i,j] if src[i] == dst[j] else m[i,j] +1\r\n",
        "            ])\r\n",
        "    return m[-1,-1]\r\n",
        "find_cer('ขนอ','กขนาน')"
      ],
      "execution_count": null,
      "outputs": [
        {
          "output_type": "execute_result",
          "data": {
            "text/plain": [
              "3"
            ]
          },
          "metadata": {
            "tags": []
          },
          "execution_count": 64
        }
      ]
    },
    {
      "cell_type": "markdown",
      "metadata": {
        "id": "kOIHapj1nlRc"
      },
      "source": [
        "### ClassifyAndCorrect CNC"
      ]
    },
    {
      "cell_type": "code",
      "metadata": {
        "colab": {
          "base_uri": "https://localhost:8080/"
        },
        "id": "UstDpUDnsbzq",
        "outputId": "67c95e3d-512e-4d0f-fa53-dac9c85ce569"
      },
      "source": [
        "one_word_list = list(filter(lambda k: len(k) == 1, miss2corr_dict))\r\n",
        "correction_dict = {k[0]:sorted(miss2corr_dict[k].items(), reverse=True, key=lambda x: x[1])[0][0][0] for k in one_word_list}\r\n",
        "list(correction_dict.items())[:5]\r\n",
        "\r\n",
        "print('before clean', len(correction_dict))\r\n",
        "\r\n",
        "# clean\r\n",
        "del correction_dict['K PLUS']\r\n",
        "del correction_dict['ไวไฟ']\r\n",
        "del correction_dict['แอป']\r\n",
        "\r\n",
        "keys = list(correction_dict.keys())\r\n",
        "for k in keys:\r\n",
        "    if k in dictionary:\r\n",
        "        del correction_dict[k]\r\n",
        "\r\n",
        "\r\n",
        "\r\n",
        "print('after clean', len(correction_dict))\r\n",
        "\r\n",
        "cnc_cache = dict()\r\n",
        "def correct_nonword(wi):\r\n",
        "    if wi in dictionary:\r\n",
        "        return wi\r\n",
        "    \r\n",
        "    if wi in correction_dict:\r\n",
        "        return correction_dict[wi]\r\n",
        "    elif wi in cnc_cache:\r\n",
        "        return cnc_cache[wi]\r\n",
        "    else:\r\n",
        "        candidates = set(filter(lambda x: len(x) <= len(wi)+2 and len(x) >= len(wi)-2, dictionary))\r\n",
        "        candidates = set(filter(lambda x: len(set(x).intersection(set(wi))) > len(set(wi))-3, candidates))\r\n",
        "        order = sorted([(c,find_cer(c, wi)) for c in candidates], key=lambda x: x[1], reverse=False)\r\n",
        "        res = ''\r\n",
        "        if order and order[0][1] <= 4:\r\n",
        "            res = order[0][0]\r\n",
        "        else:\r\n",
        "            print('cannot find candidate', wi)\r\n",
        "            res = wi\r\n",
        "        cnc_cache[wi] = res\r\n",
        "        return res\r\n",
        "    \r\n",
        "print('หริอ',correct_nonword('หริอ'))\r\n",
        "print('ถูก',correct_nonword('ถูก'))\r\n",
        "print('ธรรมชาด',correct_nonword('ธรรมชาด'))\r\n",
        "print('หิส',correct_nonword('หิส'))\r\n",
        "print('คอลเซ้นเตอร',correct_nonword('คอลเซ้นเตอร'))\r\n",
        "print('จริงจริ๊ง',correct_nonword('จริงจริ๊ง'))"
      ],
      "execution_count": null,
      "outputs": [
        {
          "output_type": "stream",
          "text": [
            "before clean 505\n",
            "after clean 336\n",
            "หริอ หรือ\n",
            "ถูก ถูก\n",
            "ธรรมชาด ธรรมกาย\n",
            "หิส หิน\n",
            "คอลเซ้นเตอร คอลเซ็นเตอร์\n",
            "จริงจริ๊ง จริงจริง\n"
          ],
          "name": "stdout"
        }
      ]
    },
    {
      "cell_type": "code",
      "metadata": {
        "id": "Q6B6kn5bnvMn"
      },
      "source": [
        "def get_cnc(s):\r\n",
        "    res = [correct_nonword(wi) for wi in s]\r\n",
        "    return res"
      ],
      "execution_count": null,
      "outputs": []
    },
    {
      "cell_type": "markdown",
      "metadata": {
        "id": "2lbScn5TCQ_2"
      },
      "source": [
        "## Rulebase E2E"
      ]
    },
    {
      "cell_type": "markdown",
      "metadata": {
        "id": "am-dxdsHa-UJ"
      },
      "source": [
        "### Rulebase 1 : 5.58"
      ]
    },
    {
      "cell_type": "code",
      "metadata": {
        "id": "QtCBlca3a843"
      },
      "source": [
        "# prepare dictionary\r\n",
        "MAX_KEY_LEN = 6\r\n",
        "miss2corr_dict = [defaultdict(list) for i in range(MAX_KEY_LEN)]\r\n",
        "for x in X_train:\r\n",
        "    sent = x[0]\r\n",
        "    \r\n",
        "    for label in x[1]:\r\n",
        "        di = label[0][1] - label[0][0]\r\n",
        "\r\n",
        "        key = tuple(sent[label[0][0]:label[0][1]])\r\n",
        "\r\n",
        "        miss2corr_dict[di-1][key].append(tuple(label[1]))\r\n",
        "\r\n",
        "correction_dict = [defaultdict(tuple) for i in range(MAX_KEY_LEN)]\r\n",
        "for di in range(6):\r\n",
        "    d = miss2corr_dict[di]\r\n",
        "    for k,v in d.items():\r\n",
        "        candidate = list(set(v))\r\n",
        "        candidate_freq = [v.count(cd) for cd in candidate]\r\n",
        "        first = sorted(list(zip(candidate_freq,candidate)),reverse=True)[0]\r\n",
        "        if first[0] > 100:\r\n",
        "            correction_dict[di][k] = first[1]\r\n",
        "\r\n",
        "# clean\r\n",
        "correction_dict[1][('อะ', 'คะ')] = ('อะ', 'ค่ะ')\r\n",
        "\r\n",
        "def get_correct_rulebase(s):\r\n",
        "    res = []\r\n",
        "\r\n",
        "    i = 0\r\n",
        "    while i < len(s):\r\n",
        "        # print(i)\r\n",
        "        for di in range(2,-1,-1):\r\n",
        "            i2 = i + di + 1\r\n",
        "            phrase = tuple(s[i:i2]) \r\n",
        "            if phrase in correction_dict[di]:\r\n",
        "                # print('correct',phrase, correction_dict[di][phrase],di)\r\n",
        "                res += correction_dict[di][phrase]\r\n",
        "                i = i2\r\n",
        "                break\r\n",
        "        else:\r\n",
        "            # print('normal', s[i:i+1], s[i])\r\n",
        "            res += s[i:i+1]\r\n",
        "            i += 1\r\n",
        "    return res\r\n",
        "\r\n",
        "print(''.join(get_correct_rulebase(X_train_pp[3])))\r\n",
        "print(''.join(y_train[3]))"
      ],
      "execution_count": null,
      "outputs": []
    },
    {
      "cell_type": "markdown",
      "metadata": {
        "id": "Okp7ud3WbKcA"
      },
      "source": [
        "### Rulebase 2 4.94"
      ]
    },
    {
      "cell_type": "code",
      "metadata": {
        "colab": {
          "base_uri": "https://localhost:8080/"
        },
        "id": "t9iVaKV09EYc",
        "outputId": "6bcc04ea-0387-4748-e677-d0b5938f68c6"
      },
      "source": [
        "# prepare dictionary\r\n",
        "MAX_KEY_LEN = 6\r\n",
        "miss2corr_dict = [defaultdict(list) for i in range(MAX_KEY_LEN)]\r\n",
        "for x in X_train:\r\n",
        "    sent = x[0]\r\n",
        "    \r\n",
        "    for label in x[1]:\r\n",
        "        di = label[0][1] - label[0][0]\r\n",
        "\r\n",
        "        key = tuple(sent[label[0][0]:label[0][1]])\r\n",
        "\r\n",
        "        miss2corr_dict[di-1][key].append(tuple(label[1]))\r\n",
        "\r\n",
        "correction_dict = [defaultdict(tuple) for i in range(MAX_KEY_LEN)]\r\n",
        "for di in range(6):\r\n",
        "    d = miss2corr_dict[di]\r\n",
        "    for k,v in d.items():\r\n",
        "        candidate = list(set(v))\r\n",
        "        candidate_freq = [v.count(cd) for cd in candidate]\r\n",
        "        first = sorted(list(zip(candidate_freq,candidate)),reverse=True)[0]\r\n",
        "        minimum = 1\r\n",
        "        if di == 0:\r\n",
        "            minimum = 50\r\n",
        "        elif di == 1:\r\n",
        "            minimum = 10\r\n",
        "        elif di == 2:\r\n",
        "            minimum = 3\r\n",
        "             \r\n",
        "        if first[0] > minimum:\r\n",
        "            correction_dict[di][k] = first[1]\r\n",
        "\r\n",
        "# clean\r\n",
        "correction_dict[1][('อะ', 'คะ')] = ('อะ', 'ค่ะ')\r\n",
        "\r\n",
        "def get_correct_rulebase(s):\r\n",
        "    res = []\r\n",
        "\r\n",
        "    i = 0\r\n",
        "    while i < len(s):\r\n",
        "        # print(i)\r\n",
        "        for di in range(3,-1,-1):\r\n",
        "            i2 = i + di + 1\r\n",
        "            phrase = tuple(s[i:i2]) \r\n",
        "            if phrase in correction_dict[di]:\r\n",
        "                # print('correct',phrase, correction_dict[di][phrase],di)\r\n",
        "                res += correction_dict[di][phrase]\r\n",
        "                i = i2\r\n",
        "                break\r\n",
        "        else:\r\n",
        "            # print('normal', s[i:i+1], s[i])\r\n",
        "            res += s[i:i+1]\r\n",
        "            i += 1\r\n",
        "    return res\r\n",
        "\r\n",
        "print(''.join(get_correct_rulebase(X_train_pp[3])))\r\n",
        "print(''.join(y_train[3]))"
      ],
      "execution_count": null,
      "outputs": [
        {
          "output_type": "stream",
          "text": [
            "ทำรายการที่ตู้atm อะค่ะ เป็นการทำรายการเปลี่ยนเบอร์โทรสับอะค่ะ\n",
            "ทำรายการที่ตู้atm อะค่ะ เป็นการทำรายการเปลี่ยนเบอร์โทรศัพท์อะค่ะ\n"
          ],
          "name": "stdout"
        }
      ]
    },
    {
      "cell_type": "code",
      "metadata": {
        "colab": {
          "base_uri": "https://localhost:8080/"
        },
        "id": "AD9Vtgb6QP8n",
        "outputId": "9bd46add-a8bb-4c8d-b757-5e7610553a4d"
      },
      "source": [
        ""
      ],
      "execution_count": null,
      "outputs": [
        {
          "output_type": "stream",
          "text": [
            "('ที่',) ('ที',)\n",
            "('อะ', 'คะ') ('อ่ะ', 'ค่ะ')\n",
            "('เบอ', 'โทรสับ') ('เบอร์', 'โทรศัพท์')\n",
            "('อะ', 'คะ') ('อ่ะ', 'ค่ะ')\n",
            "โอนผิดทีเข้าบช อ่ะค่ะเบอร์โทรศัพท์อ่ะค่ะ\n",
            "ทำรายการที่ตู้atm อะค่ะ เป็นการทำรายการเปลี่ยนเบอร์โทรศัพท์อะค่ะ\n"
          ],
          "name": "stdout"
        }
      ]
    },
    {
      "cell_type": "code",
      "metadata": {
        "id": "yIsTh3G9pJxU"
      },
      "source": [
        "\r\n",
        "def predict(X, model, size=None):\r\n",
        "    y = []\r\n",
        "    if size == None:\r\n",
        "        size = len(X)\r\n",
        "    for i,x in enumerate(X[:size]):\r\n",
        "        if i % 1000 == 0:\r\n",
        "            print(i)\r\n",
        "        sent = x\r\n",
        "        pred = model(sent)\r\n",
        "        y.append(pred)\r\n",
        "    return y\r\n"
      ],
      "execution_count": null,
      "outputs": []
    },
    {
      "cell_type": "code",
      "metadata": {
        "colab": {
          "base_uri": "https://localhost:8080/"
        },
        "id": "TQ8YOAmqTk4B",
        "outputId": "43721214-c553-4df0-f191-a67aeb636c33"
      },
      "source": [
        "# baseline\r\n",
        "# y_pred = predict(X_train_pp, get_correct_rulebase)\r\n",
        "cer = 0\r\n",
        "for i in range(len(y_train[:1000])):\r\n",
        "    if i % 100 == 0:\r\n",
        "        print(i,' ',end='')\r\n",
        "    actl = ''.join(y_train[i])\r\n",
        "    pred = ''.join(X_train_pp[i])\r\n",
        "    cer += find_cer(actl,pred)\r\n",
        "print()\r\n",
        "# result\r\n",
        "print(cer/len(y_train))"
      ],
      "execution_count": null,
      "outputs": [
        {
          "output_type": "stream",
          "text": [
            "0  100  200  300  400  500  600  700  800  900  \n",
            "0.261\n"
          ],
          "name": "stdout"
        }
      ]
    },
    {
      "cell_type": "code",
      "metadata": {
        "colab": {
          "base_uri": "https://localhost:8080/"
        },
        "id": "AKYV11u4zQQW",
        "outputId": "c028c0ba-6f97-4d68-9e1a-adba629c044b"
      },
      "source": [
        "# Test On Train\r\n",
        "\r\n",
        "\r\n",
        "# Evaluate\r\n",
        "# result = pd.DataFrame(columns=['actl','pred','cer'], dtype=object)\r\n",
        "y_pred = predict(X_train_pp, get_correct_rulebase, size=1000)\r\n",
        "cer = 0\r\n",
        "for i in range(len(y_pred)):\r\n",
        "    if i % 100 == 0:\r\n",
        "        print(i,' ',end='')\r\n",
        "    actl = ''.join(y_train[i])\r\n",
        "    pred = ''.join(y_pred[i])\r\n",
        "    cer += find_cer(actl,pred)\r\n",
        "print()\r\n",
        "# result\r\n",
        "print(cer/len(y_train))"
      ],
      "execution_count": null,
      "outputs": [
        {
          "output_type": "stream",
          "text": [
            "0\n",
            "0  100  200  300  400  500  600  700  800  900  \n",
            "0.2314\n"
          ],
          "name": "stdout"
        }
      ]
    },
    {
      "cell_type": "code",
      "metadata": {
        "colab": {
          "base_uri": "https://localhost:8080/"
        },
        "id": "LNrJmGgYyggz",
        "outputId": "04795a2b-b145-4367-c4bc-98fec6c3fc45"
      },
      "source": [
        "cer"
      ],
      "execution_count": null,
      "outputs": [
        {
          "output_type": "execute_result",
          "data": {
            "text/plain": [
              "47"
            ]
          },
          "metadata": {
            "tags": []
          },
          "execution_count": 215
        }
      ]
    },
    {
      "cell_type": "markdown",
      "metadata": {
        "id": "e5uR64izc5UR"
      },
      "source": [
        "### Rulebase 3 4.28"
      ]
    },
    {
      "cell_type": "code",
      "metadata": {
        "colab": {
          "base_uri": "https://localhost:8080/"
        },
        "id": "YF5LpFO6c5Uc",
        "outputId": "873555f2-5642-4c05-db96-0e3ac5a76d9e"
      },
      "source": [
        "# prepare dictionary\r\n",
        "MAX_KEY_LEN = 6\r\n",
        "miss2corr_dict_rb = [defaultdict(list) for i in range(MAX_KEY_LEN)]\r\n",
        "for x in X_train:\r\n",
        "    sent = x[0]\r\n",
        "    \r\n",
        "    for label in x[1]:\r\n",
        "        di = label[0][1] - label[0][0]\r\n",
        "\r\n",
        "        key = tuple(sent[label[0][0]:label[0][1]])\r\n",
        "\r\n",
        "        miss2corr_dict_rb[di-1][key].append(tuple(label[1]))\r\n",
        "\r\n",
        "correction_dict_rb = [defaultdict(tuple) for i in range(MAX_KEY_LEN)]\r\n",
        "for di in range(6):\r\n",
        "    d = miss2corr_dict_rb[di]\r\n",
        "    for k,v in d.items():\r\n",
        "        candidate = list(set(v))\r\n",
        "        candidate_freq = [v.count(cd) for cd in candidate]\r\n",
        "        first = sorted(list(zip(candidate_freq,candidate)),reverse=True)[0]\r\n",
        "        minimum = 1\r\n",
        "        if di == 0:\r\n",
        "            minimum = 18\r\n",
        "        elif di == 1:\r\n",
        "            minimum = 3\r\n",
        "        elif di == 2:\r\n",
        "            minimum = 2\r\n",
        "             \r\n",
        "        if first[0] > minimum:\r\n",
        "            correction_dict_rb[di][k] = first[1]\r\n",
        "\r\n",
        "# clean\r\n",
        "correction_dict_rb[1][('อะ', 'คะ')] = ('อะ', 'ค่ะ')\r\n",
        "\r\n",
        "def get_correct_rulebase(s):\r\n",
        "    res = []\r\n",
        "\r\n",
        "    i = 0\r\n",
        "    while i < len(s):\r\n",
        "        # print(i)\r\n",
        "        for di in range(4,-1,-1):\r\n",
        "            i2 = i + di + 1\r\n",
        "            phrase = tuple(s[i:i2]) \r\n",
        "            if phrase in correction_dict_rb[di]:\r\n",
        "                # print('correct',phrase, correction_dict[di][phrase],di)\r\n",
        "                res += correction_dict_rb[di][phrase]\r\n",
        "                i = i2\r\n",
        "                break\r\n",
        "        else:\r\n",
        "            # print('normal', s[i:i+1], s[i])\r\n",
        "            res += s[i:i+1]\r\n",
        "            i += 1\r\n",
        "    return res\r\n",
        "\r\n",
        "print(''.join(get_correct_rulebase(X_train_pp[3])))\r\n",
        "print(''.join(y_train[3]))"
      ],
      "execution_count": null,
      "outputs": [
        {
          "output_type": "stream",
          "text": [
            "ทำรายการที่ตู้atm อะค่ะ เป็นการทำรายการเปลี่ยนเบอร์โทรศัพท์อะค่ะ\n",
            "ทำรายการที่ตู้atm อะค่ะ เป็นการทำรายการเปลี่ยนเบอร์โทรศัพท์อะค่ะ\n"
          ],
          "name": "stdout"
        }
      ]
    },
    {
      "cell_type": "code",
      "metadata": {
        "id": "TfJXi3EUuXem"
      },
      "source": [
        "def get_cnc_rb(s):\r\n",
        "    return get_cnc(get_correct_rulebase(s))\r\n"
      ],
      "execution_count": null,
      "outputs": []
    },
    {
      "cell_type": "markdown",
      "metadata": {
        "id": "N2SAJwcdClih"
      },
      "source": [
        "### Rulebase 4 3.94"
      ]
    },
    {
      "cell_type": "code",
      "metadata": {
        "colab": {
          "base_uri": "https://localhost:8080/"
        },
        "id": "C-fD16AgClij",
        "outputId": "2e349b4c-8163-4d43-e645-de87f2597baf"
      },
      "source": [
        "# prepare dictionary\r\n",
        "MAX_KEY_LEN = 6\r\n",
        "miss2corr_dict_rb = [defaultdict(list) for i in range(MAX_KEY_LEN)]\r\n",
        "for x in X_train:\r\n",
        "    sent = x[0]\r\n",
        "    \r\n",
        "    for label in x[1]:\r\n",
        "        di = label[0][1] - label[0][0]\r\n",
        "\r\n",
        "        key = tuple(sent[label[0][0]:label[0][1]])\r\n",
        "\r\n",
        "        miss2corr_dict_rb[di-1][key].append(tuple(label[1]))\r\n",
        "\r\n",
        "correction_dict_rb = [defaultdict(tuple) for i in range(MAX_KEY_LEN)]\r\n",
        "for di in range(6):\r\n",
        "    d = miss2corr_dict_rb[di]\r\n",
        "    for k,v in d.items():\r\n",
        "        candidate = list(set(v))\r\n",
        "        candidate_freq = [v.count(cd) for cd in candidate]\r\n",
        "        first = sorted(list(zip(candidate_freq,candidate)),reverse=True)[0]\r\n",
        "        minimum = 1\r\n",
        "        if di == 0:\r\n",
        "            minimum = 1\r\n",
        "        elif di == 1:\r\n",
        "            minimum = 3\r\n",
        "        elif di == 2:\r\n",
        "            minimum = 2\r\n",
        "\r\n",
        "        if first[0] > minimum:\r\n",
        "            correction_dict_rb[di][k] = first[1]\r\n",
        "\r\n",
        "print(len(correction_dict_rb[0]))\r\n",
        "keys = list(correction_dict_rb[0].keys())\r\n",
        "for k in keys:\r\n",
        "    if k[0] in dictionary:\r\n",
        "        del correction_dict_rb[0][k]\r\n",
        "print(len(correction_dict_rb[0]))\r\n",
        "\r\n",
        "# hand \r\n",
        "correction_dict_rb[1][('อะ', 'คะ')] = ('อะ', 'ค่ะ')\r\n",
        "# correction_dict_rb[0][('อ่ะ',)] = ('อะ')\r\n",
        "\r\n",
        "def kakakub_corrector(s):\r\n",
        "    res = list(s)\r\n",
        "    for i in range(len(s)):\r\n",
        "        wi = s[i]\r\n",
        "        kas = ['ค่ะ','คะ','คร้า','คร่า']\r\n",
        "        if wi == 'คับ':\r\n",
        "            res[i] = 'ครับ'\r\n",
        "        elif wi in kas:\r\n",
        "            # first of sentence\r\n",
        "            if i >= 2 and s[i-2] == 'หรือ':\r\n",
        "                res[i] = 'คะ'\r\n",
        "            elif i >= 1:\r\n",
        "                question_que = ['หรือ','ไหม','ไง','ไร','ไหร่','ไหน','ไม','นะ','เปล่า','หรอ']\r\n",
        "                if res[i-1] in question_que:\r\n",
        "                    res[i] = 'คะ'\r\n",
        "                else:\r\n",
        "                    res[i] = 'ค่ะ'\r\n",
        "\r\n",
        "            elif i == 0:\r\n",
        "                res[i] = 'ค่ะ'\r\n",
        "            else:\r\n",
        "                res[i] = wi\r\n",
        "        else:\r\n",
        "            res[i] = wi\r\n",
        "    return res\r\n",
        "print(kakakub_corrector(['นะ','ค่ะ']))\r\n",
        "import string\r\n",
        "def repetition_corrector(s):\r\n",
        "    res = []\r\n",
        "    for wi in s:\r\n",
        "        if len(wi) < 3:\r\n",
        "            res.append(wi)\r\n",
        "            continue \r\n",
        "        if wi[0] in string.ascii_lowercase:\r\n",
        "            res.append(wi)\r\n",
        "            continue\r\n",
        "        collective = ''\r\n",
        "        newwi = ''\r\n",
        "        for i,char in enumerate(wi):\r\n",
        "            if collective:\r\n",
        "                if collective[-1] == char:\r\n",
        "                    collective += char\r\n",
        "                else:\r\n",
        "                    if len(collective) >= 3:\r\n",
        "                        newwi += collective[0]\r\n",
        "                    else:\r\n",
        "                        newwi += collective+char\r\n",
        "                    collective = ''\r\n",
        "            else:\r\n",
        "                collective += char\r\n",
        "\r\n",
        "        if len(collective) >= 3:\r\n",
        "            newwi += collective[0]\r\n",
        "        else:\r\n",
        "            newwi += collective\r\n",
        "        res.append(newwi)\r\n",
        "    return res\r\n",
        "print(repetition_corrector(['ไว','กันน','บรรจง','สาสสสส','กิกกะ','รร','มากกกกก','รหัส']))\r\n",
        "\r\n",
        "def get_correct_rulebase(s):\r\n",
        "    res = []\r\n",
        "\r\n",
        "    i = 0\r\n",
        "    while i < len(s):\r\n",
        "        # print(i)\r\n",
        "        for di in range(4,-1,-1):\r\n",
        "            i2 = i + di + 1\r\n",
        "            phrase = tuple(s[i:i2]) \r\n",
        "            if phrase in correction_dict_rb[di]:\r\n",
        "                # print('correct',phrase, correction_dict[di][phrase],di)\r\n",
        "                res += correction_dict_rb[di][phrase]\r\n",
        "                i = i2\r\n",
        "                break\r\n",
        "        else:\r\n",
        "            # print('normal', s[i:i+1], s[i])\r\n",
        "            res += s[i:i+1]\r\n",
        "            i += 1\r\n",
        "\r\n",
        "    # correct ka ka\r\n",
        "    res = kakakub_corrector(res)\r\n",
        "    res = repetition_corrector(res)\r\n",
        "    return res\r\n",
        "\r\n",
        "\r\n",
        "\r\n",
        "print(''.join(get_correct_rulebase(X_train_pp[3])))\r\n",
        "print(''.join(y_train[3]))"
      ],
      "execution_count": null,
      "outputs": [
        {
          "output_type": "stream",
          "text": [
            "291\n",
            "198\n",
            "['นะ', 'คะ']\n",
            "['ไว', 'กันน', 'บรรจง', 'สาส', 'กิกกะ', 'รร', 'มาก', 'รหัส']\n",
            "ทำรายการที่ตู้atm อะค่ะ เป็นการทำรายการเปลี่ยนเบอร์โทรศัพท์อะค่ะ\n",
            "ทำรายการที่ตู้atm อะค่ะ เป็นการทำรายการเปลี่ยนเบอร์โทรศัพท์อะค่ะ\n"
          ],
          "name": "stdout"
        }
      ]
    },
    {
      "cell_type": "markdown",
      "metadata": {
        "id": "58fttgE1MVSg"
      },
      "source": [
        "### Wangchan berta"
      ]
    },
    {
      "cell_type": "code",
      "metadata": {
        "colab": {
          "base_uri": "https://localhost:8080/"
        },
        "id": "e4mi92BvDsFy",
        "outputId": "fe58fd4f-701b-4ec0-e73b-20842c5cd6d5"
      },
      "source": [
        "!pip -q install transformers==3.5.0 thai2transformers==0.1.1 \r\n",
        "!pip -q install torch==1.5.0 torchtext==0.4.0 torchvision==0.6.0"
      ],
      "execution_count": null,
      "outputs": [
        {
          "output_type": "stream",
          "text": [
            "\u001b[K     |████████████████████████████████| 1.3MB 21.9MB/s \n",
            "\u001b[K     |████████████████████████████████| 890kB 51.6MB/s \n",
            "\u001b[K     |████████████████████████████████| 2.9MB 50.7MB/s \n",
            "\u001b[K     |████████████████████████████████| 1.1MB 52.6MB/s \n",
            "\u001b[K     |████████████████████████████████| 133kB 50.6MB/s \n",
            "\u001b[K     |████████████████████████████████| 194kB 53.6MB/s \n",
            "\u001b[K     |████████████████████████████████| 8.7MB 44.1MB/s \n",
            "\u001b[K     |████████████████████████████████| 51kB 8.4MB/s \n",
            "\u001b[K     |████████████████████████████████| 829kB 46.0MB/s \n",
            "\u001b[K     |████████████████████████████████| 10.1MB 27.1MB/s \n",
            "\u001b[K     |████████████████████████████████| 481kB 53.9MB/s \n",
            "\u001b[K     |████████████████████████████████| 245kB 59.4MB/s \n",
            "\u001b[K     |████████████████████████████████| 112kB 62.6MB/s \n",
            "\u001b[K     |████████████████████████████████| 327kB 61.7MB/s \n",
            "\u001b[K     |████████████████████████████████| 829kB 46.1MB/s \n",
            "\u001b[K     |████████████████████████████████| 276kB 42.7MB/s \n",
            "\u001b[K     |████████████████████████████████| 92kB 11.8MB/s \n",
            "\u001b[?25h  Building wheel for thai2transformers (setup.py) ... \u001b[?25l\u001b[?25hdone\n",
            "  Building wheel for sacremoses (setup.py) ... \u001b[?25l\u001b[?25hdone\n",
            "  Building wheel for seqeval (setup.py) ... \u001b[?25l\u001b[?25hdone\n",
            "  Building wheel for pyahocorasick (setup.py) ... \u001b[?25l\u001b[?25hdone\n",
            "  Building wheel for future (setup.py) ... \u001b[?25l\u001b[?25hdone\n",
            "  Building wheel for PyYAML (setup.py) ... \u001b[?25l\u001b[?25hdone\n",
            "  Building wheel for fire (setup.py) ... \u001b[?25l\u001b[?25hdone\n",
            "\u001b[K     |████████████████████████████████| 752.0MB 23kB/s \n",
            "\u001b[K     |████████████████████████████████| 61kB 8.2MB/s \n",
            "\u001b[K     |████████████████████████████████| 6.6MB 23.0MB/s \n",
            "\u001b[?25h"
          ],
          "name": "stdout"
        }
      ]
    },
    {
      "cell_type": "code",
      "metadata": {
        "colab": {
          "base_uri": "https://localhost:8080/",
          "height": 164,
          "referenced_widgets": [
            "505a627691dc4f83910df6924390b816",
            "4684321769aa4beca8cfe791a57e1c42",
            "98bb14bb47b142b891e50915a09d5c73",
            "d9e91682398e4527aed24b5262dd6f7e",
            "ef14bc458ea44d7e8a7d359933abb4aa",
            "246fa018c93843f58ea79e0f43adca24",
            "65e59c3890a6455ea68bdfa6dbc9ec17",
            "b1abce7d603f4cacb6a94a064e13cd6b",
            "894fc201596c466a98ef4c9f48cbda81",
            "0b73baa3b7124733a9559ad434921d68",
            "21c50d463cb14fc881d00f4dbe9b4940",
            "67e83d2c7101420fb20850f0650065c7",
            "59783f69380b4a528badf1a3a9cbe019",
            "2b9667f4c5d847e9bedec3ba1d930973",
            "1ca47f7bd1d94fb59d8ebe3a816ce5d3",
            "bbbeabafd09b4fb7982c5bb6e863b457",
            "3b6831a332ca47b8af8fb63d459a9650",
            "ce20031e78184b7792ea38b6bbb9a140",
            "6aa5c04e781c4bf49bc399c0d763566b",
            "b2a123f5946d486e85b3f3ba5eada3f7",
            "6fea62cd59e445df91d2f219a796fd0d",
            "6c8de415747446129f830e3c0673da48",
            "6da453fcf29441538c78d8a1730bf55b",
            "5c3a4941ec1f4fdc854f49682f501297"
          ]
        },
        "id": "zYKNdo4wD_r6",
        "outputId": "ba931651-7cad-4633-a746-95582aebc895"
      },
      "source": [
        "#pipeline\r\n",
        "import numpy as np\r\n",
        "from tqdm.auto import tqdm\r\n",
        "import torch\r\n",
        "\r\n",
        "#datasets\r\n",
        "from datasets import load_dataset\r\n",
        "\r\n",
        "#transformers\r\n",
        "from transformers import (\r\n",
        "    CamembertTokenizer,\r\n",
        "    AutoTokenizer,\r\n",
        "    AutoModel,\r\n",
        "    AutoModelForMaskedLM,\r\n",
        "    AutoModelForSequenceClassification,\r\n",
        "    AutoModelForTokenClassification,\r\n",
        "    TrainingArguments,\r\n",
        "    Trainer,\r\n",
        "    pipeline,\r\n",
        ")\r\n",
        "\r\n",
        "#thai2transformers\r\n",
        "import thai2transformers\r\n",
        "from thai2transformers.preprocess import process_transformers\r\n",
        "from thai2transformers.metrics import (\r\n",
        "    classification_metrics, \r\n",
        "    multilabel_classification_metrics,\r\n",
        ")\r\n",
        "from thai2transformers.tokenizers import (\r\n",
        "    ThaiRobertaTokenizer,\r\n",
        "    ThaiWordsNewmmTokenizer,\r\n",
        "    ThaiWordsSyllableTokenizer,\r\n",
        "    FakeSefrCutTokenizer,\r\n",
        "    SEFR_SPLIT_TOKEN\r\n",
        ")\r\n",
        "\r\n",
        "model_names = [\r\n",
        "    'wangchanberta-base-att-spm-uncased',\r\n",
        "    'xlm-roberta-base',\r\n",
        "    'bert-base-multilingual-cased',\r\n",
        "    'wangchanberta-base-wiki-newmm',\r\n",
        "    'wangchanberta-base-wiki-ssg',\r\n",
        "    'wangchanberta-base-wiki-sefr',\r\n",
        "    'wangchanberta-base-wiki-spm',\r\n",
        "]\r\n",
        "\r\n",
        "tokenizers = {\r\n",
        "    'wangchanberta-base-att-spm-uncased': AutoTokenizer,\r\n",
        "    'xlm-roberta-base': AutoTokenizer,\r\n",
        "    'bert-base-multilingual-cased': AutoTokenizer,\r\n",
        "    'wangchanberta-base-wiki-newmm': ThaiWordsNewmmTokenizer,\r\n",
        "    'wangchanberta-base-wiki-ssg': ThaiWordsSyllableTokenizer,\r\n",
        "    'wangchanberta-base-wiki-sefr': FakeSefrCutTokenizer,\r\n",
        "    'wangchanberta-base-wiki-spm': ThaiRobertaTokenizer,\r\n",
        "}\r\n",
        "#@title Choose Pretrained Model\r\n",
        "model_name = \"wangchanberta-base-att-spm-uncased\" #@param ['wangchanberta-base-att-spm-uncased','xlm-roberta-base','bert-base-multilingual-cased','wangchanberta-base-wiki-newmm','wangchanberta-base-wiki-ssg','wangchanberta-base-wiki-sefr','wangchanberta-base-wiki-spm']\r\n",
        "public_models = ['xlm-roberta-base', 'bert-base-multilingual-cased'] \r\n",
        "#create tokenizer\r\n",
        "tokenizer = tokenizers[model_name].from_pretrained(\r\n",
        "                f'airesearch/{model_name}' if model_name not in public_models else f'{model_name}',\r\n",
        "                revision='main',\r\n",
        "                model_max_length=416,)\r\n"
      ],
      "execution_count": null,
      "outputs": [
        {
          "output_type": "display_data",
          "data": {
            "application/vnd.jupyter.widget-view+json": {
              "model_id": "505a627691dc4f83910df6924390b816",
              "version_minor": 0,
              "version_major": 2
            },
            "text/plain": [
              "HBox(children=(FloatProgress(value=0.0, description='Downloading', max=546.0, style=ProgressStyle(description_…"
            ]
          },
          "metadata": {
            "tags": []
          }
        },
        {
          "output_type": "stream",
          "text": [
            "\n"
          ],
          "name": "stdout"
        },
        {
          "output_type": "display_data",
          "data": {
            "application/vnd.jupyter.widget-view+json": {
              "model_id": "894fc201596c466a98ef4c9f48cbda81",
              "version_minor": 0,
              "version_major": 2
            },
            "text/plain": [
              "HBox(children=(FloatProgress(value=0.0, description='Downloading', max=904693.0, style=ProgressStyle(descripti…"
            ]
          },
          "metadata": {
            "tags": []
          }
        },
        {
          "output_type": "stream",
          "text": [
            "\n"
          ],
          "name": "stdout"
        },
        {
          "output_type": "display_data",
          "data": {
            "application/vnd.jupyter.widget-view+json": {
              "model_id": "3b6831a332ca47b8af8fb63d459a9650",
              "version_minor": 0,
              "version_major": 2
            },
            "text/plain": [
              "HBox(children=(FloatProgress(value=0.0, description='Downloading', max=282.0, style=ProgressStyle(description_…"
            ]
          },
          "metadata": {
            "tags": []
          }
        },
        {
          "output_type": "stream",
          "text": [
            "\n"
          ],
          "name": "stdout"
        }
      ]
    },
    {
      "cell_type": "code",
      "metadata": {
        "colab": {
          "base_uri": "https://localhost:8080/",
          "height": 1000,
          "referenced_widgets": [
            "cdfc78592b5f4ebeba472b0e56779ef1",
            "ed6b22522320439a8f86f659adc9e7e2",
            "17f04c4baeea4d80bbb9237969eb06d1",
            "70cfc8bc86b34c24ae06450aa3a71c1a",
            "1cfb17dbc10e4847975639c1bbcea671",
            "73e2adad5052455e95db6ec261a46fe8",
            "8efcb3f53a1d4416842366234c7859c6",
            "767b889005e748f3897efb4437a01454"
          ]
        },
        "id": "gNvQsShlHrWJ",
        "outputId": "cf8b090f-794c-43fa-81a5-cbef3eb90356"
      },
      "source": [
        "\r\n",
        "fill_mask = pipeline(task='fill-mask',\r\n",
        "         tokenizer=tokenizer,\r\n",
        "         model = f'airesearch/{model_name}' if model_name not in public_models else f'{model_name}',\r\n",
        "         revision = 'main',)\r\n",
        "\r\n",
        "input_text = 'สอบถามเรื่องการกู้เงิน<mask>'\r\n",
        "input_text2 = 'และ กรณีบัตรก็กดเงินไม่ได้ด้วยละ<mask>'\r\n",
        "input_text3 = 'เปลี่ยนเป็นฝากเงินอย่างเดียวได้ไหม<mask>'\r\n",
        "def predict_word(input_text):\r\n",
        "    if model_name not in public_models:\r\n",
        "        input_text = process_transformers(input_text)\r\n",
        "    print(input_text)\r\n",
        "    #if the sequence is too short, it needs padding\r\n",
        "    def fill_mask_pad(input_text):\r\n",
        "        return fill_mask(input_text+'<pad>', top_k=10 )\r\n",
        "    #infer\r\n",
        "    display(fill_mask_pad(input_text))\r\n",
        "\r\n",
        "predict_word(input_text)\r\n",
        "predict_word(input_text2)\r\n",
        "predict_word(input_text3)\r\n"
      ],
      "execution_count": null,
      "outputs": [
        {
          "output_type": "display_data",
          "data": {
            "application/vnd.jupyter.widget-view+json": {
              "model_id": "cdfc78592b5f4ebeba472b0e56779ef1",
              "version_minor": 0,
              "version_major": 2
            },
            "text/plain": [
              "HBox(children=(FloatProgress(value=0.0, description='Downloading', max=423498558.0, style=ProgressStyle(descri…"
            ]
          },
          "metadata": {
            "tags": []
          }
        },
        {
          "output_type": "stream",
          "text": [
            "\n",
            "สอบถามเรื่องการกู้เงิน<mask>\n"
          ],
          "name": "stdout"
        },
        {
          "output_type": "display_data",
          "data": {
            "text/plain": [
              "[{'score': 0.2123774290084839,\n",
              "  'sequence': '<s> สอบถามเรื่องการกู้เงินค่ะ</s>',\n",
              "  'token': 70,\n",
              "  'token_str': 'ค่ะ'},\n",
              " {'score': 0.14614567160606384,\n",
              "  'sequence': '<s> สอบถามเรื่องการกู้เงินหน่อยครับ</s>',\n",
              "  'token': 4631,\n",
              "  'token_str': 'หน่อยครับ'},\n",
              " {'score': 0.1396472007036209,\n",
              "  'sequence': '<s> สอบถามเรื่องการกู้เงินหน่อยค่ะ</s>',\n",
              "  'token': 5952,\n",
              "  'token_str': 'หน่อยค่ะ'},\n",
              " {'score': 0.11569853872060776,\n",
              "  'sequence': '<s> สอบถามเรื่องการกู้เงินครับ</s>',\n",
              "  'token': 73,\n",
              "  'token_str': 'ครับ'},\n",
              " {'score': 0.04105757549405098,\n",
              "  'sequence': '<s> สอบถามเรื่องการกู้เงินด้วยค่ะ</s>',\n",
              "  'token': 2678,\n",
              "  'token_str': 'ด้วยค่ะ'},\n",
              " {'score': 0.037758953869342804,\n",
              "  'sequence': '<s> สอบถามเรื่องการกู้เงินซื้อบ้าน</s>',\n",
              "  'token': 15483,\n",
              "  'token_str': 'ซื้อบ้าน'},\n",
              " {'score': 0.03439703956246376,\n",
              "  'sequence': '<s> สอบถามเรื่องการกู้เงินคะ</s>',\n",
              "  'token': 260,\n",
              "  'token_str': 'คะ'},\n",
              " {'score': 0.03358927741646767,\n",
              "  'sequence': '<s> สอบถามเรื่องการกู้เงินด้วยครับ</s>',\n",
              "  'token': 3166,\n",
              "  'token_str': 'ด้วยครับ'},\n",
              " {'score': 0.022575024515390396,\n",
              "  'sequence': '<s> สอบถามเรื่องการกู้เงินหน่อยคับ</s>',\n",
              "  'token': 23152,\n",
              "  'token_str': 'หน่อยคับ'},\n",
              " {'score': 0.01696709543466568,\n",
              "  'sequence': '<s> สอบถามเรื่องการกู้เงินนอกระบบ</s>',\n",
              "  'token': 5682,\n",
              "  'token_str': 'นอกระบบ'}]"
            ]
          },
          "metadata": {
            "tags": []
          }
        },
        {
          "output_type": "stream",
          "text": [
            "และ<_>กรณีบัตรก็กดเงินไม่ได้ด้วยละ<mask>\n"
          ],
          "name": "stdout"
        },
        {
          "output_type": "display_data",
          "data": {
            "text/plain": [
              "[{'score': 0.11764122545719147,\n",
              "  'sequence': '<s> และ<_> กรณีบัตรก็กดเงินไม่ได้ด้วยละค่ะ</s>',\n",
              "  'token': 70,\n",
              "  'token_str': 'ค่ะ'},\n",
              " {'score': 0.10228695720434189,\n",
              "  'sequence': '<s> และ<_> กรณีบัตรก็กดเงินไม่ได้ด้วยละสิ</s>',\n",
              "  'token': 282,\n",
              "  'token_str': 'สิ'},\n",
              " {'score': 0.09971749037504196,\n",
              "  'sequence': '<s> และ<_> กรณีบัตรก็กดเงินไม่ได้ด้วยละคะ</s>',\n",
              "  'token': 260,\n",
              "  'token_str': 'คะ'},\n",
              " {'score': 0.047115202993154526,\n",
              "  'sequence': '<s> และ<_> กรณีบัตรก็กดเงินไม่ได้ด้วยละจ้า</s>',\n",
              "  'token': 809,\n",
              "  'token_str': 'จ้า'},\n",
              " {'score': 0.04654613509774208,\n",
              "  'sequence': '<s> และ<_> กรณีบัตรก็กดเงินไม่ได้ด้วยละซิ</s>',\n",
              "  'token': 817,\n",
              "  'token_str': 'ซิ'},\n",
              " {'score': 0.03699486702680588,\n",
              "  'sequence': '<s> และ<_> กรณีบัตรก็กดเงินไม่ได้ด้วยละ5</s>',\n",
              "  'token': 65,\n",
              "  'token_str': '5'},\n",
              " {'score': 0.027528980746865273,\n",
              "  'sequence': '<s> และ<_> กรณีบัตรก็กดเงินไม่ได้ด้วยละ...</s>',\n",
              "  'token': 85,\n",
              "  'token_str': '...'},\n",
              " {'score': 0.025052731856703758,\n",
              "  'sequence': '<s> และ<_> กรณีบัตรก็กดเงินไม่ได้ด้วยละคับ</s>',\n",
              "  'token': 801,\n",
              "  'token_str': 'คับ'},\n",
              " {'score': 0.02297208085656166,\n",
              "  'sequence': '<s> และ<_> กรณีบัตรก็กดเงินไม่ได้ด้วยละ<unk></s>',\n",
              "  'token': 3,\n",
              "  'token_str': '<unk>'},\n",
              " {'score': 0.02170814760029316,\n",
              "  'sequence': '<s> และ<_> กรณีบัตรก็กดเงินไม่ได้ด้วยละ.</s>',\n",
              "  'token': 11,\n",
              "  'token_str': '.'}]"
            ]
          },
          "metadata": {
            "tags": []
          }
        },
        {
          "output_type": "stream",
          "text": [
            "เปลี่ยนเป็นฝากเงินอย่างเดียวได้ไหม<mask>\n"
          ],
          "name": "stdout"
        },
        {
          "output_type": "display_data",
          "data": {
            "text/plain": [
              "[{'score': 0.8271541595458984,\n",
              "  'sequence': '<s> เปลี่ยนเป็นฝากเงินอย่างเดียวได้ไหมค่ะ</s>',\n",
              "  'token': 70,\n",
              "  'token_str': 'ค่ะ'},\n",
              " {'score': 0.03535289689898491,\n",
              "  'sequence': '<s> เปลี่ยนเป็นฝากเงินอย่างเดียวได้ไหมคับ</s>',\n",
              "  'token': 801,\n",
              "  'token_str': 'คับ'},\n",
              " {'score': 0.014797400683164597,\n",
              "  'sequence': '<s> เปลี่ยนเป็นฝากเงินอย่างเดียวได้ไหม?</s>',\n",
              "  'token': 57,\n",
              "  'token_str': '?'},\n",
              " {'score': 0.01010396983474493,\n",
              "  'sequence': '<s> เปลี่ยนเป็นฝากเงินอย่างเดียวได้ไหมค้ะ</s>',\n",
              "  'token': 14237,\n",
              "  'token_str': 'ค้ะ'},\n",
              " {'score': 0.009328199550509453,\n",
              "  'sequence': '<s> เปลี่ยนเป็นฝากเงินอย่างเดียวได้ไหมอ่ะ</s>',\n",
              "  'token': 406,\n",
              "  'token_str': 'อ่ะ'},\n",
              " {'score': 0.007190230302512646,\n",
              "  'sequence': '<s> เปลี่ยนเป็นฝากเงินอย่างเดียวได้ไหมอะ</s>',\n",
              "  'token': 300,\n",
              "  'token_str': 'อะ'},\n",
              " {'score': 0.003547506872564554,\n",
              "  'sequence': '<s> เปลี่ยนเป็นฝากเงินอย่างเดียวได้ไหมคัฟ</s>',\n",
              "  'token': 20123,\n",
              "  'token_str': 'คัฟ'},\n",
              " {'score': 0.0031014583073556423,\n",
              "  'sequence': '<s> เปลี่ยนเป็นฝากเงินอย่างเดียวได้ไหมจ้ะ</s>',\n",
              "  'token': 3463,\n",
              "  'token_str': 'จ้ะ'},\n",
              " {'score': 0.003012556815519929,\n",
              "  'sequence': '<s> เปลี่ยนเป็นฝากเงินอย่างเดียวได้ไหมครับ</s>',\n",
              "  'token': 73,\n",
              "  'token_str': 'ครับ'},\n",
              " {'score': 0.002595381811261177,\n",
              "  'sequence': '<s> เปลี่ยนเป็นฝากเงินอย่างเดียวได้ไหม5</s>',\n",
              "  'token': 65,\n",
              "  'token_str': '5'}]"
            ]
          },
          "metadata": {
            "tags": []
          }
        }
      ]
    },
    {
      "cell_type": "code",
      "metadata": {
        "colab": {
          "base_uri": "https://localhost:8080/"
        },
        "id": "HLlc8F15Sn4x",
        "outputId": "ede17609-f218-41e1-e55c-6efbbdf534da"
      },
      "source": [
        "from pythainlp.util import isthaichar\r\n",
        "fill_mask = pipeline(task='fill-mask',\r\n",
        "         tokenizer=tokenizer,\r\n",
        "         model = f'airesearch/{model_name}' if model_name not in public_models else f'{model_name}',\r\n",
        "         revision = 'main',)\r\n",
        "\r\n",
        "def get_realword_correct(s):\r\n",
        "    for idx,wi in enumerate(s):\r\n",
        "        tmp = list(s)\r\n",
        "        tmp[idx] = '<mask>'\r\n",
        "        input_text = ''.join(tmp)\r\n",
        "        input_text = process_transformers(input_text)\r\n",
        "        predict = fill_mask(input_text+'<pad>', top_k=25 )\r\n",
        "        print(predict)\r\n",
        "\r\n",
        "get_realword_correct(['ออม','กะ','ไม่','ออม','เนี้ย'])"
      ],
      "execution_count": null,
      "outputs": [
        {
          "output_type": "stream",
          "text": [
            "[{'sequence': '<s> กู กะไม่ออมเนี้ย</s>', 'score': 0.06268451362848282, 'token': 3256, 'token_str': '▁กู'}, {'sequence': '<s> แต่ กะไม่ออมเนี้ย</s>', 'score': 0.04881353676319122, 'token': 294, 'token_str': '▁แต่'}, {'sequence': '<s> ทําไม กะไม่ออมเนี้ย</s>', 'score': 0.04798823595046997, 'token': 1202, 'token_str': '▁ทําไม'}, {'sequence': '<s> แล้ว กะไม่ออมเนี้ย</s>', 'score': 0.043282002210617065, 'token': 627, 'token_str': '▁แล้ว'}, {'sequence': '<s> ทุกวันนี้ กะไม่ออมเนี้ย</s>', 'score': 0.04234914854168892, 'token': 10644, 'token_str': '▁ทุกวันนี้'}, {'sequence': '<s> ไม่ กะไม่ออมเนี้ย</s>', 'score': 0.04113205522298813, 'token': 729, 'token_str': '▁ไม่'}, {'sequence': '<s> นี่ กะไม่ออมเนี้ย</s>', 'score': 0.034638214856386185, 'token': 1298, 'token_str': '▁นี่'}, {'sequence': '<s> สุดท้าย กะไม่ออมเนี้ย</s>', 'score': 0.02369939722120762, 'token': 10496, 'token_str': '▁สุดท้าย'}, {'sequence': '<s> มี กะไม่ออมเนี้ย</s>', 'score': 0.01983347162604332, 'token': 471, 'token_str': '▁มี'}, {'sequence': '<s> เรา กะไม่ออมเนี้ย</s>', 'score': 0.018359271809458733, 'token': 456, 'token_str': '▁เรา'}, {'sequence': '<s> หนู กะไม่ออมเนี้ย</s>', 'score': 0.01821037381887436, 'token': 2818, 'token_str': '▁หนู'}, {'sequence': '<s> ไม่มี กะไม่ออมเนี้ย</s>', 'score': 0.0168539397418499, 'token': 2447, 'token_str': '▁ไม่มี'}, {'sequence': '<s> ตอนนี้ กะไม่ออมเนี้ย</s>', 'score': 0.01602451503276825, 'token': 1416, 'token_str': '▁ตอนนี้'}, {'sequence': '<s> ใช้ กะไม่ออมเนี้ย</s>', 'score': 0.015424845740199089, 'token': 5678, 'token_str': '▁ใช้'}, {'sequence': '<s> กิน กะไม่ออมเนี้ย</s>', 'score': 0.01528204046189785, 'token': 11990, 'token_str': '▁กิน'}, {'sequence': '<s> คือ กะไม่ออมเนี้ย</s>', 'score': 0.012859972193837166, 'token': 2168, 'token_str': '▁คือ'}, {'sequence': '<s> ปกติ กะไม่ออมเนี้ย</s>', 'score': 0.012810018844902515, 'token': 9852, 'token_str': '▁ปกติ'}, {'sequence': '<s> ชีวิต กะไม่ออมเนี้ย</s>', 'score': 0.01228280272334814, 'token': 10831, 'token_str': '▁ชีวิต'}, {'sequence': '<s> เมื่อไหร่ กะไม่ออมเนี้ย</s>', 'score': 0.012134009040892124, 'token': 11743, 'token_str': '▁เมื่อไหร่'}, {'sequence': '<s> เดี๋ยว กะไม่ออมเนี้ย</s>', 'score': 0.012059967964887619, 'token': 3734, 'token_str': '▁เดี๋ยว'}, {'sequence': '<s> แม่ กะไม่ออมเนี้ย</s>', 'score': 0.010459710843861103, 'token': 1750, 'token_str': '▁แม่'}, {'sequence': '<s> มึง กะไม่ออมเนี้ย</s>', 'score': 0.010197961702942848, 'token': 3981, 'token_str': '▁มึง'}, {'sequence': '<s> พี่ กะไม่ออมเนี้ย</s>', 'score': 0.010186968371272087, 'token': 874, 'token_str': '▁พี่'}, {'sequence': '<s> เด็ก กะไม่ออมเนี้ย</s>', 'score': 0.010095072910189629, 'token': 6345, 'token_str': '▁เด็ก'}, {'sequence': '<s> ไม่ได้ กะไม่ออมเนี้ย</s>', 'score': 0.009967333637177944, 'token': 3788, 'token_str': '▁ไม่ได้'}]\n",
            "[{'sequence': '<s> ออมเก่ง ไม่ออมเนี้ย</s>', 'score': 0.10850486159324646, 'token': 948, 'token_str': 'เก่ง'}, {'sequence': '<s> ออมจริง ไม่ออมเนี้ย</s>', 'score': 0.0709010660648346, 'token': 165, 'token_str': 'จริง'}, {'sequence': '<s> ออมหรือ ไม่ออมเนี้ย</s>', 'score': 0.04872526973485947, 'token': 31, 'token_str': 'หรือ'}, {'sequence': '<s> ออมบ้าง ไม่ออมเนี้ย</s>', 'score': 0.04410150647163391, 'token': 261, 'token_str': 'บ้าง'}, {'sequence': '<s> ออมก็ได้ ไม่ออมเนี้ย</s>', 'score': 0.029169533401727676, 'token': 367, 'token_str': 'ก็ได้'}, {'sequence': '<s> ออมดี ไม่ออมเนี้ย</s>', 'score': 0.02440590038895607, 'token': 81, 'token_str': 'ดี'}, {'sequence': '<s> ออมหนัก ไม่ออมเนี้ย</s>', 'score': 0.023165689781308174, 'token': 794, 'token_str': 'หนัก'}, {'sequence': '<s> ออมไหน ไม่ออมเนี้ย</s>', 'score': 0.020536724478006363, 'token': 483, 'token_str': 'ไหน'}, {'sequence': '<s> ออมอะไร ไม่ออมเนี้ย</s>', 'score': 0.01965158060193062, 'token': 118, 'token_str': 'อะไร'}, {'sequence': '<s> ออมนัก ไม่ออมเนี้ย</s>', 'score': 0.018529193475842476, 'token': 215, 'token_str': 'นัก'}, {'sequence': '<s> ออมนะ ไม่ออมเนี้ย</s>', 'score': 0.016894835978746414, 'token': 74, 'token_str': 'นะ'}, {'sequence': '<s> ออมแล้ว ไม่ออมเนี้ย</s>', 'score': 0.013882913626730442, 'token': 22, 'token_str': 'แล้ว'}, {'sequence': '<s> ออมน้อย ไม่ออมเนี้ย</s>', 'score': 0.011246366426348686, 'token': 424, 'token_str': 'น้อย'}, {'sequence': '<s> ออมรึ ไม่ออมเนี้ย</s>', 'score': 0.010853859595954418, 'token': 2270, 'token_str': 'รึ'}, {'sequence': '<s> ออมจริงๆ ไม่ออมเนี้ย</s>', 'score': 0.009749279357492924, 'token': 187, 'token_str': 'จริงๆ'}, {'sequence': '<s> ออมเท่าไหร่ ไม่ออมเนี้ย</s>', 'score': 0.008315560407936573, 'token': 1046, 'token_str': 'เท่าไหร่'}, {'sequence': '<s> ออมอย่างเดียว ไม่ออมเนี้ย</s>', 'score': 0.00822303257882595, 'token': 1296, 'token_str': 'อย่างเดียว'}, {'sequence': '<s> ออมเยอะ ไม่ออมเนี้ย</s>', 'score': 0.008139102719724178, 'token': 485, 'token_str': 'เยอะ'}, {'sequence': '<s> ออมได้ ไม่ออมเนี้ย</s>', 'score': 0.00803851243108511, 'token': 15, 'token_str': 'ได้'}, {'sequence': '<s> ออมๆ ไม่ออมเนี้ย</s>', 'score': 0.00798054039478302, 'token': 34, 'token_str': 'ๆ'}, {'sequence': '<s> ออมมั่ง ไม่ออมเนี้ย</s>', 'score': 0.007702747359871864, 'token': 3485, 'token_str': 'มั่ง'}, {'sequence': '<s> ออมอะ ไม่ออมเนี้ย</s>', 'score': 0.007468763738870621, 'token': 300, 'token_str': 'อะ'}, {'sequence': '<s> ออมอ่ะ ไม่ออมเนี้ย</s>', 'score': 0.0073341852985322475, 'token': 406, 'token_str': 'อ่ะ'}, {'sequence': '<s> ออมนาน ไม่ออมเนี้ย</s>', 'score': 0.007229302078485489, 'token': 880, 'token_str': 'นาน'}, {'sequence': '<s> ออมเอง ไม่ออมเนี้ย</s>', 'score': 0.007006348110735416, 'token': 185, 'token_str': 'เอง'}]\n",
            "[{'sequence': '<s> ออมกะใคร ออมเนี้ย</s>', 'score': 0.33439862728118896, 'token': 197, 'token_str': 'ใคร'}, {'sequence': '<s> ออมกะอะไร ออมเนี้ย</s>', 'score': 0.08213858306407928, 'token': 118, 'token_str': 'อะไร'}, {'sequence': '<s> ออมกะพี่ ออมเนี้ย</s>', 'score': 0.032140299677848816, 'token': 132, 'token_str': 'พี่'}, {'sequence': '<s> ออมกะไร ออมเนี้ย</s>', 'score': 0.025864841416478157, 'token': 820, 'token_str': 'ไร'}, {'sequence': '<s> ออมกะคือ ออมเนี้ย</s>', 'score': 0.02291620336472988, 'token': 52, 'token_str': 'คือ'}, {'sequence': '<s> ออมกะน้อง ออมเนี้ย</s>', 'score': 0.015616603195667267, 'token': 190, 'token_str': 'น้อง'}, {'sequence': '<s> ออมกะเพื่อน ออมเนี้ย</s>', 'score': 0.01450620498508215, 'token': 349, 'token_str': 'เพื่อน'}, {'sequence': '<s> ออมกะ ใคร ออมเนี้ย</s>', 'score': 0.011056175455451012, 'token': 1945, 'token_str': '▁ใคร'}, {'sequence': '<s> ออมกะแฟน ออมเนี้ย</s>', 'score': 0.010489586740732193, 'token': 774, 'token_str': 'แฟน'}, {'sequence': '<s> ออมกะคุณ ออมเนี้ย</s>', 'score': 0.009329008869826794, 'token': 77, 'token_str': 'คุณ'}, {'sequence': '<s> ออมกะเหมือน ออมเนี้ย</s>', 'score': 0.008564560674130917, 'token': 176, 'token_str': 'เหมือน'}, {'sequence': '<s> ออมกะอะไรนะ ออมเนี้ย</s>', 'score': 0.008170520886778831, 'token': 10047, 'token_str': 'อะไรนะ'}, {'sequence': '<s> ออมกะน่ารัก ออมเนี้ย</s>', 'score': 0.0077896881848573685, 'token': 680, 'token_str': 'น่ารัก'}, {'sequence': '<s> ออมกะไหน ออมเนี้ย</s>', 'score': 0.00623277248814702, 'token': 483, 'token_str': 'ไหน'}, {'sequence': '<s> ออมกะนะ ออมเนี้ย</s>', 'score': 0.0060492632910609245, 'token': 74, 'token_str': 'นะ'}, {'sequence': '<s> ออมกะแกล้ง ออมเนี้ย</s>', 'score': 0.005578957498073578, 'token': 4052, 'token_str': 'แกล้ง'}, {'sequence': '<s> ออมกะล่อน ออมเนี้ย</s>', 'score': 0.004708623979240656, 'token': 19453, 'token_str': 'ล่อน'}, {'sequence': '<s> ออมกะรัก ออมเนี้ย</s>', 'score': 0.004582504276186228, 'token': 235, 'token_str': 'รัก'}, {'sequence': '<s> ออมกะลัง ออมเนี้ย</s>', 'score': 0.0042258501052856445, 'token': 6462, 'token_str': 'ลัง'}, {'sequence': '<s> ออมกะชื่อ ออมเนี้ย</s>', 'score': 0.00418708473443985, 'token': 237, 'token_str': 'ชื่อ'}, {'sequence': '<s> ออมกะคัย ออมเนี้ย</s>', 'score': 0.004026766400784254, 'token': 19477, 'token_str': 'คัย'}, {'sequence': '<s> ออมกะคิดถึง ออมเนี้ย</s>', 'score': 0.0040228222496807575, 'token': 983, 'token_str': 'คิดถึง'}, {'sequence': '<s> ออมกะเพราะ ออมเนี้ย</s>', 'score': 0.003972466103732586, 'token': 69, 'token_str': 'เพราะ'}, {'sequence': '<s> ออมกะรัย ออมเนี้ย</s>', 'score': 0.0034082417842000723, 'token': 6914, 'token_str': 'รัย'}, {'sequence': '<s> ออมกะหรือ ออมเนี้ย</s>', 'score': 0.0033527356572449207, 'token': 31, 'token_str': 'หรือ'}]\n",
            "[{'sequence': '<s> ออมกะไม่ออม เนี้ย</s>', 'score': 0.040501680225133896, 'token': 6947, 'token_str': 'ออม'}, {'sequence': '<s> ออมกะไม่เบา เนี้ย</s>', 'score': 0.031186020001769066, 'token': 4150, 'token_str': 'เบา'}, {'sequence': '<s> ออมกะไม่นะ เนี้ย</s>', 'score': 0.03015357069671154, 'token': 74, 'token_str': 'นะ'}, {'sequence': '<s> ออมกะไม่แฟร์ เนี้ย</s>', 'score': 0.019334150478243828, 'token': 8258, 'token_str': 'แฟร์'}, {'sequence': '<s> ออมกะไม่เนียน เนี้ย</s>', 'score': 0.019326001405715942, 'token': 3861, 'token_str': 'เนียน'}, {'sequence': '<s> ออมกะไม่ปาน เนี้ย</s>', 'score': 0.01931946910917759, 'token': 4761, 'token_str': 'ปาน'}, {'sequence': '<s> ออมกะไม่เท่าไหร่ เนี้ย</s>', 'score': 0.018735762685537338, 'token': 1046, 'token_str': 'เท่าไหร่'}, {'sequence': '<s> ออมกะไม่อยู่แล้ว เนี้ย</s>', 'score': 0.018042974174022675, 'token': 665, 'token_str': 'อยู่แล้ว'}, {'sequence': '<s> ออมกะไม่ยุติธรรม เนี้ย</s>', 'score': 0.01693887449800968, 'token': 967, 'token_str': 'ยุติธรรม'}, {'sequence': '<s> ออมกะไม่เหมือนกัน เนี้ย</s>', 'score': 0.013559152372181416, 'token': 347, 'token_str': 'เหมือนกัน'}, {'sequence': '<s> ออมกะไม่มีเหตุผล เนี้ย</s>', 'score': 0.011555517092347145, 'token': 3930, 'token_str': 'มีเหตุผล'}, {'sequence': '<s> ออมกะไม่ปลื้ม เนี้ย</s>', 'score': 0.010466186329722404, 'token': 4235, 'token_str': 'ปลื้ม'}, {'sequence': '<s> ออมกะไม่เท่า เนี้ย</s>', 'score': 0.010251074098050594, 'token': 1215, 'token_str': 'เท่า'}, {'sequence': '<s> ออมกะไม่น่ารัก เนี้ย</s>', 'score': 0.009263630956411362, 'token': 680, 'token_str': 'น่ารัก'}, {'sequence': '<s> ออมกะไม่เว้น เนี้ย</s>', 'score': 0.008525925688445568, 'token': 5899, 'token_str': 'เว้น'}, {'sequence': '<s> ออมกะไม่อ้วน เนี้ย</s>', 'score': 0.007924087345600128, 'token': 2272, 'token_str': 'อ้วน'}, {'sequence': '<s> ออมกะไม่ซื่อสัตย์ เนี้ย</s>', 'score': 0.007907354272902012, 'token': 4100, 'token_str': 'ซื่อสัตย์'}, {'sequence': '<s> ออมกะไม่มายด์ เนี้ย</s>', 'score': 0.006568409502506256, 'token': 19849, 'token_str': 'มายด์'}, {'sequence': '<s> ออมกะไม่อยุ่ เนี้ย</s>', 'score': 0.005637835711240768, 'token': 3569, 'token_str': 'อยุ่'}, {'sequence': '<s> ออมกะไม่อยู่ เนี้ย</s>', 'score': 0.005350243765860796, 'token': 55, 'token_str': 'อยู่'}, {'sequence': '<s> ออมกะไม่เลี้ยง เนี้ย</s>', 'score': 0.005198091268539429, 'token': 723, 'token_str': 'เลี้ยง'}, {'sequence': '<s> ออมกะไม่ประมาณ เนี้ย</s>', 'score': 0.004881774540990591, 'token': 233, 'token_str': 'ประมาณ'}, {'sequence': '<s> ออมกะไม่นิ่ง เนี้ย</s>', 'score': 0.004831408616155386, 'token': 2419, 'token_str': 'นิ่ง'}, {'sequence': '<s> ออมกะไม่บอกใคร เนี้ย</s>', 'score': 0.004778521601110697, 'token': 15698, 'token_str': 'บอกใคร'}, {'sequence': '<s> ออมกะไม่ปฏิเสธ เนี้ย</s>', 'score': 0.004751252010464668, 'token': 1586, 'token_str': 'ปฏิเสธ'}]\n",
            "[{'sequence': '<s> ออมกะไม่ออม555</s>', 'score': 0.1164504662156105, 'token': 504, 'token_str': '555'}, {'sequence': '<s> ออมกะไม่ออม5</s>', 'score': 0.10516199469566345, 'token': 65, 'token_str': '5'}, {'sequence': '<s> ออมกะไม่ออม<unk></s>', 'score': 0.06237645819783211, 'token': 3, 'token_str': '<unk>'}, {'sequence': '<s> ออมกะไม่ออม😂</s>', 'score': 0.048146072775125504, 'token': 1049, 'token_str': '😂'}, {'sequence': '<s> ออมกะไม่ออม55</s>', 'score': 0.040622204542160034, 'token': 1222, 'token_str': '55'}, {'sequence': '<s> ออมกะไม่ออม🤣</s>', 'score': 0.02513827569782734, 'token': 2436, 'token_str': '🤣'}, {'sequence': '<s> ออมกะไม่ออมอะ</s>', 'score': 0.016170913353562355, 'token': 300, 'token_str': 'อะ'}, {'sequence': '<s> ออมกะไม่ออม😅</s>', 'score': 0.015884220600128174, 'token': 4561, 'token_str': '😅'}, {'sequence': '<s> ออมกะไม่ออมค่ะ</s>', 'score': 0.014551721513271332, 'token': 70, 'token_str': 'ค่ะ'}, {'sequence': '<s> ออมกะไม่ออม.</s>', 'score': 0.014425382949411869, 'token': 11, 'token_str': '.'}, {'sequence': '<s> ออมกะไม่ออมนะ</s>', 'score': 0.01288633979856968, 'token': 74, 'token_str': 'นะ'}, {'sequence': '<s> ออมกะไม่ออมวะ</s>', 'score': 0.012613519094884396, 'token': 922, 'token_str': 'วะ'}, {'sequence': '<s> ออมกะไม่ออม😁</s>', 'score': 0.012611137703061104, 'token': 2493, 'token_str': '😁'}, {'sequence': '<s> ออมกะไม่ออม...</s>', 'score': 0.012225949205458164, 'token': 85, 'token_str': '...'}, {'sequence': '<s> ออมกะไม่ออมครับ</s>', 'score': 0.011242757551372051, 'token': 73, 'token_str': 'ครับ'}, {'sequence': '<s> ออมกะไม่ออมจ้า</s>', 'score': 0.010910174809396267, 'token': 809, 'token_str': 'จ้า'}, {'sequence': '<s> ออมกะไม่ออมคะ</s>', 'score': 0.009607813321053982, 'token': 260, 'token_str': 'คะ'}, {'sequence': '<s> ออมกะไม่ออม😆</s>', 'score': 0.009518482722342014, 'token': 3968, 'token_str': '😆'}, {'sequence': '<s> ออมกะไม่ออม!</s>', 'score': 0.009175358340144157, 'token': 122, 'token_str': '!'}, {'sequence': '<s> ออมกะไม่ออม?</s>', 'score': 0.008461792953312397, 'token': 57, 'token_str': '?'}, {'sequence': '<s> ออมกะไม่ออม🙄</s>', 'score': 0.008428016677498817, 'token': 7749, 'token_str': '🙄'}, {'sequence': '<s> ออมกะไม่ออม🤔</s>', 'score': 0.008373161777853966, 'token': 10224, 'token_str': '🤔'}, {'sequence': '<s> ออมกะไม่ออมอ่ะ</s>', 'score': 0.007695452310144901, 'token': 406, 'token_str': 'อ่ะ'}, {'sequence': '<s> ออมกะไม่ออมกัน</s>', 'score': 0.007490938063710928, 'token': 67, 'token_str': 'กัน'}, {'sequence': '<s> ออมกะไม่ออมเนาะ</s>', 'score': 0.0072087752632796764, 'token': 4952, 'token_str': 'เนาะ'}]\n"
          ],
          "name": "stdout"
        }
      ]
    },
    {
      "cell_type": "code",
      "metadata": {
        "id": "Zti_tmmSClik"
      },
      "source": [
        "def get_cnc_rb(s):\r\n",
        "    return get_cnc(get_correct_rulebase(s))\r\n"
      ],
      "execution_count": null,
      "outputs": []
    },
    {
      "cell_type": "markdown",
      "metadata": {
        "id": "avJ5YU6cDnWL"
      },
      "source": [
        "## Evaluate"
      ]
    },
    {
      "cell_type": "code",
      "metadata": {
        "id": "H0vanJxLc5Ud"
      },
      "source": [
        "\r\n",
        "def predict(X, model, size=None):\r\n",
        "    y = []\r\n",
        "    if size == None:\r\n",
        "        size = len(X)\r\n",
        "    for i,x in enumerate(X[:size]):\r\n",
        "        if i % 100 == 0:\r\n",
        "            print(i,' ',end='')\r\n",
        "        sent = x\r\n",
        "        pred = model(sent)\r\n",
        "        y.append(pred)\r\n",
        "    return y\r\n"
      ],
      "execution_count": null,
      "outputs": []
    },
    {
      "cell_type": "code",
      "metadata": {
        "colab": {
          "base_uri": "https://localhost:8080/"
        },
        "id": "AZol6n1qc5Ue",
        "outputId": "69fd41f3-3343-49f9-8369-ac890784c8f6"
      },
      "source": [
        "# baseline\r\n",
        "# y_pred = predict(X_train_pp, get_correct_rulebase)\r\n",
        "cer = 0\r\n",
        "for i in range(len(y_train[:1000])):\r\n",
        "    if i % 100 == 0:\r\n",
        "        print(i,' ',end='')\r\n",
        "    actl = ''.join(y_train[i])\r\n",
        "    pred = ''.join(X_train_pp[i])\r\n",
        "    cer += find_cer(actl,pred)\r\n",
        "print()\r\n",
        "# result\r\n",
        "print(cer/len(y_train))"
      ],
      "execution_count": null,
      "outputs": [
        {
          "output_type": "stream",
          "text": [
            "0  100  200  300  400  500  600  700  800  900  \n",
            "0.261\n"
          ],
          "name": "stdout"
        }
      ]
    },
    {
      "cell_type": "code",
      "metadata": {
        "colab": {
          "base_uri": "https://localhost:8080/"
        },
        "id": "S9DoBk62c5Ue",
        "outputId": "0e1a5120-e5d1-45f5-fbd3-0e5a9e268553"
      },
      "source": [
        "# Test On Train\r\n",
        "\r\n",
        "\r\n",
        "# Evaluate\r\n",
        "# result = pd.DataFrame(columns=['actl','pred','cer'], dtype=object)\r\n",
        "y_pred = predict(X_train_pp, get_correct_rulebase, size=1000)\r\n",
        "cer = 0\r\n",
        "for i in range(len(y_pred)):\r\n",
        "    if i % 100 == 0:\r\n",
        "        print(i,' ',end='')\r\n",
        "    actl = ''.join(y_train[i])\r\n",
        "    pred = ''.join(y_pred[i])\r\n",
        "    cer += find_cer(actl,pred)\r\n",
        "print()\r\n",
        "# result\r\n",
        "print(cer/len(y_train))"
      ],
      "execution_count": null,
      "outputs": [
        {
          "output_type": "stream",
          "text": [
            "0  100  200  300  400  500  600  700  800  900  0  100  200  300  400  500  600  700  800  900  \n",
            "0.1543\n"
          ],
          "name": "stdout"
        }
      ]
    },
    {
      "cell_type": "code",
      "metadata": {
        "colab": {
          "base_uri": "https://localhost:8080/"
        },
        "id": "hiOvF3koc5Ue",
        "outputId": "04795a2b-b145-4367-c4bc-98fec6c3fc45"
      },
      "source": [
        "cer"
      ],
      "execution_count": null,
      "outputs": [
        {
          "output_type": "execute_result",
          "data": {
            "text/plain": [
              "47"
            ]
          },
          "metadata": {
            "tags": []
          },
          "execution_count": 215
        }
      ]
    },
    {
      "cell_type": "markdown",
      "metadata": {
        "id": "UZlzPnGm8zU_"
      },
      "source": [
        "### Test on Test"
      ]
    },
    {
      "cell_type": "code",
      "metadata": {
        "id": "EQTp9DBw_OAN"
      },
      "source": [
        "X_test"
      ],
      "execution_count": null,
      "outputs": []
    },
    {
      "cell_type": "code",
      "metadata": {
        "colab": {
          "base_uri": "https://localhost:8080/"
        },
        "id": "KPYrlDOliF85",
        "outputId": "6533f654-b69f-410b-890f-fcfaaa7f6afb"
      },
      "source": [
        "#submission example\r\n",
        "result = predict(X_test, get_correct_rulebase)\r\n",
        "submission_template = [\"\".join(i) for i in result]\r\n",
        "submission_template\r\n",
        "write_submission(submission_template)\r\n",
        "len(submission_template)"
      ],
      "execution_count": null,
      "outputs": [
        {
          "output_type": "stream",
          "text": [
            "0  100  200  300  400  500  600  700  800  900  1000  1100  1200  1300  1400  1500  1600  1700  1800  1900  2000  2100  2200  2300  2400  2500  2600  2700  2800  2900  3000  3100  3200  3300  3400  3500  3600  3700  3800  3900  4000  4100  4200  4300  4400  4500  4600  4700  4800  4900  5000  5100  5200  5300  5400  5500  "
          ],
          "name": "stdout"
        },
        {
          "output_type": "execute_result",
          "data": {
            "text/plain": [
              "5597"
            ]
          },
          "metadata": {
            "tags": []
          },
          "execution_count": 283
        }
      ]
    },
    {
      "cell_type": "code",
      "metadata": {
        "id": "ooo11_yN3P6x"
      },
      "source": [
        ""
      ],
      "execution_count": null,
      "outputs": []
    }
  ]
}