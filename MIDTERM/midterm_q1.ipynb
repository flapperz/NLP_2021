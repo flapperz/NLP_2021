{
  "nbformat": 4,
  "nbformat_minor": 0,
  "metadata": {
    "colab": {
      "name": "midterm_q1.ipynb",
      "provenance": [],
      "authorship_tag": "ABX9TyOuO7Wzw30WqYrqJzcvPFs7",
      "include_colab_link": true
    },
    "kernelspec": {
      "name": "python3",
      "display_name": "Python 3"
    },
    "accelerator": "GPU"
  },
  "cells": [
    {
      "cell_type": "markdown",
      "metadata": {
        "id": "view-in-github",
        "colab_type": "text"
      },
      "source": [
        "<a href=\"https://colab.research.google.com/github/flapperz/NLP_2021/blob/main/MIDTERM/midterm_q1.ipynb\" target=\"_parent\"><img src=\"https://colab.research.google.com/assets/colab-badge.svg\" alt=\"Open In Colab\"/></a>"
      ]
    },
    {
      "cell_type": "code",
      "metadata": {
        "id": "dUMfltL1Hv-D",
        "colab": {
          "base_uri": "https://localhost:8080/"
        },
        "outputId": "b3f947a0-9337-4cdd-f4c2-d38d28f04b7e"
      },
      "source": [
        "!git clone https://github.com/ppalineee/LST20.git"
      ],
      "execution_count": 1,
      "outputs": [
        {
          "output_type": "stream",
          "text": [
            "Cloning into 'LST20'...\n",
            "remote: Enumerating objects: 4761, done.\u001b[K\n",
            "remote: Counting objects: 100% (4761/4761), done.\u001b[K\n",
            "remote: Compressing objects: 100% (243/243), done.\u001b[K\n",
            "remote: Total 4761 (delta 4518), reused 4761 (delta 4518), pack-reused 0\u001b[K\n",
            "Receiving objects: 100% (4761/4761), 16.91 MiB | 36.23 MiB/s, done.\n",
            "Resolving deltas: 100% (4518/4518), done.\n"
          ],
          "name": "stdout"
        }
      ]
    },
    {
      "cell_type": "code",
      "metadata": {
        "id": "CrIdgjFYB_PE"
      },
      "source": [
        "import pandas as pd\r\n",
        "import csv\r\n",
        "import numpy as np\r\n",
        "import os\r\n",
        "import matplotlib.pyplot as plt"
      ],
      "execution_count": 1,
      "outputs": []
    },
    {
      "cell_type": "markdown",
      "metadata": {
        "id": "qdF7OSetfedt"
      },
      "source": [
        "# Load Data"
      ]
    },
    {
      "cell_type": "code",
      "metadata": {
        "id": "Knha4hVeC1Hr"
      },
      "source": [
        "df_genre = pd.read_csv('LST20_Corpus/genres.txt',sep=\"\\t\",skip_blank_lines=False, names=[\"fname\",\"genre\"], quoting=csv.QUOTE_NONE)"
      ],
      "execution_count": 2,
      "outputs": []
    },
    {
      "cell_type": "code",
      "metadata": {
        "id": "uWmxnMENfrxx"
      },
      "source": [
        "\r\n",
        "def dir2df(dirname):\r\n",
        "    col_names = [\"fname\", \"word\", \"POS\",\"NER\",\"CLAUSE\"]\r\n",
        "    df = pd.DataFrame(columns=col_names)\r\n",
        "    l = []\r\n",
        "    for fname in os.listdir(dirname):\r\n",
        "        df_tmp = pd.read_csv('{}/{}'.format(dirname, fname),sep=\"\\t\",skip_blank_lines=False, names=[\"word\", \"POS\",\"NER\",\"CLAUSE\"], quoting=csv.QUOTE_NONE)\r\n",
        "        df_tmp.loc[:,'fname'] = fname\r\n",
        "        l.append(df_tmp)\r\n",
        "    return pd.concat(l)\r\n",
        "# df1 = \r\n",
        "# df2 = pd.read_csv('LST20_Corpus/eval/T01608.txt',sep=\"\\t\",skip_blank_lines=False, names=[\"word\", \"POS\",\"NER\",\"CLAUSE\"], quoting=csv.QUOTE_NONE)\r\n",
        "\r\n",
        "df_eval = dir2df('LST20_Corpus/eval')\r\n",
        "df_test = dir2df('LST20_Corpus/test')\r\n",
        "df_train = dir2df('LST20_Corpus/train')"
      ],
      "execution_count": 3,
      "outputs": []
    },
    {
      "cell_type": "code",
      "metadata": {
        "colab": {
          "base_uri": "https://localhost:8080/"
        },
        "id": "AZB7nzCPgWVl",
        "outputId": "b2582092-238f-4914-a134-171cb685992d"
      },
      "source": [
        "print('lenght train',len(df_train.groupby('fname').count()))\r\n",
        "print('lenght test',len(df_test.groupby('fname').count()))\r\n",
        "print('lenght eval',len(df_eval.groupby('fname').count()))"
      ],
      "execution_count": 4,
      "outputs": [
        {
          "output_type": "stream",
          "text": [
            "lenght train 3794\n",
            "lenght test 483\n",
            "lenght eval 474\n"
          ],
          "name": "stdout"
        }
      ]
    },
    {
      "cell_type": "markdown",
      "metadata": {
        "id": "tdEkbVvGfcV4"
      },
      "source": [
        "# EDA"
      ]
    },
    {
      "cell_type": "code",
      "metadata": {
        "colab": {
          "base_uri": "https://localhost:8080/",
          "height": 358
        },
        "id": "b2837e6zGT30",
        "outputId": "75d7c6a9-c48c-428c-8cea-4f231875ad3e"
      },
      "source": [
        "df_genre_mod = df_genre\r\n",
        "df_genre_mod.loc[:,\"count\"] = 1\r\n",
        "df_genre_mod.groupby('genre').count().plot.bar(y=\"count\")\r\n",
        "plt.show()\r\n",
        "print('num class',len(df_genre_mod.genre.unique()))"
      ],
      "execution_count": 9,
      "outputs": [
        {
          "output_type": "display_data",
          "data": {
            "image/png": "[encoded data removed]",
            "text/plain": [
              "<Figure size 432x288 with 1 Axes>"
            ]
          },
          "metadata": {
            "tags": [],
            "needs_background": "light"
          }
        },
        {
          "output_type": "stream",
          "text": [
            "num class 16\n"
          ],
          "name": "stdout"
        }
      ]
    },
    {
      "cell_type": "code",
      "metadata": {
        "colab": {
          "base_uri": "https://localhost:8080/",
          "height": 281
        },
        "id": "bVY9aW_jlJqp",
        "outputId": "8ba06476-f48a-4540-fb2f-4b57b760ae57"
      },
      "source": [
        "df_train.groupby('fname').count().plot.hist(y=\"POS\", bins=100,range=[0,6000])\r\n",
        "plt.title(\"article word count\")\r\n",
        "plt.show()"
      ],
      "execution_count": 10,
      "outputs": [
        {
          "output_type": "display_data",
          "data": {
            "image/png": "[encoded data removed]",
            "text/plain": [
              "<Figure size 432x288 with 1 Axes>"
            ]
          },
          "metadata": {
            "tags": [],
            "needs_background": "light"
          }
        }
      ]
    },
    {
      "cell_type": "markdown",
      "metadata": {
        "id": "xfoS9jJ1Ic0L"
      },
      "source": [
        "# Preprocessing"
      ]
    },
    {
      "cell_type": "code",
      "metadata": {
        "id": "Bhf5zO3ljS33"
      },
      "source": [
        "!pip install pythainlp\r\n",
        "!pip install deepcut\r\n",
        "!pip install attacut"
      ],
      "execution_count": null,
      "outputs": []
    },
    {
      "cell_type": "code",
      "metadata": {
        "colab": {
          "base_uri": "https://localhost:8080/"
        },
        "id": "VTE80OJbgSUr",
        "outputId": "a5880197-0efe-457d-830b-1c696225e781"
      },
      "source": [
        "df_test.loc[df_test.fname == 'T13340.txt','word'].values"
      ],
      "execution_count": 6,
      "outputs": [
        {
          "output_type": "execute_result",
          "data": {
            "text/plain": [
              "array(['มท.', '2', '_', 'ปัด', 'ขน', 'คน', 'เข้า', 'กรุง', 'เพื่อ',\n",
              "       'ก่อกวน', 'เสื้อ', 'แดง', nan, 'รมช.', 'มหาดไทย', '\"', 'บุญจง',\n",
              "       '\"', '_', 'ปัด', 'ขน', 'คน', 'เข้า', 'กรุง', '_', 'เพื่อ',\n",
              "       'ก่อกวน', 'เสื้อ', 'แดง', '_', 'พร้อม', 'เชื่อ', '_', 'จะ', 'ไม่',\n",
              "       'มี', 'เหตุ', 'ปะทะ', 'กัน', nan, 'นาย', 'บุญจง', '_',\n",
              "       'วงศ์ไตรรัตน์', '_', 'รมช.', 'มหาดไทย', '_', 'ยืนยัน', 'ไม่',\n",
              "       'มีการ', 'ว่าจ้าง', '_', 'หรือ', '_', 'ขน', 'คน', 'มา', 'ป่วน',\n",
              "       'กลุ่ม', 'คน', 'เสื้อ', 'แดง', 'ที่', 'เตรียม', 'ยื่น', 'ถวาย',\n",
              "       'ฎีกา', 'ขอ', 'พระราชทาน', 'อภัยโทษ', 'ให้', '_', 'พ.ต.ท.',\n",
              "       'ทักษิณ', '_', 'ชินวัตร', '_', 'อดีต', 'นายก', 'ฯ', nan, 'ขณะ',\n",
              "       'เดียว', 'กัน', '_', 'ก็', 'ไม่', 'ได้', 'มีการ', 'สกัดกั้น',\n",
              "       'การ', 'เดินทาง', 'เข้า', '_', 'กรุงเทพฯ', 'ของ', 'คน', 'เสื้อ',\n",
              "       'แดง', 'ด้วย', nan, 'ขณะ', 'เดียว', 'กัน', '_', 'ก็', 'ไม่', 'ได้',\n",
              "       'รู้สึก', 'กังวล', '_', 'พ.ต.ท.', 'ทักษิณ', 'โฟนอิน', '_', 'เพราะ',\n",
              "       'โฟน', 'เป็น', 'ประจำ', 'อยู่แล้ว', 'ประชาชน', 'ก็', 'ต้อง', 'ใช้',\n",
              "       'วิจารณญาณ', '_', 'โดย', 'เชื่อ', 'วัน', 'นี้', 'จะ', 'ผ่านพ้น',\n",
              "       'ไป', 'อย่าง', 'สงบเรียบร้อย', '_', 'เพราะ', 'ทุก', 'คน', 'เห็น',\n",
              "       'ต่าง', 'กัน', 'ได้', nan, 'ส่วน', 'การ', 'ตัดสิน', 'คดี', 'กล้า',\n",
              "       'ยาง', '_', 'ก็', 'ไม่', 'ได้', 'มีการ', 'จัดตั้ง', 'คน', 'ให้',\n",
              "       'ไป', 'รวมตัว', 'ที่', 'ศาล', 'ฎีกา', 'แผนก', 'คดี', 'อาญา', 'ของ',\n",
              "       'ผู้', 'ดำรง', 'ตำแหน่ง', 'ทาง', 'การเมือง', '_', 'แต่', 'อย่างใด',\n",
              "       'แต่', 'ประชาชน', 'ทั่วไป', 'ก็', 'สามารถ', 'ไป', 'ได้', '_',\n",
              "       'แต่', 'ต้อง', 'ไป', 'อย่าง', 'เรียบร้อย', '_', 'ซึ่ง', 'เชื่อ',\n",
              "       'ว่า', 'ทั้ง', 'สอง', 'กลุ่ม', 'จะ', 'ไม่', 'ปะทะ', 'กัน', nan,\n",
              "       'ทั้งนี้', '_', 'นายก', 'ฯ', '_', 'ได้', 'สั่งการ', 'เจ้าหน้าที่',\n",
              "       'ตำรวจ', '_', 'ดูแล', 'ความ', 'สงบเรียบร้อย', 'บริเวณ', 'พื้นที่',\n",
              "       'ชุมนุม', 'และ', 'ศาล', '_', 'อย่าง', 'เข้มงวด', '_', 'ส่วน', '_',\n",
              "       'นาย', 'เนวิน', '_', 'ชิดชอบ', '_', 'ก็', 'ยืนยัน', 'จะ',\n",
              "       'เดินทาง', 'มา', 'ฟัง', 'คำ', 'พิพากษา', 'อย่าง', 'แน่นอน', '_',\n",
              "       'ส่วน', 'ตน', 'ก็', 'จะ', 'เดินทาง', 'ไป', 'ให้', 'กำลังใจ',\n",
              "       'ด้วย', nan, 'รมช.', 'มหาดไทย', '_', 'ยัง', 'กล่าว', 'ด้วย', 'ว่า',\n",
              "       '_', 'สำหรับ', 'รายชื่อ', 'คัดค้าน', 'การ', 'ยื่น', 'ถวาย', 'ฎีกา',\n",
              "       'นั้น', '_', 'ล่าสุด', '_', 'มี', 'ประชาชน', 'ลง', 'ชื่อ', 'แล้ว',\n",
              "       '_', 'กว่า', '_', '10', '_', 'ล้าน', 'คน', 'ซึ่ง', 'ถือ', 'เป็น',\n",
              "       'เครื่อง', 'ชี้', 'วัด', 'ว่า', '_', 'ประชาชน', 'ได้', 'เข้าใจ',\n",
              "       'หลักเกณฑ์', 'ใน', 'การ', 'ขอ', 'พระราชทาน', 'อภัยโทษ', '_',\n",
              "       'ตามที่', '_', 'ผู้', 'ว่า', 'ฯ', '_', 'นาย', 'อำเภอ', '_', 'และ',\n",
              "       '_', 'กำนัน', '-', 'ผู้ใหญ่บ้าน', '_', 'อธิบาย', 'แล้ว', '_',\n",
              "       'ซึ่ง', 'ยังคง', 'เดินหน้า', 'ทำความเข้าใจ', 'กับ', 'ประชาชน',\n",
              "       'ต่อไป', nan], dtype=object)"
            ]
          },
          "metadata": {
            "tags": []
          },
          "execution_count": 6
        }
      ]
    },
    {
      "cell_type": "code",
      "metadata": {
        "colab": {
          "base_uri": "https://localhost:8080/"
        },
        "id": "J6HkdD9fiZR_",
        "outputId": "ea4c4e82-788f-411c-9caa-b9d5f0bafa5d"
      },
      "source": [
        "genres = df_genre.genre.unique()\r\n",
        "genre2idx = {}\r\n",
        "for i,g in enumerate(genres):\r\n",
        "    genre2idx[g] = i\r\n",
        "print(genre2idx)"
      ],
      "execution_count": 7,
      "outputs": [
        {
          "output_type": "stream",
          "text": [
            "{'politics': 0, 'C&A': 1, 'general': 2, 'economics': 3, 'culture': 4, 'STE': 5, 'international': 6, 'environment': 7, 'weather': 8, 'health': 9, 'disaster': 10, 'entertainment': 11, 'development': 12, 'sports': 13, 'royal': 14, 'inter': 15}\n"
          ],
          "name": "stdout"
        }
      ]
    },
    {
      "cell_type": "code",
      "metadata": {
        "colab": {
          "base_uri": "https://localhost:8080/",
          "height": 231
        },
        "id": "JRqcph8HeuuN",
        "outputId": "991ea92e-b267-47ea-da75-2a4f7c3f1091"
      },
      "source": [
        "def get_data(df):\r\n",
        "    xs = []\r\n",
        "    ys = []\r\n",
        "    for fname in df.fname.unique():\r\n",
        "        x = ''.join([str(x) if x != '_' else ' ' for x in df.loc[df.fname == fname,'word'].fillna(' ').values])\r\n",
        "        y = genre2idx[df_genre.loc[df_genre.fname == fname,'genre'].values[0]]\r\n",
        "\r\n",
        "        xs.append(x)\r\n",
        "        ys.append(y)\r\n",
        "    return xs,ys\r\n",
        "\r\n",
        "data_train, y_train = get_data(df_train)\r\n",
        "data_val, y_val = get_data(df_eval)\r\n",
        "data_test, y_test = get_data(df_test)\r\n",
        "\r\n",
        "print('train', len(data_train), len(y_train))\r\n",
        "print('test', len(data_val), len(y_test))\r\n",
        "print('val', len(data_val), len(y_val))\r\n"
      ],
      "execution_count": 8,
      "outputs": [
        {
          "output_type": "stream",
          "text": [
            "train 3794 3794\n",
            "test 474 483\n"
          ],
          "name": "stdout"
        },
        {
          "output_type": "error",
          "ename": "NameError",
          "evalue": "ignored",
          "traceback": [
            "\u001b[0;31m---------------------------------------------------------------------------\u001b[0m",
            "\u001b[0;31mNameError\u001b[0m                                 Traceback (most recent call last)",
            "\u001b[0;32m<ipython-input-8-a7957c73b4bd>\u001b[0m in \u001b[0;36m<module>\u001b[0;34m()\u001b[0m\n\u001b[1;32m     16\u001b[0m \u001b[0mprint\u001b[0m\u001b[0;34m(\u001b[0m\u001b[0;34m'train'\u001b[0m\u001b[0;34m,\u001b[0m \u001b[0mlen\u001b[0m\u001b[0;34m(\u001b[0m\u001b[0mdata_train\u001b[0m\u001b[0;34m)\u001b[0m\u001b[0;34m,\u001b[0m \u001b[0mlen\u001b[0m\u001b[0;34m(\u001b[0m\u001b[0my_train\u001b[0m\u001b[0;34m)\u001b[0m\u001b[0;34m)\u001b[0m\u001b[0;34m\u001b[0m\u001b[0;34m\u001b[0m\u001b[0m\n\u001b[1;32m     17\u001b[0m \u001b[0mprint\u001b[0m\u001b[0;34m(\u001b[0m\u001b[0;34m'test'\u001b[0m\u001b[0;34m,\u001b[0m \u001b[0mlen\u001b[0m\u001b[0;34m(\u001b[0m\u001b[0mdata_val\u001b[0m\u001b[0;34m)\u001b[0m\u001b[0;34m,\u001b[0m \u001b[0mlen\u001b[0m\u001b[0;34m(\u001b[0m\u001b[0my_test\u001b[0m\u001b[0;34m)\u001b[0m\u001b[0;34m)\u001b[0m\u001b[0;34m\u001b[0m\u001b[0;34m\u001b[0m\u001b[0m\n\u001b[0;32m---> 18\u001b[0;31m \u001b[0mprint\u001b[0m\u001b[0;34m(\u001b[0m\u001b[0;34m'val'\u001b[0m\u001b[0;34m,\u001b[0m \u001b[0mlen\u001b[0m\u001b[0;34m(\u001b[0m\u001b[0mx_val\u001b[0m\u001b[0;34m)\u001b[0m\u001b[0;34m,\u001b[0m \u001b[0mlen\u001b[0m\u001b[0;34m(\u001b[0m\u001b[0my_val\u001b[0m\u001b[0;34m)\u001b[0m\u001b[0;34m)\u001b[0m\u001b[0;34m\u001b[0m\u001b[0;34m\u001b[0m\u001b[0m\n\u001b[0m",
            "\u001b[0;31mNameError\u001b[0m: name 'x_val' is not defined"
          ]
        }
      ]
    },
    {
      "cell_type": "code",
      "metadata": {
        "colab": {
          "base_uri": "https://localhost:8080/",
          "height": 88
        },
        "id": "1LkP2usMgoHN",
        "outputId": "1b70e8cc-91de-47e4-dd1b-68873bc0ef35"
      },
      "source": [
        "display(data_test[:2])\r\n",
        "display(y_test[:2])"
      ],
      "execution_count": 9,
      "outputs": [
        {
          "output_type": "display_data",
          "data": {
            "text/plain": [
              "['ชาวอเมริกัน 6 ใน 10 เชื่อไข้หวัดใหญ่สายพันธุ์ใหม่ 2009 ระบาดในฤดูใบไม้ร่วง ผลการสำรวจความคิดเห็นชาวอเมริกันกว่า 1,800 คน โดยฮาร์วาร์ด สคูล ออฟ พับลิค เฮลท์ ปลายเดือนที่แล้ว พบว่า กลุ่มตัวอย่าง 6 ใน 10 เชื่อว่า เชื้อไข้หวัดใหญ่สายพันธุ์ใหม่ 2009 จะแพร่ระบาดไปทั่วประเทศ และจะมีผู้ป่วยรุนแรงในสหรัฐ ในฤดูใบไม้ร่วงนี้ โดยกลุ่มผู้สูงอายุเป็นกลุ่มที่เชื่อว่า จะล้มป่วยมากที่สุด ขณะบราซิลรายงานว่า ยอดผู้เสียชีวิตจากไข้หวัดใหญ่สายพันธุ์ใหม่ 2009 ในประเทศ เพิ่มขึ้นเป็น 11 คน ด้านซูดาน รายงานว่า พบผู้ติดเชื้อไข้หวัดใหญ่สายพันธุ์ใหม่ 2009 รายแรกของประเทศแล้ว โดยเป็นพลเรือนที่เพิ่งเดินทางกลับจากอังกฤษ. ',\n",
              " 'ผบช.น.แถลงข่าวจับโจรจี้แท็กซี่ พล.ต.ท.วรพงษ์ ชิวปรีชา ผบช.น. แถลงข่าวผลงานของ สน.มักกะสัน จับกุม นายเดชฤทธิ์ ใจดี อายุ 24 ปี อยู่บ้านเลขที่ 52 หมู่ 4 ต.ตาลาน อ.ผักไห่ จ.อยุธยา โจรชิงทรัพย์แท็กซี่ หลังตระเวนก่อเหตุล่อลวงโชเฟอร์แท็กซี่ไปชิงทรัพย์โดยใช้อาวุธปืน พร้อมของกลาง อาวุธปืนพกสั้น ขนาด มม. กระสุน 4 นัด โทรศัพท์มือถือ เงินสด 900 บาท รถแท็กซี่ ทะเบียน ทล 5480 กทม. และป้ายทะเบียนปลอม หมายเลข ทว 4290 กทม. ที่คนร้ายนำมาจัดเตรียมสับเปลี่ยนกับป้ายทะเบียนเดิม เพื่อใช้ในการหลบหนี โดยเจ้าหน้าที่สามารถจับกุมตัวได้ที่บริเวณตึกไบรทตันเพลส ถ.เพชรบุรีตัดใหม่ พล.ต.ท.วรพงษ์กล่าวว่า เมื่อวันที่ 23 ก.ค. 52 เวลาประมาณ 01.00 น. ขณะที่ นายชาคริต วันบุญ อายุ 25 ปี ผู้เสียหาย ขับรถแท็กซี่ ทะเบียน ทล 5480 กทม.ออกหาผู้โดยสารอยู่บริเวณปากซอยรัชดา 4 ได้รับ นายเดชฤทธิ์ ผู้ต้องหา เพื่อไปส่งที่สนามบินสุวรรณภูมิ ขณะขับมาถึงบริเวณเขตรับผิดชอบของ สภ.บางพลี นายเดชฤทธิ์ ได้ใช้อาวุธปืนขนาด มม.จี้บังคับผู้เสียหายแล้วใช้ผ้าเทปมัดมือมัดเท้าผู้เสียหาย แล้วนำไปทิ้งที่ป่ากล้วย ท้องที่ สภ.บางพลี ชิงทรัพย์ รถแท็กซี่ เงินสด 900 บาท และโทรศัพท์มือถือ หลบหนีไป พร้อมกับนำป้ายทะเบียนปลอมมาสับเปลี่ยนเพื่อใช้ในการหลบหนี แต่สุดท้ายไปไม่รอดถูกเจ้าหน้าที่สายตรวจ สน.มักกะสัน สกัดจับกุมตัวได้ดัง พร้อมของกลาง ด้าน นายเดชฤทธิ์ ผู้ต้องหา ให้การรับสารภาพตลอดข้อกล่าวหา และยืนยันว่าการก่อเหตุดังกล่าวเป็นการทำครั้งแรก อย่างไรก็ตามเจ้าหน้าที่แจ้งข้อหาชิงทรัพย์โดยใช้อาวุธปืน พร้อมควบคุมตัวไปทำการสอบสวน ที่สภ.บางพลี เพื่อดำเนินคดีทางกฎหมายต่อไป ขณะที่นายชาคริต ผู้เสียหาย เดินทางมาชี้ตัวผู้ต้องหา และยืนยันว่าเป็นคนร้ายที่ลงมือก่อเหตุจริง เปิดเผยว่า พฤติกรรมของคนร้ายมีความชำนาญเป็นอย่างมาก ลงมืออย่างเป็นขั้นตอนคาดว่าได้เตรียมตัววางแผนมาเป็นอย่างดี และไม่เชื่อว่าการก่อเหตุครั้งนี้เป็นการก่อเหตุครั้งแรก ']"
            ]
          },
          "metadata": {
            "tags": []
          }
        },
        {
          "output_type": "display_data",
          "data": {
            "text/plain": [
              "[9, 1]"
            ]
          },
          "metadata": {
            "tags": []
          }
        }
      ]
    },
    {
      "cell_type": "code",
      "metadata": {
        "id": "orwykvJjerNK"
      },
      "source": [
        "from pythainlp import word_tokenize\r\n",
        "from attacut import tokenize as atta_tokenize\r\n",
        "\r\n",
        "x_train_mm = [word_tokenize(x,engine='newmm') for x in data_train]\r\n",
        "x_train_ac = [atta_tokenize(x) for x in data_train]\r\n",
        "x_test_mm = [word_tokenize(x,engine='newmm') for x in data_test]\r\n",
        "x_test_ac = [atta_tokenize(x) for x in data_test]\r\n",
        "x_val_mm = [word_tokenize(x,engine='newmm') for x in data_val]\r\n",
        "x_val_ac = [atta_tokenize(x) for x in data_val]\r\n"
      ],
      "execution_count": 10,
      "outputs": []
    },
    {
      "cell_type": "code",
      "metadata": {
        "colab": {
          "base_uri": "https://localhost:8080/"
        },
        "id": "S0kdr6K2uyGq",
        "outputId": "5091a7bc-e3d7-43ca-a3ef-05f5ed6fcb72"
      },
      "source": [
        "print(x_train_ac[:2])"
      ],
      "execution_count": 11,
      "outputs": [
        {
          "output_type": "stream",
          "text": [
            "[['กกต.', 'โต้วุฒิสภา', 'ไม่', 'มี', 'สิทธิ', 'สั่ง', 'ทบทวน', 'ส.ว.', 'ถือ', 'หุ้น', 'สัมปทาน', ' ', '\"', 'สดศรี', '\"', 'เผย', 'กกต.', 'เหมือน', 'อัยการ', ' ', 'ประธาน', 'วุฒิสภา', 'แค่', 'ไปรษณีย์', 'ส่ง', 'ให้', 'ศาลรธน', '.', 'ชี้ขาด', ' ', 'ย้อน', 'ทำไม', 'ยื้อส่ง', ' ', 'ส.ว.', 'ปราจีน', 'พ้น', 'สมาชิก', 'ภาพ', ' ', 'ปธ.', 'วุฒิสภา', 'ยัน', 'สอย', 'ส.ว.', '-', 'ส.ส.', ' ', 'ที่', 'สำนักงานคณะกรรมการการเลือกตั้ง', '(', 'กกต.', ')', ' ', 'นางสดศรี สัตยธรรม', ' ', 'กกต.', 'ด้าน', 'กิจการ', 'พรรค', 'การ', 'เมือง', ' ', 'กล่าว', 'ถึง', 'กรณี', 'ที่', 'ประธาน', 'วุฒิสภา', 'เสนอ', 'ให้', ' ', 'กกต.', 'ทบทวน', 'มติ', 'เรื่อง', 'ส.ส.', 'ถือ', 'ครอง', 'หุ้น', 'สัมปทาน', 'รัฐ', ' ', 'ขัด', 'รัฐธรรมนูญ', 'ต้อง', 'พ้น', 'สมาชิกภาพ', ' ', 'อยาก', 'ถาม', 'ว่า', ' ', 'เป็น', 'อดีต', 'ตุลาการ', 'มา', 'แล้ว', 'ท่าน', 'ใช้', 'กฎหมาย', 'หรือ', 'รัฐธรรมนูญ', 'มาตรา', 'ใด', 'ให้', ' ', 'กกต.', 'ทบทวน', ' ', 'เป็น', 'รัฐธรรมนูญ', 'ฉบับ', 'ปี', ' ', '2575', ' ', 'หรือ', 'เปล่า', ' ', '\"', 'ท่าน', 'เหมือน', 'นายไปรษณีย์', ' ', 'ขณะ', 'ที่', 'เรา', 'เหมือน', 'อัยการ', ' ', 'เมื่อ', 'ยื่น', 'ฟ้อง', 'ท่าน', 'ต้อง', 'ส่ง', 'ไป', ' ', 'เพราะ', 'เมื่อ', 'เสนอ', 'ขึ้น', 'ไป', 'ศาล', 'ก็', 'ต้อง', 'ตัดสิน', ' ', 'แต่', 'กรณี', 'นี้', 'ท่าน', 'เป็น', 'เพียง', 'คน', 'เดิน', 'สาส์น', 'เอา', 'เอกสาร', 'ไป', 'ให้', 'ศาล', ' ', 'แต่', 'นายไปรษณีย์', 'กลับ', 'บอก', 'ว่า', 'ให้', 'เอา', 'มา', 'ทบทวน', 'ก็', 'ไม่', 'เข้าใจ', 'เหมือน', 'กัน', ' ', 'เรา', 'กำลัง', 'ค้น', 'กฎหมาย', 'เหมือน', 'ว่า', 'ใช้', 'มาตราอะไร', 'สั่ง', 'ให้', 'ทบทวน', 'หรือ', 'ใช้', 'หลัก', 'อะไร', ' ', 'กกต.', 'เป็น', 'องค์กร', 'อิสระ', 'แยก', 'ออก', 'จาก', 'กัน', ' ', 'วุฒิสภา', 'ไม่', 'ใช่', 'ผู้', 'บังคับบัญชา', 'ของ', ' ', 'กกต.', ' ', 'แต่ละ', 'องค์กร', 'ต้อง', 'ดู', 'ว่า', 'มี', 'บทบาท', 'หน้าที่', 'อย่าง', 'ไร', '\"', ' ', 'นางสดศรี', ' ', 'กล่าว', 'อีก', 'ว่า', ' ', 'คราว', 'ที่', 'แล้ว', 'กรณี', 'นายสุรเดช จิรัฐิติ', 'เจริญ', ' ', 'ส.ว.', 'ปราจีนบุรี', ' ', 'ซึ่ง', ' ', 'กกต.', 'ตัดสิน', 'ขาด', 'คุณสมบัติ', ' ', 'เนื่อง', 'จาก', 'พ้น', 'จาก', 'การ', 'เป็น', 'สมาชิก', 'พรรค', 'การ', 'เมือง', 'ไม่', 'ถึง', 'ห้า', 'ปี', ' ', 'เรื่อง', 'นี้', 'ท่าน', 'ก็', 'ขอ', 'ให้', 'ทบทวน', 'โดย', 'อ้าง', 'ว่า', 'ยัง', 'มี', 'เอกสาร', 'ที่', 'เรา', 'ยัง', 'ไม่', 'พิจารณา', ' ', 'แต่', 'เมื่อ', 'เรา', 'ส่ง', 'ให้', ' ', 'คณะ', 'อนุกรรมการ', 'ก็', 'ทราบ', 'ว่า', 'ได้', 'พิจารณา', 'เอกสาร', 'นั้น', 'ไป', 'แล้ว', ' ', 'ซึ่ง', 'เรา', 'ก็', 'ยืน', 'ตาม', 'ความ', 'เห็น', 'เดิม', ' ', 'แต่', 'ก็', 'ทราบ', 'ว่า', 'ขณะ', 'นี้', 'ยัง', 'ไม่', 'ได้', 'เสนอ', 'เรื่อง', 'ดัง', 'กล่าว', 'ต่อ', 'ศาลรัฐธรรมนูญ', ' ', 'ซึ่ง', 'ไม่', 'ทราบ', 'ว่า', 'มี', 'ข้อ', 'จำกัด', 'อะไร', ' ', 'หรือ', 'มี', 'อะไร', 'จึง', 'ยัง', 'ไม่', 'ส่ง', ' ', 'นางสดศรี', ' ', 'กล่าว', 'ต่อ', 'ว่า', ' ', 'การ', 'ที่', 'เรา', 'ตัดสิน', 'เรา', 'ทำ', 'ตาม', 'กฎหมาย', ' ', 'แต่', 'การ', 'ที่', 'ท่าน', 'บอก', 'ไม่', 'ส่ง', 'หรือ', 'ให้', 'กลับ', 'มา', 'ทบทวน', 'ก็', 'อยาก', 'จะ', 'ทราบ', 'เหตุผล', 'ของ', 'ท่าน', ' ', 'อยาก', 'ดู', 'ว่า', 'กฎหมาย', 'ใด', 'ให้', 'อำนาจ', 'ประธาน', 'วุฒิสภา', 'ใน', 'การ', 'ระงับ', 'หรือ', 'ไม่', 'ส่ง', 'เพราะ', 'อะไร', ' ', 'หาก', 'ไม่', 'ส่ง', 'ผู้', 'ที่', 'ร้องเรียน', 'ก็', 'อาจ', 'จะ', 'ใช้', 'สิทธิ', 'ตาม', ' ', '157', ' ', 'ของ', 'ประมวล', 'กฎหมาย', 'อาญา', ' ', 'เรื่อง', 'ละเว้น', 'การ', 'ปฏิบัติ', 'หน้าที่', ' ', 'เรา', 'ถือ', 'ว่า', 'เรา', 'ทำ', 'งาน', 'แล้ว', ' ', 'แต่', 'ผู้', 'ร้องเรียน', 'บอก', 'ว่า', 'ยัง', 'ไม่', 'จบ', 'สิ้น', 'กระบวนการ', ' ', 'หาก', 'ยัง', 'ยืนยัน', 'ที่', 'จะ', 'ไม่', 'ส่ง', 'ก็', 'เป็น', 'เรื่อง', 'ของ', 'ผู้', 'ร้องเรียน', 'ต่อ', 'ไป', ' ', 'เพราะ', 'การ', 'ที่', 'เขา', 'ร้อง', 'มา', 'เขา', 'ก็', 'มี', 'เหตุผล', 'ใน', 'การ', 'ขอ', 'ให้', 'ศาลรัฐธรรมนูญ', 'วินิจฉัย', ' ', 'ตน', 'อยาก', 'ฝาก', 'ผู้', 'ร้อง', 'ว่า', 'หาก', 'ไม่', 'มี', 'การ', 'ส่ง', 'ก็', 'แล้วแต่', 'ท่าน', 'พิจารณา', 'ว่า', 'จะ', 'ดำเนิน', 'การ', 'อย่าง', 'ไร', 'ต่อ', ' ', 'นางสดศรี', ' ', 'กล่าว', 'ว่า', ' ', 'การ', 'ที่', 'มี', 'ผู้', 'ระบุ', 'ว่า', 'การ', 'ถือ', 'หุ้น', 'น้อย', ' ', 'หรือ', 'ไม่', 'มี', 'อำนาจ', 'บริหาร', 'ไม่', 'น่า', 'จะ', 'เป็น', 'ความ', 'ผิด', 'นั้น', ' ', 'เรื่อง', 'นี้', 'เป็น', 'เรื่อง', 'การ', 'ตีความ', ' ', 'แต่', 'ที่', 'เรา', 'ตัดสิน', 'แบบ', 'นี้', 'เพราะ', 'รัฐธรรมนูญ', 'เขียน', 'ไว้', 'แบบ', 'นี้', ' ', 'ส่วน', 'การ', 'ที่', 'นายสุนัย จุลพงศธร', ' ', 'ส.ส.', ' ', 'พรรคเพื่อ', 'ไทย', 'ระบุ', 'ว่า', 'กกต.', 'จ้อง', 'เล่นเล่นงาน', 'ส.ส.', 'นั้น', ' ', 'อยาก', 'ให้', 'ไป', 'ดู', 'รัฐธรรมนูญ', 'มาตรา', ' ', '265', ' ', 'วรรค', 'ท้าย', ' ', 'ใช้', 'คำ', 'ว่า', 'กรณี', 'คู่', 'สมรส', ' ', 'บุตร', ' ', 'และ', 'ผู้', 'ที่', 'เกี่ยวข้อง', ' ', 'เรื่อง', 'นี้', 'เป็น', 'ไป', 'ตาม', 'ที่', 'รัฐธรรมนูญ', 'กำหนด', 'ไว้', ' ', 'เรา', 'ไม่', 'ได้', 'มี', 'อำนาจ', 'ล้นฟ้า', 'ใน', 'การ', 'สร้าง', 'กฎหมาย', 'เอง', ' ', 'รัฐธรรมนูญ', 'ว่า', 'อย่าง', 'ไร', 'ก็', 'ต้อง', 'เป็น', 'ไป', 'อย่าง', 'ที่', 'ว่า', ' ', 'ที่', 'จริง', 'ท่าน', 'ก็', 'มี', 'อำนาจ', 'ที่', 'จะ', 'แก้', 'รัฐธรรมนูญ', 'อยู่แล้ว', ' ', 'ก็', 'แล้ว', 'แต่', 'ท่าน', 'จะ', 'แก้ไข', 'อย่าง', 'ไร', ' ', 'เรา', 'ทำ', 'ตาม', 'รัฐธรรมนูญ', ' ', 'หาก', 'ไม่', 'ทำ', 'เรา', 'ก็', 'จะ', 'ถูก', 'ดำเนิน', 'คดี', 'ที่', 'ไม่', 'ปฏิบัติ', 'ตาม', ' ', '\"', 'รัฐธรรมนูญ', 'ปัจจุบัน', ' ', 'ร่าง', 'จาก', 'นัก', 'การ', 'เมือง', 'คน', 'หนึ่ง', 'เป็น', 'ตัว', 'ตั้ง', 'และ', 'พยายาม', 'จะ', 'ปิด', 'ช่องว่าง', 'ต่างๆ', ' ', 'ก็', 'เป็น', 'เรื่อง', 'ที่', 'มี', 'ความ', 'ถูกต้อง', 'หรือ', 'ไม่', ' ', 'อย่าง', 'การ', 'ห้าม', 'นัก', 'การ', 'เมือง', 'ให้', 'บุคคล', 'อื่น', 'ถือ', 'หุ้น', 'ที่', 'ไม่', 'ใช่', 'ลูก', 'หรือ', 'ภรรยา', ' ', 'รวม', 'ถึง', 'ผู้', 'ไม่', 'ได้', 'เป็น', 'ญาติ', ' ', 'ก็', 'เป็น', 'เจตนา', 'ของ', 'รัฐธรรมนูญ', 'ที่', 'เขียน', 'ไว้', ' ', '\"', ' ', 'นางสดศรี', 'กล่าว', ' ', 'ผู้', 'สื่อ', 'ข่าว', 'ถาม', 'ว่า', 'ใน', 'วัน', 'นี้', 'จะ', 'มี', 'กรณี', 'การ', 'ถือ', 'ครอง', 'หุ้น', 'สัมปทาน', 'รัฐ', 'ของ', ' ', '28', ' ', 'ส.ส.', 'เข้า', 'พิจารณา', 'หรือ', 'ไม่', ' ', 'นางสดศรี', 'กล่าว', 'ว่า', ' ', 'ทราบ', 'ว่า', 'ประธาน', ' ', 'กกต.', 'เพิ่ง', 'ได้', 'ซอง', 'สรุป', 'การ', 'สอบสวน', 'จาก', 'คณะ', 'อนุกรรมการ', 'สอบสวน', ' ', 'แต่', 'คาด', 'ว่า', 'ยัง', 'วินิจฉัย', 'ไม่', 'ได้', ' ', 'เพราะ', 'เรา', 'ต้อง', 'มา', 'พิจารณา', 'กัน', 'ก่อน', ' ', 'ต้อง', 'ดู', 'ว่า', 'สอบ', 'ครบ', 'หรือ', 'ไม่', ' ', 'เรา', 'ถือ', 'ว่า', 'ข้อ', 'เท็จจริง', 'ต้อง', 'สอบ', 'ก่อน', 'แล้ว', 'ค่อย', 'มา', 'ดู', 'ข้อ', 'กฎหมาย', ' ', 'ผู้', 'สื่อ', 'ข่าว', 'ถาม', 'ว่า', 'จำเป็น', 'ต้อง', 'เปลี่ยน', 'ตัว', 'คณะ', 'อนุกรรมการ', 'ฯ', 'หรือ', 'ไม่', ' ', 'นางสดศรี', ' ', 'กล่าว', 'ว่า', ' ', 'หาก', 'ท่าน', 'แจ้ง', 'มา', 'ว่า', 'ทำ', 'ไม่', 'ได้', ' ', 'หรือ', 'มี', 'ข้อ', 'ขัดข้อง', ' ', 'หรือ', 'ทน', 'กระแส', 'อะไร', 'ไม่', 'ได้', 'เรา', 'ก็', 'จะ', 'เปลี่ยน', 'คณะ', 'ให้', 'ท่าน', ' ', 'แต่', 'ท่าน', 'ต้อง', 'แสดง', 'เจตนา', 'ว่า', 'ไม่ว่า', 'ไม่', 'สามารถ', 'วินิจฉัย', ' ', 'แต่', 'การ', 'ที่', 'กกต.', 'เปลี่ยน', 'โดย', 'พลการ', 'เรา', 'ไม่', 'เคย', 'ทำ', ' ', 'เพราะ', 'เรา', 'ให้', 'เกียรติทุก', 'อนุกรรมการ', 'ทุก', 'คณะ', ' ', 'หาก', 'ท่าน', 'อึดอัดใจ', 'ก็', 'อยาก', 'ให้', 'แจ้ง', ' ', 'การ', 'มา', 'ทำ', 'งาน', 'กับ', ' ', 'กกต.', ' ', 'ต้อง', 'เสียสละ', 'และ', 'อดทน', 'ต่อ', 'กระแส', 'วิพากษ์วิจารณ์', ' ', 'รวม', 'ทั้ง', 'ไม่', 'หวั่นไหว', 'ต่อ', 'สิ่ง', 'มา', 'กระตุ้น', ' ', 'อยาก', 'ให้', 'ท่าน', 'ทำ', 'ด้วย', 'ความ', 'สบายใจ', ' ', 'หาก', 'ท่าน', 'อึดอัด', 'เรา', 'ก็', 'ยินดี', 'เอา', 'สำนวน', 'คืน', 'มา', ' ', 'ปธ.', 'วุฒิ', 'ลั่น', 'ต้อง', 'ใช้', 'บรรทัดฐาน', 'เดียว', 'กับ', ' ', 'ส.ว.', 'ตัดสิน', ' ', 'ส.ส.', 'ถือ', 'หุ้น', ' ', 'ที่', 'โรง', 'แรมสยามซิตี้', ' ', 'นายประสพสุข บุญเดช', ' ', 'ประธาน', 'วุฒิสภา', ' ', 'กล่าว', 'ถึง', 'กรณี', 'ที่', 'คณะกรรมการการเลือกตั้ง', ' ', '(', 'กกต.', ')', ' ', 'ยืนยัน', 'ที่', 'จะ', 'ไม่', 'ทวน', 'คำ', 'วินิจฉัย', 'กรณี', ' ', 'ส.ว.', ' ', '16', ' ', 'คน', 'ถือ', 'หุ้น', 'ใน', 'กิจ', 'ที่', 'เป็น', 'สัมปทาน', 'ของ', 'รัฐ', 'ว่า', ' ', 'เรื่อง', 'นี้', 'เป็น', 'อำนาจ', 'ของ', ' ', 'กกต.', ' ', 'จะ', 'ทบทวน', 'หรือ', 'ไม่', 'ก็ได้', ' ', 'แต่', 'เชื่อ', 'ว่า', 'ยัง', 'มี', 'เวลา', 'อีก', 'นาน', ' ', 'เมื่อ', ' ', 'กกต.', 'ส่ง', 'คำ', 'วินิจฉัย', 'มา', 'ที่', 'วุฒิสภา', 'แล้ว', ' ', 'ประธาน', 'วุฒิสภา', 'ยัง', 'ต้อง', 'พิจารณา', 'อีก', ' ', 'และ', 'ยัง', 'ต้อง', 'ส่ง', 'ไป', 'ยัง', 'ศาลรัฐธรรมนูญ', ' ', 'ซึ่ง', 'ไม่', 'ทราบ', 'ว่า', 'ศาลรัฐธรรมนูญ', 'จะ', 'ใช้', 'เวลา', 'พิจารณา', 'นาน', 'เพียง', 'ใด', ' ', 'เบื้อง', 'ต้น', 'เชื่อ', 'ว่า', 'ภาย', 'ใน', ' ', '2', ' ', 'เดือน', 'ยัง', 'ไม่', 'มี', 'ผล', 'กระทบ', 'จาก', 'เรื่อง', 'นี้', ' ', 'ส่วน', 'หา', 'กระยะ', 'ยาว', 'เมื่อ', 'มี', 'ผล', 'การ', 'วินิจฉัย', 'ของ', 'ศาล', 'ออก', 'มา', 'แล้ว', 'ค่อย', 'ว่า', 'กัน', 'อีก', 'ครั้ง', ' ', '\"', 'จะ', 'ไม่', 'ทบทวน', 'ก็', 'ไม่', 'ทบทวน', ' ', 'เป็น', 'อำนาจ', 'ของ', 'กกต.', 'อยู่แล้ว', 'ไม่', 'มี', 'ปัญหา', ' ', '\"', 'ประธาน', 'วุฒิสภา', ' ', 'กล่าว', ' ', 'เมื่อ', 'ถาม', 'ว่า', 'มาตรฐาน', 'การ', 'พิจารณา', ' ', 'ส.ส.', 'และ', ' ', 'ส.ว.', 'ใน', 'การ', 'ถือ', 'ครอง', 'หุ้น', 'ควร', 'จะ', 'เหมือน', 'กัน', 'หรือ', 'ไม่', ' ', 'นายประสพสุข', ' ', 'กล่าว', 'ว่า', ' ', 'สอง', 'ร้อย', 'เปอร์เซ็นต์', 'ต้อง', 'เหมือน', 'กัน', ' ', 'เมื่อ', 'ใช้', 'หลัก', 'กฎหมาย', 'เดียว', 'กัน', 'พิจารณา', 'อะไร', 'ที่', 'เหมือน', 'กัน', 'มาตรฐาน', 'ก็', 'ต้อง', 'เหมือน', 'กัน', ' ', 'เชื่อ', 'ว่า', 'กกต.', 'ต้อง', 'ใช้', 'มาตรฐาน', 'เดียว', 'กัน', 'อยู่แล้ว', 'หาก', 'ไม่', 'ใช้', 'มาตรฐาน', 'เดียว', 'กัน', 'จะ', 'ตอบ', 'สังคม', 'อย่าง', 'ไร', ' ', 'ผู้', 'สื่อ', 'ข่าว', 'ถาม', 'ว่า', 'กกต.', 'ใช้', 'เวลา', 'วินิจฉัย', 'กรณี', 'เดียว', 'กัน', 'ใน', 'ส่วน', 'ของ', 'ส.ส.', 'นาน', 'กว่า', 'การ', 'วินิจฉัย', 'ส.ว.', ' ', 'นายประสพสุข', ' ', 'กล่าว', 'ว่า', ' ', 'กกต.', 'คง', 'เห็น', 'ตัวอย่าง', 'ของ', ' ', 'ส.ว.', 'ว่า', 'ต้อง', 'ให้', 'เกิด', 'ความ', 'ชัดเจน', ' ', 'ต้อง', 'มี', 'ข้อมูล', 'พินิจวิเคราะห์', ' ', 'คง', 'ไม่', 'มี', 'ปัญหา', 'อะไร', ' ', 'ด้าน', 'นายนิคม ไวยรัชพานิช', ' ', 'รอง', 'ประธาน', 'วุฒิสภาคน', 'ที่', ' 1', ' ', 'กล่าว', 'ว่า', ' ', 'ไม่', 'เห็น', 'ด้วย', 'ส่ง', 'เรื่อง', 'ให้', ' ', 'กกต.', 'ทบทวน', ' ', 'เนื่อง', 'จาก', ' ', 'กกต.', 'ได้', 'พิจารณา', 'ไป', 'แล้ว', ' ', 'และ', 'เป็น', 'ไป', 'ตาม', 'ตัว', 'อักษร', ' ', 'ไม่', 'สามารถ', 'กลับ', 'ลำ', 'การ', 'พิจารณา', 'ได้', ' ', 'แต่', 'ใน', 'ทาง', 'ตรงข้าม', 'อยาก', 'รู้', 'ว่า', ' ', 'กกต.', 'จะ', 'ใช้', 'บรรทัดฐาน', 'อะไร', ' ', 'ใน', 'การ', 'พิจารณา', ' ', 'ส.ส.', 'พรรคประชาธิปัตย์', 'เพราะ', 'เรื่อง', 'นี้', 'เคย', 'มี', 'มาตรฐาน', 'ไว้', 'แล้ว', ' ', 'แต่', 'อย่าง', 'ไร', 'ก็ตาม', 'ขอ', 'ตั้ง', 'ข้อ', 'สังเกต', 'ว่า', ' ', 'กกต.', 'เร่ง', 'รีบ', 'มาก', 'เกิน', 'ไป', ' ', 'ทั้ง', 'ที่', 'ปกติ', 'ต้อง', 'ทำ', 'สำนวน', 'ควบคู่', 'ไป', 'กับ', 'การ', 'พิจารณา', ' ', 'แล้ว', 'ส่ง', 'สำนวน', 'มา', 'ยัง', 'วุฒิสภา', ' ', 'แต่', 'ขณะ', 'นี้', ' ', 'กกต.', 'กลับ', 'ยัง', 'ไม่', 'ส่ง', 'สำนวน', 'ของ', ' ', 'ส.ว.', 'มา', 'ให้', ' ', 'ชี้', 'ให้', 'เห็น', 'ว่า', 'ยัง', 'ไม่', 'มี', 'การ', 'ทำ', 'สำนวน', ' '], ['\"', 'มีเดีย', 'ฯ', '\"', 'ส่ง', '\"กฤษณ์-มดดำออนทัวร์', '\"', ' ', 'สถานี', 'โทรทัศน์โมเดิร์น', ' ', '9', ' ', 'ไว้วางใจ', 'ให้', ' ', 'มี', 'เดีย', ' ', 'ออฟ', ' ', 'มีเดียส์', ' ', 'ผลิต', 'รายการ', 'ที่', 'จะ', 'ออกอากาศ', 'ใน', 'ทุก', 'วัน', 'นักขัตฤกษ์', ' \"', 'กฤษณ์-มดดำ', ' ', 'ออนทัวร์', '\"', ' ', 'กับ', 'รูปแบบ', 'รายการ', 'ที่', 'นำ', 'เสนอ', 'เกี่ยว', 'กับ', 'สถานที่', 'ท่องเที่ยว', 'ใน', 'แบบ', ' ', 'UNSEEN', ' ', 'ที่', 'น่า', 'สนใจ', ' ', 'ใน', 'แบบ', 'ที่', 'จะ', 'ต้อง', 'ทึ่ง', 'และ', 'คาด', 'ไม่', 'ถึง', ' ', 'พร้อม', 'แฝง', 'ไป', 'ด้วย', 'เกร็ด', 'ความ', 'รู้', ' ', 'โดย', 'คู่หู', 'ฝีปากคม', ' ', '\"', 'กฤษณ์-ศรีภูมิเศรษฐ', '\"', ' ', 'และ', ' ', '\"', 'มดดำ', '-คชาภา', '\"', ' ', 'รับ', 'หน้าที่', 'เป็น', 'พิธีกร', ' ', 'เริ่ม', 'เทป', 'แรก', 'อังคาร', 'ที่', ' ', '7', ' ', 'ก.ค.', 'นี้', ' ', 'เวลา', ' ', '13', '.', '30', '-', '14', '.', '00', ' ', 'น.', ' ', 'ทาง', 'โมเดิร์นไนน์ทีวี', ' ', 'โดย', 'กฤษณ์', 'ตัวแทน', 'กล่าว', 'ว่า', ' ', '\"', 'ดีใจ', 'ที่', 'ทาง', 'ผู้', 'ใหญ่', ' ', 'มีเดีย', ' ', 'ออฟ', ' ', 'มีเดียส์', ' ', 'ไว้วางใจ', 'ให้', 'ผม', 'มา', 'รับ', 'หน้าที่', 'เป็น', 'พิธีกร', 'ใน', 'รายการ', 'ซึ่ง', 'เป็น', 'รายการ', 'พิเศษ', 'ที่', 'จะ', 'ออกอากาศ', 'ใน', 'วัน', 'หยุด', 'นักขัตฤกษ์', 'ทาง', 'โมเดิร์นไนน์ทีวี', ' ', 'รับรอง', 'ว่า', 'จะ', 'เป็น', 'รายการ', 'เดียว', 'ที่', 'คุณ', 'จะ', 'ได้', 'เห็น', 'สถานที่', 'ท่องเที่ยว', 'ใน', 'อีก', 'มุม', 'มอง', 'ได้', 'อย่าง', 'สุด', 'ทึ่ง', ' ', 'เรียก', 'ว่า', 'จะ', 'ต้อง', 'ถูกใจ', 'ผู้', 'ชม', 'แน่นอน', 'ครับ', '\"', ' ', 'กฤษณ์', 'กล่าว', ' ']]\n"
          ],
          "name": "stdout"
        }
      ]
    },
    {
      "cell_type": "code",
      "metadata": {
        "colab": {
          "base_uri": "https://localhost:8080/"
        },
        "id": "YWE2TBlVo0mh",
        "outputId": "89c7c4cf-bbec-4b05-9522-28cfc2ec2fd0"
      },
      "source": [
        "vocab_mm = set()\r\n",
        "vocab_ac = set()\r\n",
        "for x in x_train_mm:\r\n",
        "    vocab_mm.update(x)\r\n",
        "for x in x_train_ac:\r\n",
        "    vocab_ac.update(x)\r\n",
        "vocab_mm = list(vocab_mm)\r\n",
        "vocab_ac = list(vocab_ac)\r\n",
        "\r\n",
        "print('#vocab_mm', len(vocab_mm))\r\n",
        "print('#vocab_dc', len(vocab_ac))"
      ],
      "execution_count": 12,
      "outputs": [
        {
          "output_type": "stream",
          "text": [
            "#vocab_mm 35826\n",
            "#vocab_dc 64796\n"
          ],
          "name": "stdout"
        }
      ]
    },
    {
      "cell_type": "code",
      "metadata": {
        "id": "XyuB82EnpIZ_"
      },
      "source": [
        "wordmm2idx = {w:idx for idx,w in enumerate(vocab_mm)}\r\n",
        "worddc2idx = {w:idx for idx,w in enumerate(vocab_ac)}"
      ],
      "execution_count": 13,
      "outputs": []
    },
    {
      "cell_type": "markdown",
      "metadata": {
        "id": "2t5lLwaxt6Zc"
      },
      "source": [
        "# Classification"
      ]
    },
    {
      "cell_type": "markdown",
      "metadata": {
        "id": "tpoiMjDGt-XR"
      },
      "source": [
        "## Naive-Bayes"
      ]
    },
    {
      "cell_type": "code",
      "metadata": {
        "id": "81Q5acj83x-S"
      },
      "source": [
        "from sklearn.feature_extraction.text import TfidfVectorizer"
      ],
      "execution_count": 72,
      "outputs": []
    },
    {
      "cell_type": "code",
      "metadata": {
        "id": "y7Q3L0JV4QCu"
      },
      "source": [
        "from sklearn.feature_extraction.text import TfidfVectorizer, CountVectorizer\r\n",
        "from sklearn.naive_bayes import MultinomialNB\r\n",
        "from sklearn import metrics\r\n",
        "from time import time\r\n",
        "\r\n",
        "def naive_bayes_classifier(train, test):\r\n",
        "    train_data = train\r\n",
        "    test_data = test\r\n",
        "\r\n",
        "    # set data\r\n",
        "    xs_train = []\r\n",
        "    xs_test = []\r\n",
        "    ys_train = y_train\r\n",
        "    for x in train_data:\r\n",
        "        xs_train.append(','.join(list(filter(lambda w: w != ' ', x))))\r\n",
        "    for x in test_data:\r\n",
        "        xs_test.append(','.join(list(filter(lambda w: w != ' ', x))))\r\n",
        "\r\n",
        "    # train\r\n",
        "    t0 = time()\r\n",
        "    \r\n",
        "    cvec = CountVectorizer(analyzer=lambda x:x.split(','))\r\n",
        "    c_feat = cvec.fit_transform(xs_train)\r\n",
        "\r\n",
        "    tvec = TfidfVectorizer(analyzer=lambda x:x.split(','),)\r\n",
        "    xs_train_tf  = tvec.fit_transform(xs_train)\r\n",
        "\r\n",
        "    naive_bayes_classifier = MultinomialNB()\r\n",
        "    naive_bayes_classifier.fit(xs_train_tf, y_train)\r\n",
        "\r\n",
        "    t1 = time()\r\n",
        "    print('train time', t1-t0)\r\n",
        "\r\n",
        "    # result on train\r\n",
        "\r\n",
        "    y_train_pred = naive_bayes_classifier.predict(xs_train_tf)\r\n",
        "    score1 = metrics.accuracy_score(y_train, y_train_pred)\r\n",
        "    print(\"train accuracy:   %0.3f\" % score1)\r\n",
        "\r\n",
        "    # predict\r\n",
        "\r\n",
        "    xs_test_tf = tvec.transform(xs_test)\r\n",
        "\r\n",
        "    t0 = time()\r\n",
        "    y_pred = naive_bayes_classifier.predict(xs_test_tf)\r\n",
        "\r\n",
        "    t1 = time()\r\n",
        "\r\n",
        "    score1 = metrics.accuracy_score(y_test, y_pred)\r\n",
        "    print(\"accuracy:   %0.3f\" % score1)\r\n",
        "\r\n",
        "    print(metrics.classification_report(y_test, y_pred,\r\n",
        "                                                target_names=genres))\r\n",
        "\r\n",
        "    print(\"confusion matrix:\")\r\n",
        "    print(metrics.confusion_matrix(y_test, y_pred))\r\n",
        "\r\n",
        "    print('test time', t1-t0)"
      ],
      "execution_count": 117,
      "outputs": []
    },
    {
      "cell_type": "code",
      "metadata": {
        "colab": {
          "base_uri": "https://localhost:8080/"
        },
        "id": "vTrt6t03DEgA",
        "outputId": "f4640f01-f58c-464d-a370-84dbddc1bdda"
      },
      "source": [
        "naive_bayes_classifier(x_train_mm, x_test_mm)"
      ],
      "execution_count": 118,
      "outputs": [
        {
          "output_type": "stream",
          "text": [
            "train time 1.693019151687622\n",
            "train accuracy:   0.612\n",
            "accuracy:   0.557\n",
            "               precision    recall  f1-score   support\n",
            "\n",
            "     politics       0.41      1.00      0.59       148\n",
            "          C&A       0.96      0.64      0.77        70\n",
            "      general       0.00      0.00      0.00         8\n",
            "    economics       0.89      0.28      0.42        61\n",
            "      culture       0.00      0.00      0.00         5\n",
            "          STE       0.00      0.00      0.00        28\n",
            "international       0.00      0.00      0.00        29\n",
            "  environment       0.00      0.00      0.00         5\n",
            "      weather       0.00      0.00      0.00         4\n",
            "       health       0.00      0.00      0.00        10\n",
            "     disaster       0.00      0.00      0.00         6\n",
            "entertainment       1.00      0.57      0.72        53\n",
            "  development       0.00      0.00      0.00         6\n",
            "       sports       0.97      0.67      0.79        43\n",
            "        royal       0.00      0.00      0.00         6\n",
            "        inter       0.00      0.00      0.00         1\n",
            "\n",
            "     accuracy                           0.56       483\n",
            "    macro avg       0.26      0.20      0.21       483\n",
            " weighted avg       0.57      0.56      0.49       483\n",
            "\n",
            "confusion matrix:\n",
            "[[148   0   0   0   0   0   0   0   0   0   0   0   0   0   0   0]\n",
            " [ 25  45   0   0   0   0   0   0   0   0   0   0   0   0   0   0]\n",
            " [  7   1   0   0   0   0   0   0   0   0   0   0   0   0   0   0]\n",
            " [ 44   0   0  17   0   0   0   0   0   0   0   0   0   0   0   0]\n",
            " [  5   0   0   0   0   0   0   0   0   0   0   0   0   0   0   0]\n",
            " [ 28   0   0   0   0   0   0   0   0   0   0   0   0   0   0   0]\n",
            " [ 29   0   0   0   0   0   0   0   0   0   0   0   0   0   0   0]\n",
            " [  5   0   0   0   0   0   0   0   0   0   0   0   0   0   0   0]\n",
            " [  4   0   0   0   0   0   0   0   0   0   0   0   0   0   0   0]\n",
            " [  9   0   0   1   0   0   0   0   0   0   0   0   0   0   0   0]\n",
            " [  6   0   0   0   0   0   0   0   0   0   0   0   0   0   0   0]\n",
            " [ 21   0   0   1   0   0   0   0   0   0   0  30   0   1   0   0]\n",
            " [  6   0   0   0   0   0   0   0   0   0   0   0   0   0   0   0]\n",
            " [ 13   1   0   0   0   0   0   0   0   0   0   0   0  29   0   0]\n",
            " [  6   0   0   0   0   0   0   0   0   0   0   0   0   0   0   0]\n",
            " [  1   0   0   0   0   0   0   0   0   0   0   0   0   0   0   0]]\n",
            "test time 0.0029850006103515625\n"
          ],
          "name": "stdout"
        },
        {
          "output_type": "stream",
          "text": [
            "/usr/local/lib/python3.7/dist-packages/sklearn/metrics/_classification.py:1272: UndefinedMetricWarning: Precision and F-score are ill-defined and being set to 0.0 in labels with no predicted samples. Use `zero_division` parameter to control this behavior.\n",
            "  _warn_prf(average, modifier, msg_start, len(result))\n"
          ],
          "name": "stderr"
        }
      ]
    },
    {
      "cell_type": "code",
      "metadata": {
        "colab": {
          "base_uri": "https://localhost:8080/"
        },
        "id": "fBsHb-gvDNwa",
        "outputId": "7b645f15-2499-4c65-fc47-a8375aa9c87a"
      },
      "source": [
        "naive_bayes_classifier(x_train_ac, x_test_ac)"
      ],
      "execution_count": 119,
      "outputs": [
        {
          "output_type": "stream",
          "text": [
            "train time 1.8765032291412354\n",
            "train accuracy:   0.449\n",
            "accuracy:   0.404\n",
            "               precision    recall  f1-score   support\n",
            "\n",
            "     politics       0.34      1.00      0.51       148\n",
            "          C&A       1.00      0.44      0.61        70\n",
            "      general       0.00      0.00      0.00         8\n",
            "    economics       1.00      0.03      0.06        61\n",
            "      culture       0.00      0.00      0.00         5\n",
            "          STE       0.00      0.00      0.00        28\n",
            "international       0.00      0.00      0.00        29\n",
            "  environment       0.00      0.00      0.00         5\n",
            "      weather       0.00      0.00      0.00         4\n",
            "       health       0.00      0.00      0.00        10\n",
            "     disaster       0.00      0.00      0.00         6\n",
            "entertainment       1.00      0.17      0.29        53\n",
            "  development       0.00      0.00      0.00         6\n",
            "       sports       1.00      0.12      0.21        43\n",
            "        royal       0.00      0.00      0.00         6\n",
            "        inter       0.00      0.00      0.00         1\n",
            "\n",
            "     accuracy                           0.40       483\n",
            "    macro avg       0.27      0.11      0.11       483\n",
            " weighted avg       0.57      0.40      0.30       483\n",
            "\n",
            "confusion matrix:\n",
            "[[148   0   0   0   0   0   0   0   0   0   0   0   0   0   0   0]\n",
            " [ 39  31   0   0   0   0   0   0   0   0   0   0   0   0   0   0]\n",
            " [  8   0   0   0   0   0   0   0   0   0   0   0   0   0   0   0]\n",
            " [ 59   0   0   2   0   0   0   0   0   0   0   0   0   0   0   0]\n",
            " [  5   0   0   0   0   0   0   0   0   0   0   0   0   0   0   0]\n",
            " [ 28   0   0   0   0   0   0   0   0   0   0   0   0   0   0   0]\n",
            " [ 29   0   0   0   0   0   0   0   0   0   0   0   0   0   0   0]\n",
            " [  5   0   0   0   0   0   0   0   0   0   0   0   0   0   0   0]\n",
            " [  4   0   0   0   0   0   0   0   0   0   0   0   0   0   0   0]\n",
            " [ 10   0   0   0   0   0   0   0   0   0   0   0   0   0   0   0]\n",
            " [  6   0   0   0   0   0   0   0   0   0   0   0   0   0   0   0]\n",
            " [ 44   0   0   0   0   0   0   0   0   0   0   9   0   0   0   0]\n",
            " [  6   0   0   0   0   0   0   0   0   0   0   0   0   0   0   0]\n",
            " [ 38   0   0   0   0   0   0   0   0   0   0   0   0   5   0   0]\n",
            " [  6   0   0   0   0   0   0   0   0   0   0   0   0   0   0   0]\n",
            " [  1   0   0   0   0   0   0   0   0   0   0   0   0   0   0   0]]\n",
            "test time 0.0040433406829833984\n"
          ],
          "name": "stdout"
        },
        {
          "output_type": "stream",
          "text": [
            "/usr/local/lib/python3.7/dist-packages/sklearn/metrics/_classification.py:1272: UndefinedMetricWarning: Precision and F-score are ill-defined and being set to 0.0 in labels with no predicted samples. Use `zero_division` parameter to control this behavior.\n",
            "  _warn_prf(average, modifier, msg_start, len(result))\n"
          ],
          "name": "stderr"
        }
      ]
    },
    {
      "cell_type": "markdown",
      "metadata": {
        "id": "c1-bTgytY70q"
      },
      "source": [
        "## Naive-Bayes Character"
      ]
    },
    {
      "cell_type": "code",
      "metadata": {
        "id": "LD-GbPePY70u"
      },
      "source": [
        "from sklearn.feature_extraction.text import TfidfVectorizer"
      ],
      "execution_count": null,
      "outputs": []
    },
    {
      "cell_type": "code",
      "metadata": {
        "id": "OfYPM74kY70u"
      },
      "source": [
        "from sklearn.feature_extraction.text import TfidfVectorizer, CountVectorizer\r\n",
        "from sklearn.naive_bayes import MultinomialNB\r\n",
        "from sklearn import metrics\r\n",
        "from time import time\r\n",
        "\r\n",
        "def naive_bayes_classifier(train, test):\r\n",
        "    train_data = train\r\n",
        "    test_data = test\r\n",
        "\r\n",
        "    # set data\r\n",
        "    xs_train = []\r\n",
        "    xs_test = []\r\n",
        "    ys_train = y_train\r\n",
        "    for x in train_data:\r\n",
        "        xs_train.append(''.join(list(filter(lambda w: w != ' ', x))))\r\n",
        "    for x in test_data:\r\n",
        "        xs_test.append(''.join(list(filter(lambda w: w != ' ', x))))\r\n",
        "\r\n",
        "    # train\r\n",
        "    t0 = time()\r\n",
        "    \r\n",
        "    cvec = CountVectorizer(analyzer=lambda x:list(x))\r\n",
        "    c_feat = cvec.fit_transform(xs_train)\r\n",
        "\r\n",
        "    tvec = TfidfVectorizer(analyzer=lambda  x:list(x))\r\n",
        "    xs_train_tf  = tvec.fit_transform(xs_train)\r\n",
        "\r\n",
        "    naive_bayes_classifier = MultinomialNB()\r\n",
        "    naive_bayes_classifier.fit(xs_train_tf, y_train)\r\n",
        "\r\n",
        "    t1 = time()\r\n",
        "    print('train time', t1-t0)\r\n",
        "\r\n",
        "    # result on train\r\n",
        "\r\n",
        "    y_train_pred = naive_bayes_classifier.predict(xs_train_tf)\r\n",
        "    score1 = metrics.accuracy_score(y_train, y_train_pred)\r\n",
        "    print(\"train accuracy:   %0.3f\" % score1)\r\n",
        "\r\n",
        "    # predict\r\n",
        "\r\n",
        "    xs_test_tf = tvec.transform(xs_test)\r\n",
        "\r\n",
        "    t0 = time()\r\n",
        "    y_pred = naive_bayes_classifier.predict(xs_test_tf)\r\n",
        "\r\n",
        "    t1 = time()\r\n",
        "\r\n",
        "    score1 = metrics.accuracy_score(y_test, y_pred)\r\n",
        "    print(\"accuracy:   %0.3f\" % score1)\r\n",
        "\r\n",
        "    print(metrics.classification_report(y_test, y_pred,\r\n",
        "                                                target_names=genres))\r\n",
        "\r\n",
        "    print(\"confusion matrix:\")\r\n",
        "    print(metrics.confusion_matrix(y_test, y_pred))\r\n",
        "\r\n",
        "    print('test time', t1-t0)"
      ],
      "execution_count": 80,
      "outputs": []
    },
    {
      "cell_type": "code",
      "metadata": {
        "colab": {
          "base_uri": "https://localhost:8080/"
        },
        "id": "D9GJVfMLY70v",
        "outputId": "e318d783-d4e2-4342-afbe-186237f54edf"
      },
      "source": [
        "naive_bayes_classifier(x_train_mm, x_test_mm)"
      ],
      "execution_count": 81,
      "outputs": [
        {
          "output_type": "stream",
          "text": [
            "train time 3.6067955493927\n",
            "train accuracy:   0.319\n",
            "accuracy:   0.308\n",
            "               precision    recall  f1-score   support\n",
            "\n",
            "     politics       0.31      0.99      0.47       148\n",
            "          C&A       0.00      0.00      0.00        70\n",
            "      general       0.00      0.00      0.00         8\n",
            "    economics       0.00      0.00      0.00        61\n",
            "      culture       0.00      0.00      0.00         5\n",
            "          STE       0.50      0.04      0.07        28\n",
            "international       0.00      0.00      0.00        29\n",
            "  environment       0.00      0.00      0.00         5\n",
            "      weather       0.00      0.00      0.00         4\n",
            "       health       0.00      0.00      0.00        10\n",
            "     disaster       0.00      0.00      0.00         6\n",
            "entertainment       0.67      0.04      0.07        53\n",
            "  development       0.00      0.00      0.00         6\n",
            "       sports       0.00      0.00      0.00        43\n",
            "        royal       0.00      0.00      0.00         6\n",
            "        inter       0.00      0.00      0.00         1\n",
            "\n",
            "     accuracy                           0.31       483\n",
            "    macro avg       0.09      0.07      0.04       483\n",
            " weighted avg       0.20      0.31      0.16       483\n",
            "\n",
            "confusion matrix:\n",
            "[[146   0   0   1   0   0   0   0   0   0   0   1   0   0   0   0]\n",
            " [ 70   0   0   0   0   0   0   0   0   0   0   0   0   0   0   0]\n",
            " [  8   0   0   0   0   0   0   0   0   0   0   0   0   0   0   0]\n",
            " [ 61   0   0   0   0   0   0   0   0   0   0   0   0   0   0   0]\n",
            " [  5   0   0   0   0   0   0   0   0   0   0   0   0   0   0   0]\n",
            " [ 27   0   0   0   0   1   0   0   0   0   0   0   0   0   0   0]\n",
            " [ 29   0   0   0   0   0   0   0   0   0   0   0   0   0   0   0]\n",
            " [  5   0   0   0   0   0   0   0   0   0   0   0   0   0   0   0]\n",
            " [  4   0   0   0   0   0   0   0   0   0   0   0   0   0   0   0]\n",
            " [ 10   0   0   0   0   0   0   0   0   0   0   0   0   0   0   0]\n",
            " [  6   0   0   0   0   0   0   0   0   0   0   0   0   0   0   0]\n",
            " [ 50   0   0   1   0   0   0   0   0   0   0   2   0   0   0   0]\n",
            " [  6   0   0   0   0   0   0   0   0   0   0   0   0   0   0   0]\n",
            " [ 41   0   0   1   0   1   0   0   0   0   0   0   0   0   0   0]\n",
            " [  6   0   0   0   0   0   0   0   0   0   0   0   0   0   0   0]\n",
            " [  1   0   0   0   0   0   0   0   0   0   0   0   0   0   0   0]]\n",
            "test time 0.0004868507385253906\n"
          ],
          "name": "stdout"
        },
        {
          "output_type": "stream",
          "text": [
            "/usr/local/lib/python3.7/dist-packages/sklearn/metrics/_classification.py:1272: UndefinedMetricWarning: Precision and F-score are ill-defined and being set to 0.0 in labels with no predicted samples. Use `zero_division` parameter to control this behavior.\n",
            "  _warn_prf(average, modifier, msg_start, len(result))\n"
          ],
          "name": "stderr"
        }
      ]
    },
    {
      "cell_type": "code",
      "metadata": {
        "colab": {
          "base_uri": "https://localhost:8080/"
        },
        "id": "dIAxhVFmY70v",
        "outputId": "0c0d2847-8b04-49c8-bb19-574f61b5b2cc"
      },
      "source": [
        "naive_bayes_classifier(x_train_ac, x_test_ac)"
      ],
      "execution_count": 82,
      "outputs": [
        {
          "output_type": "stream",
          "text": [
            "train time 3.579693555831909\n",
            "train accuracy:   0.319\n",
            "accuracy:   0.308\n",
            "               precision    recall  f1-score   support\n",
            "\n",
            "     politics       0.31      0.99      0.47       148\n",
            "          C&A       0.00      0.00      0.00        70\n",
            "      general       0.00      0.00      0.00         8\n",
            "    economics       0.00      0.00      0.00        61\n",
            "      culture       0.00      0.00      0.00         5\n",
            "          STE       0.50      0.04      0.07        28\n",
            "international       0.00      0.00      0.00        29\n",
            "  environment       0.00      0.00      0.00         5\n",
            "      weather       0.00      0.00      0.00         4\n",
            "       health       0.00      0.00      0.00        10\n",
            "     disaster       0.00      0.00      0.00         6\n",
            "entertainment       0.67      0.04      0.07        53\n",
            "  development       0.00      0.00      0.00         6\n",
            "       sports       0.00      0.00      0.00        43\n",
            "        royal       0.00      0.00      0.00         6\n",
            "        inter       0.00      0.00      0.00         1\n",
            "\n",
            "     accuracy                           0.31       483\n",
            "    macro avg       0.09      0.07      0.04       483\n",
            " weighted avg       0.20      0.31      0.16       483\n",
            "\n",
            "confusion matrix:\n",
            "[[146   0   0   1   0   0   0   0   0   0   0   1   0   0   0   0]\n",
            " [ 70   0   0   0   0   0   0   0   0   0   0   0   0   0   0   0]\n",
            " [  8   0   0   0   0   0   0   0   0   0   0   0   0   0   0   0]\n",
            " [ 61   0   0   0   0   0   0   0   0   0   0   0   0   0   0   0]\n",
            " [  5   0   0   0   0   0   0   0   0   0   0   0   0   0   0   0]\n",
            " [ 27   0   0   0   0   1   0   0   0   0   0   0   0   0   0   0]\n",
            " [ 29   0   0   0   0   0   0   0   0   0   0   0   0   0   0   0]\n",
            " [  5   0   0   0   0   0   0   0   0   0   0   0   0   0   0   0]\n",
            " [  4   0   0   0   0   0   0   0   0   0   0   0   0   0   0   0]\n",
            " [ 10   0   0   0   0   0   0   0   0   0   0   0   0   0   0   0]\n",
            " [  6   0   0   0   0   0   0   0   0   0   0   0   0   0   0   0]\n",
            " [ 50   0   0   1   0   0   0   0   0   0   0   2   0   0   0   0]\n",
            " [  6   0   0   0   0   0   0   0   0   0   0   0   0   0   0   0]\n",
            " [ 41   0   0   1   0   1   0   0   0   0   0   0   0   0   0   0]\n",
            " [  6   0   0   0   0   0   0   0   0   0   0   0   0   0   0   0]\n",
            " [  1   0   0   0   0   0   0   0   0   0   0   0   0   0   0   0]]\n",
            "test time 0.0005388259887695312\n"
          ],
          "name": "stdout"
        },
        {
          "output_type": "stream",
          "text": [
            "/usr/local/lib/python3.7/dist-packages/sklearn/metrics/_classification.py:1272: UndefinedMetricWarning: Precision and F-score are ill-defined and being set to 0.0 in labels with no predicted samples. Use `zero_division` parameter to control this behavior.\n",
            "  _warn_prf(average, modifier, msg_start, len(result))\n"
          ],
          "name": "stderr"
        }
      ]
    },
    {
      "cell_type": "markdown",
      "metadata": {
        "id": "Cn01fEf7Dv87"
      },
      "source": [
        "## BoW Dnn"
      ]
    },
    {
      "cell_type": "code",
      "metadata": {
        "id": "5_wttS3mEvO2"
      },
      "source": [
        "import numpy as np"
      ],
      "execution_count": 14,
      "outputs": []
    },
    {
      "cell_type": "code",
      "metadata": {
        "colab": {
          "base_uri": "https://localhost:8080/"
        },
        "id": "CMG_tMx8EEZW",
        "outputId": "1d950985-fe42-42ff-b50d-36a93af6b048"
      },
      "source": [
        "def doc2features(x, vocab):\r\n",
        "    feat = np.zeros(len(vocab))\r\n",
        "    for wi in x:\r\n",
        "        if wi in wordmm2idx:\r\n",
        "            feat[wordmm2idx[wi]] += 1\r\n",
        "    return feat\r\n",
        "print(sum(doc2features(x_train_mm[0], vocab_mm)))\r\n",
        "print(len(x_train_mm[0]))"
      ],
      "execution_count": 15,
      "outputs": [
        {
          "output_type": "stream",
          "text": [
            "1281.0\n",
            "1281\n"
          ],
          "name": "stdout"
        }
      ]
    },
    {
      "cell_type": "code",
      "metadata": {
        "id": "CAG4B6L_FqPE"
      },
      "source": [
        "import tensorflow as tf\r\n",
        "tf.config.list_physical_devices('GPU')\r\n",
        "from tensorflow.keras.backend import clear_session\r\n",
        "from tensorflow.keras.models import Sequential, Model\r\n",
        "from tensorflow.keras.layers import Embedding, Reshape, Activation, Input, Dense,GRU,Reshape,TimeDistributed,Bidirectional,Dropout,Masking, SimpleRNN, LeakyReLU, Flatten\r\n",
        "from tensorflow.keras.optimizers import Adam"
      ],
      "execution_count": 83,
      "outputs": []
    },
    {
      "cell_type": "code",
      "metadata": {
        "id": "JzeawBSlMF8a"
      },
      "source": [
        "def preparedata(xs,ys, vocab):\r\n",
        "    xs_res = [doc2features(x, vocab) for x in xs]\r\n",
        "    ys_res = [np.eye(len(genres))[y] for y in ys]\r\n",
        "    return xs_res, ys_res"
      ],
      "execution_count": 36,
      "outputs": []
    },
    {
      "cell_type": "code",
      "metadata": {
        "colab": {
          "base_uri": "https://localhost:8080/"
        },
        "id": "iM1buC1OF5p1",
        "outputId": "c516a4ca-ddef-46c5-8fdf-c42e8aa0685e"
      },
      "source": [
        "from time import time\r\n",
        "tf.keras.backend.clear_session()\r\n",
        "\r\n",
        "def getBOWDNN(vocab):\r\n",
        "    len_feat = len(vocab)\r\n",
        "    inputs = Input(shape=(len_feat,), dtype='int32')\r\n",
        "    # x = Dense(128, activation=lambda x : tf.nn.leaky_relu(x, alpha=0.01))(inputs)\r\n",
        "    x = Dense(256, activation='sigmoid')(inputs)\r\n",
        "\r\n",
        "    x = Dropout(0.2)(x)   \r\n",
        "    x = Dense(128, activation='sigmoid')(x)\r\n",
        "    x = Dropout(0.2)(x)  \r\n",
        "    # x = Dense(64,activation=lambda x : tf.nn.leaky_relu(x, alpha=0.01))(x)\r\n",
        "    x = Dense(64, activation='sigmoid')(x)\r\n",
        "    x = Dropout(0.2)(x) \r\n",
        "    out = Dense(len(genres), activation='softmax')(x)\r\n",
        "\r\n",
        "    model = Model(inputs, out)\r\n",
        "    model.compile(optimizer=Adam(lr=0.001), loss='categorical_crossentropy', metrics=['categorical_accuracy'])\r\n",
        "    return model\r\n",
        "\r\n",
        "xs_train, ys_train = preparedata(x_train_mm, y_train, vocab_mm)\r\n",
        "\r\n",
        "xs_train = np.array(xs_train)\r\n",
        "ys_train = np.array(ys_train)\r\n",
        "\r\n",
        "\r\n",
        "model = getBOWDNN(vocab_mm)\r\n",
        "model.summary()\r\n",
        "t0 = time()\r\n",
        "model.fit(xs_train,y=ys_train, batch_size=16, epochs=9, verbose=1)\r\n",
        "t1 = time()\r\n",
        "print('train time', t1-t0)"
      ],
      "execution_count": 77,
      "outputs": [
        {
          "output_type": "stream",
          "text": [
            "Model: \"model\"\n",
            "_________________________________________________________________\n",
            "Layer (type)                 Output Shape              Param #   \n",
            "=================================================================\n",
            "input_1 (InputLayer)         [(None, 35826)]           0         \n",
            "_________________________________________________________________\n",
            "dense (Dense)                (None, 256)               9171712   \n",
            "_________________________________________________________________\n",
            "dropout (Dropout)            (None, 256)               0         \n",
            "_________________________________________________________________\n",
            "dense_1 (Dense)              (None, 128)               32896     \n",
            "_________________________________________________________________\n",
            "dropout_1 (Dropout)          (None, 128)               0         \n",
            "_________________________________________________________________\n",
            "dense_2 (Dense)              (None, 64)                8256      \n",
            "_________________________________________________________________\n",
            "dropout_2 (Dropout)          (None, 64)                0         \n",
            "_________________________________________________________________\n",
            "dense_3 (Dense)              (None, 16)                1040      \n",
            "=================================================================\n",
            "Total params: 9,213,904\n",
            "Trainable params: 9,213,904\n",
            "Non-trainable params: 0\n",
            "_________________________________________________________________\n",
            "Epoch 1/9\n",
            "238/238 [==============================] - 2s 5ms/step - loss: 1.9957 - categorical_accuracy: 0.4075\n",
            "Epoch 2/9\n",
            "238/238 [==============================] - 1s 5ms/step - loss: 0.8180 - categorical_accuracy: 0.8265\n",
            "Epoch 3/9\n",
            "238/238 [==============================] - 1s 5ms/step - loss: 0.4260 - categorical_accuracy: 0.8955\n",
            "Epoch 4/9\n",
            "238/238 [==============================] - 1s 4ms/step - loss: 0.2692 - categorical_accuracy: 0.9376\n",
            "Epoch 5/9\n",
            "238/238 [==============================] - 1s 4ms/step - loss: 0.1739 - categorical_accuracy: 0.9622\n",
            "Epoch 6/9\n",
            "238/238 [==============================] - 1s 4ms/step - loss: 0.1233 - categorical_accuracy: 0.9819\n",
            "Epoch 7/9\n",
            "238/238 [==============================] - 1s 4ms/step - loss: 0.0808 - categorical_accuracy: 0.9934\n",
            "Epoch 8/9\n",
            "238/238 [==============================] - 1s 5ms/step - loss: 0.0641 - categorical_accuracy: 0.9921\n",
            "Epoch 9/9\n",
            "238/238 [==============================] - 1s 5ms/step - loss: 0.0475 - categorical_accuracy: 0.9947\n",
            "train time 10.491442203521729\n"
          ],
          "name": "stdout"
        }
      ]
    },
    {
      "cell_type": "code",
      "metadata": {
        "colab": {
          "base_uri": "https://localhost:8080/"
        },
        "id": "vN3MZ7kgMiXi",
        "outputId": "db4a207a-2484-49ca-f403-7435c1582e27"
      },
      "source": [
        "from sklearn import metrics\r\n",
        "xs_test, ys_test = preparedata(x_test_mm, y_test, vocab_mm)\r\n",
        "t0 = time()\r\n",
        "y_pred = model.predict(np.array(xs_test))\r\n",
        "t1 = time()\r\n",
        "print('test time', t1-t0)\r\n",
        "y_pred = y_pred.argmax(axis=1)\r\n",
        "print(metrics.classification_report(y_test, y_pred, target_names=genres))"
      ],
      "execution_count": 79,
      "outputs": [
        {
          "output_type": "stream",
          "text": [
            "test time 0.13697361946105957\n",
            "               precision    recall  f1-score   support\n",
            "\n",
            "     politics       0.80      0.97      0.88       148\n",
            "          C&A       0.92      0.93      0.92        70\n",
            "      general       0.00      0.00      0.00         8\n",
            "    economics       0.69      0.57      0.62        61\n",
            "      culture       1.00      0.20      0.33         5\n",
            "          STE       0.59      0.71      0.65        28\n",
            "international       0.83      0.83      0.83        29\n",
            "  environment       0.80      0.80      0.80         5\n",
            "      weather       1.00      0.25      0.40         4\n",
            "       health       0.40      0.40      0.40        10\n",
            "     disaster       1.00      0.17      0.29         6\n",
            "entertainment       0.92      0.91      0.91        53\n",
            "  development       0.25      0.17      0.20         6\n",
            "       sports       0.95      0.91      0.93        43\n",
            "        royal       1.00      0.50      0.67         6\n",
            "        inter       0.00      0.00      0.00         1\n",
            "\n",
            "     accuracy                           0.81       483\n",
            "    macro avg       0.70      0.52      0.55       483\n",
            " weighted avg       0.80      0.81      0.79       483\n",
            "\n"
          ],
          "name": "stdout"
        },
        {
          "output_type": "stream",
          "text": [
            "/usr/local/lib/python3.7/dist-packages/sklearn/metrics/_classification.py:1272: UndefinedMetricWarning: Precision and F-score are ill-defined and being set to 0.0 in labels with no predicted samples. Use `zero_division` parameter to control this behavior.\n",
            "  _warn_prf(average, modifier, msg_start, len(result))\n"
          ],
          "name": "stderr"
        }
      ]
    },
    {
      "cell_type": "code",
      "metadata": {
        "colab": {
          "base_uri": "https://localhost:8080/"
        },
        "id": "oRH9qZGBixhs",
        "outputId": "d9c32f6b-a775-48bd-cd52-4eb0793aa753"
      },
      "source": [
        "from time import time\r\n",
        "tf.keras.backend.clear_session()\r\n",
        "\r\n",
        "def getBOWDNN(vocab):\r\n",
        "    len_feat = len(vocab)\r\n",
        "    inputs = Input(shape=(len_feat,), dtype='int32')\r\n",
        "    # x = Dense(128, activation=lambda x : tf.nn.leaky_relu(x, alpha=0.01))(inputs)\r\n",
        "    x = Dense(256, activation='sigmoid')(inputs)\r\n",
        "\r\n",
        "    x = Dropout(0.2)(x)   \r\n",
        "    x = Dense(128, activation='sigmoid')(x)\r\n",
        "    x = Dropout(0.2)(x)  \r\n",
        "    # x = Dense(64,activation=lambda x : tf.nn.leaky_relu(x, alpha=0.01))(x)\r\n",
        "    x = Dense(64, activation='sigmoid')(x)\r\n",
        "    x = Dropout(0.2)(x) \r\n",
        "    out = Dense(len(genres), activation='softmax')(x)\r\n",
        "\r\n",
        "    model = Model(inputs, out)\r\n",
        "    model.compile(optimizer=Adam(lr=0.001), loss='categorical_crossentropy', metrics=['categorical_accuracy'])\r\n",
        "    return model\r\n",
        "\r\n",
        "xs_train, ys_train = preparedata(x_train_ac, y_train, vocab_ac)\r\n",
        "\r\n",
        "xs_train = np.array(xs_train)\r\n",
        "ys_train = np.array(ys_train)\r\n",
        "\r\n",
        "\r\n",
        "model = getBOWDNN(vocab_ac)\r\n",
        "model.summary()\r\n",
        "t0 = time()\r\n",
        "model.fit(xs_train,y=ys_train, batch_size=16, epochs=9, verbose=1)\r\n",
        "t1 = time()\r\n",
        "print('train time', t1-t0)\r\n",
        "\r\n",
        "from sklearn import metrics\r\n",
        "xs_test, ys_test = preparedata(x_test_ac, y_test, vocab_ac)\r\n",
        "t0 = time()\r\n",
        "y_pred = model.predict(np.array(xs_test))\r\n",
        "t1 = time()\r\n",
        "print('test time', t1-t0)\r\n",
        "y_pred = y_pred.argmax(axis=1)\r\n",
        "print(metrics.classification_report(y_test, y_pred, target_names=genres))"
      ],
      "execution_count": 85,
      "outputs": [
        {
          "output_type": "stream",
          "text": [
            "Model: \"model\"\n",
            "_________________________________________________________________\n",
            "Layer (type)                 Output Shape              Param #   \n",
            "=================================================================\n",
            "input_1 (InputLayer)         [(None, 64796)]           0         \n",
            "_________________________________________________________________\n",
            "dense (Dense)                (None, 256)               16588032  \n",
            "_________________________________________________________________\n",
            "dropout (Dropout)            (None, 256)               0         \n",
            "_________________________________________________________________\n",
            "dense_1 (Dense)              (None, 128)               32896     \n",
            "_________________________________________________________________\n",
            "dropout_1 (Dropout)          (None, 128)               0         \n",
            "_________________________________________________________________\n",
            "dense_2 (Dense)              (None, 64)                8256      \n",
            "_________________________________________________________________\n",
            "dropout_2 (Dropout)          (None, 64)                0         \n",
            "_________________________________________________________________\n",
            "dense_3 (Dense)              (None, 16)                1040      \n",
            "=================================================================\n",
            "Total params: 16,630,224\n",
            "Trainable params: 16,630,224\n",
            "Non-trainable params: 0\n",
            "_________________________________________________________________\n",
            "Epoch 1/9\n",
            "238/238 [==============================] - 2s 7ms/step - loss: 2.1351 - categorical_accuracy: 0.3586\n",
            "Epoch 2/9\n",
            "238/238 [==============================] - 2s 7ms/step - loss: 0.9423 - categorical_accuracy: 0.7640\n",
            "Epoch 3/9\n",
            "238/238 [==============================] - 2s 7ms/step - loss: 0.5757 - categorical_accuracy: 0.8487\n",
            "Epoch 4/9\n",
            "238/238 [==============================] - 2s 7ms/step - loss: 0.4263 - categorical_accuracy: 0.9053\n",
            "Epoch 5/9\n",
            "238/238 [==============================] - 2s 7ms/step - loss: 0.3167 - categorical_accuracy: 0.9263\n",
            "Epoch 6/9\n",
            "238/238 [==============================] - 2s 7ms/step - loss: 0.2284 - categorical_accuracy: 0.9457\n",
            "Epoch 7/9\n",
            "238/238 [==============================] - 2s 7ms/step - loss: 0.1691 - categorical_accuracy: 0.9628\n",
            "Epoch 8/9\n",
            "238/238 [==============================] - 2s 7ms/step - loss: 0.1406 - categorical_accuracy: 0.9678\n",
            "Epoch 9/9\n",
            "238/238 [==============================] - 2s 7ms/step - loss: 0.1179 - categorical_accuracy: 0.9767\n",
            "train time 16.38566780090332\n",
            "test time 0.28909730911254883\n",
            "               precision    recall  f1-score   support\n",
            "\n",
            "     politics       0.76      0.98      0.86       148\n",
            "          C&A       0.91      0.83      0.87        70\n",
            "      general       0.00      0.00      0.00         8\n",
            "    economics       0.58      0.69      0.63        61\n",
            "      culture       1.00      0.20      0.33         5\n",
            "          STE       0.57      0.46      0.51        28\n",
            "international       1.00      0.59      0.74        29\n",
            "  environment       0.00      0.00      0.00         5\n",
            "      weather       1.00      0.25      0.40         4\n",
            "       health       0.45      0.50      0.48        10\n",
            "     disaster       0.33      0.17      0.22         6\n",
            "entertainment       0.92      0.85      0.88        53\n",
            "  development       0.40      0.33      0.36         6\n",
            "       sports       0.95      0.91      0.93        43\n",
            "        royal       0.00      0.00      0.00         6\n",
            "        inter       0.00      0.00      0.00         1\n",
            "\n",
            "     accuracy                           0.76       483\n",
            "    macro avg       0.55      0.42      0.45       483\n",
            " weighted avg       0.75      0.76      0.74       483\n",
            "\n"
          ],
          "name": "stdout"
        },
        {
          "output_type": "stream",
          "text": [
            "/usr/local/lib/python3.7/dist-packages/sklearn/metrics/_classification.py:1272: UndefinedMetricWarning: Precision and F-score are ill-defined and being set to 0.0 in labels with no predicted samples. Use `zero_division` parameter to control this behavior.\n",
            "  _warn_prf(average, modifier, msg_start, len(result))\n"
          ],
          "name": "stderr"
        }
      ]
    },
    {
      "cell_type": "code",
      "metadata": {
        "colab": {
          "base_uri": "https://localhost:8080/",
          "height": 758
        },
        "id": "Wiboe5wOi_J8",
        "outputId": "88796e4d-bfeb-43c7-f248-fe88e60f3e5a"
      },
      "source": [
        "from tensorflow.keras.utils import plot_model\r\n",
        "plot_model(model)"
      ],
      "execution_count": 86,
      "outputs": [
        {
          "output_type": "execute_result",
          "data": {
            "image/png": "[encoded data removed]",
            "text/plain": [
              "<IPython.core.display.Image object>"
            ]
          },
          "metadata": {
            "tags": []
          },
          "execution_count": 86
        }
      ]
    }
  ]
}