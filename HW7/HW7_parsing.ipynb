{
  "nbformat": 4,
  "nbformat_minor": 0,
  "metadata": {
    "colab": {
      "name": "HW7-parsing.ipynb",
      "provenance": [],
      "collapsed_sections": [],
      "toc_visible": true
    },
    "kernelspec": {
      "display_name": "Python 3",
      "language": "python",
      "name": "python3"
    },
    "language_info": {
      "codemirror_mode": {
        "name": "ipython",
        "version": 3
      },
      "file_extension": ".py",
      "mimetype": "text/x-python",
      "name": "python",
      "nbconvert_exporter": "python",
      "pygments_lexer": "ipython3",
      "version": "3.7.3"
    }
  },
  "cells": [
    {
      "cell_type": "markdown",
      "metadata": {
        "id": "eB0lBzkJy_l6"
      },
      "source": [
        "# HW7: Neural Transition-Based Dependency Parsing\n"
      ]
    },
    {
      "cell_type": "markdown",
      "metadata": {
        "id": "hwbJPnBmy_l-"
      },
      "source": [
        "In this exercise, you are going to build a deep learning model for Neural Networks Transition-Based Dependency Parsing. A dependency parser analyzes the grammatical structure of a sentence, establishing relationships between “head” words and words which modify those heads. Your implementation will be a transition-based parser, which incrementally builds up a parse one step at a time."
      ]
    },
    {
      "cell_type": "markdown",
      "metadata": {
        "id": "iTop7w0Wy_mT"
      },
      "source": [
        "To complete this exercise, you will need to complete the code and build a deep learning model for dependency parsing. We will evaluate the model on the subset of Penn Treebank (annotated with Universal Dependencies). \n",
        "\n",
        "We provide the code for data preparation and the skeleton for PartialParse class. You do not need to understand the code outside of this notebook. \n",
        "\n",
        "This homework and the starter codes are adopt from Stanford University class CS224n."
      ]
    },
    {
      "cell_type": "markdown",
      "metadata": {
        "id": "3RJMmaCSy_mV"
      },
      "source": [
        "This homework does not require you to use Google Colab or Google Cloud as the model is quite small (but you can still use it if you want)"
      ]
    },
    {
      "cell_type": "markdown",
      "metadata": {
        "id": "lzF49xKny_mX"
      },
      "source": [
        "## 1. Transition-Based Dependency Parsing"
      ]
    },
    {
      "cell_type": "markdown",
      "metadata": {
        "id": "PwH68mjMy_mY"
      },
      "source": [
        "Your implementation will be a transition-based parser, which incrementally builds\n",
        "up a parse one step at a time. At every step it maintains a partial parse, which is represented as follows:\n",
        "- A stack of words that are currently being processed.\n",
        "- A buffer of words yet to be processed.\n",
        "- A list of dependencies predicted by the parser.\n",
        "\n",
        "Initially, the stack only contains ROOT, the dependencies lists is empty, and the buffer contains all words\n",
        "of the sentence in order. At each step, the parse applies a transition to the partial parse until its buffer is\n",
        "empty and the stack is size 1. The following transitions can be applied:\n",
        "- SHIFT: removes the first word from the buffer and pushes it onto the stack.\n",
        "- LEFT-ARC: marks the second (second most recently added) item on the stack as a dependent of the\n",
        "first item and removes the second item from the stack.\n",
        "- RIGHT-ARC: marks the first (most recently added) item on the stack as a dependent of the second\n",
        "item and removes the first item from the stack.\n",
        "\n",
        "Your parser will decide among transitions at each state using a neural network classifier."
      ]
    },
    {
      "cell_type": "markdown",
      "metadata": {
        "id": "Ab3kn2OVy_mb"
      },
      "source": [
        "### TODO 1 (Written):\n",
        "Go through the sequence of transitions needed for parsing the sentence “I parsed\n",
        "this sentence correctly”. The dependency tree for the sentence is shown below. At each step, give the\n",
        "configuration of the stack and buffer, as well as what transition was applied this step and what new\n",
        "dependency was added (if any). The first three steps are provided below as an example."
      ]
    },
    {
      "cell_type": "markdown",
      "metadata": {
        "id": "aTkSbSf6y_ma"
      },
      "source": [
        "<img src=\"https://github.com/ekapolc/NLP_2020/blob/master/HW7/images/img1.jpg?raw=true\">"
      ]
    },
    {
      "cell_type": "markdown",
      "metadata": {
        "id": "OPmRQbXky_mc"
      },
      "source": [
        "Complete the following table (double click the table and fill in the rest):\n",
        "\n",
        "| stack    |  buffer |  new dependency | transition |\n",
        "| :------: |:------: | :-------------: | :--------: |\n",
        "| \\[ROOT\\]            | \\[I, parsed, this, sentence, correctly\\] |          | Initial Configuration |\n",
        "| \\[ROOT, I\\]         | \\[parsed, this, sentence, correctly\\]    |          | SHIFT |\n",
        "| \\[ROOT, I, parsed\\] | \\[this, sentence, correctly\\]            |          | SHIFT |\n",
        "| \\[ROOT, parsed\\]    | \\[this, sentence, correctly\\]            | parsed→I | LEFT-ARC |\n",
        "|\\[ROOT,parsed,this\\]|\\[sentence,correctly\\]|          | SHIFT |\n",
        "|\\[ROOT,parsed,this,sentence\\]|\\[correctly\\]| | SHIFT |\n",
        "|\\[ROOT,parsed,sentence\\]| \\[correctly\\]|sentence→this| LEFT-ARC |\n",
        "|\\[ROOT,parsed\\] |\\[correctly\\] |parsed→sentence| RIGHT-ARC |\n",
        "|\\[ROOT,parsed,correctly\\] |\\[\\] || SHIFT |\n",
        "|\\[ROOT,parsed\\] |\\[\\] |parsed→correctly| RIGHT-ARC |\n",
        "|\\[ROOT\\] |\\[\\] |ROOT→parsed| RIGHT-ARC |"
      ]
    },
    {
      "cell_type": "markdown",
      "metadata": {
        "id": "-h6PmOd6y_me"
      },
      "source": [
        "### TODO 2 (Coding):\n",
        "Implement the __\\_\\_init\\_\\___ and __parse_step__ functions in the PartialParse class. Your code must past both of the following tests."
      ]
    },
    {
      "cell_type": "code",
      "metadata": {
        "id": "WXhOjsN_y_mf"
      },
      "source": [
        "class PartialParse(object):\n",
        "    def __init__(self, sentence):\n",
        "        \"\"\"Initializes this partial parse.\n",
        "\n",
        "        Your code should initialize the following fields:\n",
        "            self.stack: The current stack represented as a list with the top of the stack as the\n",
        "                        last element of the list.\n",
        "            self.buffer: The current buffer represented as a list with the first item on the\n",
        "                         buffer as the first item of the list\n",
        "            self.dependencies: The list of dependencies produced so far. Represented as a list of\n",
        "                    tuples where each tuple is of the form (head, dependent).\n",
        "                    Order for this list doesn't matter.\n",
        "\n",
        "        The root token should be represented with the string \"ROOT\"\n",
        "\n",
        "        Args:\n",
        "            sentence: The sentence to be parsed as a list of words.\n",
        "                      Your code should not modify the sentence.\n",
        "        \"\"\"\n",
        "        # The sentence being parsed is kept for bookkeeping purposes. Do not use it in your code.\n",
        "        self.sentence = sentence\n",
        "\n",
        "        ### YOUR CODE HERE\n",
        "        self.stack = [\"ROOT\"]\n",
        "        self.buffer = list(self.sentence)\n",
        "        self.dependencies = []\n",
        "        ### END YOUR CODE\n",
        "\n",
        "    def parse_step(self, transition):\n",
        "        \"\"\"Performs a single parse step by applying the given transition to this partial parse\n",
        "\n",
        "        Args:\n",
        "            transition: A string that equals \"S\", \"LA\", or \"RA\" representing the shift, left-arc,\n",
        "                        and right-arc transitions. You can assume the provided transition is a legal\n",
        "                        transition.\n",
        "        \"\"\"\n",
        "        ### YOUR CODE HERE\n",
        "        if transition == 'S':\n",
        "            self.stack.append(self.buffer.pop(0))\n",
        "        elif transition == 'LA':\n",
        "            dependent = self.stack.pop(-2)\n",
        "            head = self.stack[-1]\n",
        "            self.dependencies.append((head,dependent))\n",
        "        elif transition == 'RA':\n",
        "            dependent = self.stack.pop(-1)\n",
        "            head = self.stack[-1]\n",
        "            self.dependencies.append((head,dependent))\n",
        "\n",
        "        ### END YOUR CODE\n",
        "\n",
        "    def parse(self, transitions):\n",
        "        \"\"\"Applies the provided transitions to this PartialParse\n",
        "\n",
        "        Args:\n",
        "            transitions: The list of transitions in the order they should be applied\n",
        "        Returns:\n",
        "            dependencies: The list of dependencies produced when parsing the sentence. Represented\n",
        "                          as a list of tuples where each tuple is of the form (head, dependent)\n",
        "        \"\"\"\n",
        "        for transition in transitions:\n",
        "            self.parse_step(transition)\n",
        "        return self.dependencies"
      ],
      "execution_count": 8,
      "outputs": []
    },
    {
      "cell_type": "code",
      "metadata": {
        "id": "_kF_8ESPy_mk"
      },
      "source": [
        "# Do not modify this code\n",
        "def test_step(name, transition, stack, buf, deps,\n",
        "              ex_stack, ex_buf, ex_deps):\n",
        "    \"\"\"Tests that a single parse step returns the expected output\"\"\"\n",
        "    pp = PartialParse([])\n",
        "    pp.stack, pp.buffer, pp.dependencies = stack, buf, deps\n",
        "\n",
        "    pp.parse_step(transition)\n",
        "    stack, buf, deps = (tuple(pp.stack), tuple(pp.buffer), tuple(sorted(pp.dependencies)))\n",
        "    assert stack == ex_stack, \\\n",
        "        \"{:} test resulted in stack {:}, expected {:}\".format(name, stack, ex_stack)\n",
        "    assert buf == ex_buf, \\\n",
        "        \"{:} test resulted in buffer {:}, expected {:}\".format(name, buf, ex_buf)\n",
        "    assert deps == ex_deps, \\\n",
        "        \"{:} test resulted in dependency list {:}, expected {:}\".format(name, deps, ex_deps)\n",
        "    print(\"{:} test passed!\".format(name))\n",
        "\n",
        "\n",
        "def test_parse_step():\n",
        "    \"\"\"Simple tests for the PartialParse.parse_step function\n",
        "    Warning: these are not exhaustive\n",
        "    \"\"\"\n",
        "    test_step(\"SHIFT\", \"S\", [\"ROOT\", \"the\"], [\"cat\", \"sat\"], [],\n",
        "              (\"ROOT\", \"the\", \"cat\"), (\"sat\",), ())\n",
        "    test_step(\"LEFT-ARC\", \"LA\", [\"ROOT\", \"the\", \"cat\"], [\"sat\"], [],\n",
        "              (\"ROOT\", \"cat\",), (\"sat\",), ((\"cat\", \"the\"),))\n",
        "    test_step(\"RIGHT-ARC\", \"RA\", [\"ROOT\", \"run\", \"fast\"], [], [],\n",
        "              (\"ROOT\", \"run\",), (), ((\"run\", \"fast\"),))\n",
        "\n",
        "\n",
        "def test_parse():\n",
        "    \"\"\"Simple tests for the PartialParse.parse function\n",
        "    Warning: these are not exhaustive\n",
        "    \"\"\"\n",
        "    sentence = [\"parse\", \"this\", \"sentence\"]\n",
        "    dependencies = PartialParse(sentence).parse([\"S\", \"S\", \"S\", \"LA\", \"RA\", \"RA\"])\n",
        "    dependencies = tuple(sorted(dependencies))\n",
        "    expected = (('ROOT', 'parse'), ('parse', 'sentence'), ('sentence', 'this'))\n",
        "    assert dependencies == expected,  \\\n",
        "        \"parse test resulted in dependencies {:}, expected {:}\".format(dependencies, expected)\n",
        "    assert tuple(sentence) == (\"parse\", \"this\", \"sentence\"), \\\n",
        "        \"parse test failed: the input sentence should not be modified\"\n",
        "    print(\"parse test passed!\")"
      ],
      "execution_count": 9,
      "outputs": []
    },
    {
      "cell_type": "code",
      "metadata": {
        "colab": {
          "base_uri": "https://localhost:8080/"
        },
        "id": "MwNZjFgey_mn",
        "outputId": "f0620ca0-c46f-43e7-cde1-f9a884f2cc5a"
      },
      "source": [
        "test_parse_step()\n",
        "test_parse()"
      ],
      "execution_count": 10,
      "outputs": [
        {
          "output_type": "stream",
          "text": [
            "SHIFT test passed!\n",
            "LEFT-ARC test passed!\n",
            "RIGHT-ARC test passed!\n",
            "parse test passed!\n"
          ],
          "name": "stdout"
        }
      ]
    },
    {
      "cell_type": "markdown",
      "metadata": {
        "id": "0lx3xP_Zy_mr"
      },
      "source": [
        "### TODO 3 (Coding):\n",
        "Our network will predict which transition should be applied next to a partial parse. We could use it to parse a single sentence by applying predicted transitions until the parse is complete. However, neural networks run much more efficiently when making predictions about batches of data at a time (i.e., predicting the next transition for a many different partial parses simultaneously). We can parse sentences in minibatches with the following algorithm."
      ]
    },
    {
      "cell_type": "markdown",
      "metadata": {
        "id": "4oTyD-Dcy_ms"
      },
      "source": [
        "<img src=\"https://github.com/ekapolc/NLP_2020/blob/master/HW7/images/img2.jpg?raw=true\">"
      ]
    },
    {
      "cell_type": "markdown",
      "metadata": {
        "id": "BhRpDDXay_mt"
      },
      "source": [
        "Implement this algorithm in the minibatch parse function and run the following test."
      ]
    },
    {
      "cell_type": "code",
      "metadata": {
        "id": "gio_qpS5y_mu"
      },
      "source": [
        "def minibatch_parse(sentences, model, batch_size):\n",
        "    \"\"\"Parses a list of sentences in minibatches using a model.\n",
        "\n",
        "    Args:\n",
        "        sentences: A list of sentences to be parsed (each sentence is a list of words)\n",
        "        model: The model that makes parsing decisions. It is assumed to have a function\n",
        "               model.predict(partial_parses) that takes in a list of PartialParses as input and\n",
        "               returns a list of transitions predicted for each parse. That is, after calling\n",
        "                   transitions = model.predict(partial_parses)\n",
        "               transitions[i] will be the next transition to apply to partial_parses[i].\n",
        "        batch_size: The number of PartialParses to include in each minibatch\n",
        "    Returns:\n",
        "        dependencies: A list where each element is the dependencies list for a parsed sentence.\n",
        "                      Ordering should be the same as in sentences (i.e., dependencies[i] should\n",
        "                      contain the parse for sentences[i]).\n",
        "    \"\"\"\n",
        "\n",
        "    ### YOUR CODE HERE\n",
        "    partial_parses = [PartialParse(sent) for sent in sentences]\n",
        "    unfinished_parses = list(partial_parses)\n",
        "    while unfinished_parses:\n",
        "        take = unfinished_parses[:batch_size]\n",
        "        transitions = model.predict(take)\n",
        "        for i,pp in enumerate(take):\n",
        "            pp.parse_step(transitions[i])\n",
        "        for pp in take:\n",
        "            if len(pp.buffer) == 0 and len(pp.stack) == 1:\n",
        "                unfinished_parses.pop(unfinished_parses.index(pp))\n",
        "    dependencies = list([list(pp.dependencies) for pp in partial_parses])\n",
        "    ### END YOUR CODE\n",
        "    return dependencies"
      ],
      "execution_count": 46,
      "outputs": []
    },
    {
      "cell_type": "code",
      "metadata": {
        "id": "lXNoWwaWy_mx"
      },
      "source": [
        "# Do not modify this code\n",
        "class DummyModel(object):\n",
        "    \"\"\"Dummy model for testing the minibatch_parse function\n",
        "    First shifts everything onto the stack and then does exclusively right arcs if the first word of\n",
        "    the sentence is \"right\", \"left\" if otherwise.\n",
        "    \"\"\"\n",
        "    def predict(self, partial_parses):\n",
        "        return [(\"RA\" if pp.stack[1] is \"right\" else \"LA\") if len(pp.buffer) == 0 else \"S\"\n",
        "                for pp in partial_parses]\n",
        "\n",
        "\n",
        "def test_dependencies(name, deps, ex_deps):\n",
        "    \"\"\"Tests the provided dependencies match the expected dependencies\"\"\"\n",
        "    deps = tuple(sorted(deps))\n",
        "    assert deps == ex_deps, \\\n",
        "        \"{:} test resulted in dependency list {:}, expected {:}\".format(name, deps, ex_deps)\n",
        "\n",
        "\n",
        "def test_minibatch_parse():\n",
        "    \"\"\"Simple tests for the minibatch_parse function\n",
        "    Warning: these are not exhaustive\n",
        "    \"\"\"\n",
        "    sentences = [[\"right\", \"arcs\", \"only\"],\n",
        "                 [\"right\", \"arcs\", \"only\", \"again\"],\n",
        "                 [\"left\", \"arcs\", \"only\"],\n",
        "                 [\"left\", \"arcs\", \"only\", \"again\"]]\n",
        "    deps = minibatch_parse(sentences, DummyModel(), 2)\n",
        "    test_dependencies(\"minibatch_parse\", deps[0],\n",
        "                      (('ROOT', 'right'), ('arcs', 'only'), ('right', 'arcs')))\n",
        "    test_dependencies(\"minibatch_parse\", deps[1],\n",
        "                      (('ROOT', 'right'), ('arcs', 'only'), ('only', 'again'), ('right', 'arcs')))\n",
        "    test_dependencies(\"minibatch_parse\", deps[2],\n",
        "                      (('only', 'ROOT'), ('only', 'arcs'), ('only', 'left')))\n",
        "    test_dependencies(\"minibatch_parse\", deps[3],\n",
        "                      (('again', 'ROOT'), ('again', 'arcs'), ('again', 'left'), ('again', 'only')))\n",
        "    print(\"minibatch_parse test passed!\")"
      ],
      "execution_count": 47,
      "outputs": []
    },
    {
      "cell_type": "code",
      "metadata": {
        "colab": {
          "base_uri": "https://localhost:8080/"
        },
        "id": "V-13VeiKy_m1",
        "outputId": "e31f40cb-1767-46e2-922b-76c2b9c07fcc"
      },
      "source": [
        "\r\n",
        "test_minibatch_parse()"
      ],
      "execution_count": 48,
      "outputs": [
        {
          "output_type": "stream",
          "text": [
            "minibatch_parse test passed!\n"
          ],
          "name": "stdout"
        }
      ]
    },
    {
      "cell_type": "markdown",
      "metadata": {
        "id": "EL5kIWKXy_m4"
      },
      "source": [
        "## 2. Setup and Preprocessing"
      ]
    },
    {
      "cell_type": "code",
      "metadata": {
        "id": "--8naWsUKPM0"
      },
      "source": [
        "!wget --no-check-certificate https://raw.githubusercontent.com/ekapolc/nlp_2020/master/HW7/HW7.zip\r\n",
        "!unzip HW7.zip"
      ],
      "execution_count": null,
      "outputs": []
    },
    {
      "cell_type": "code",
      "metadata": {
        "id": "zemNby1uy_m5"
      },
      "source": [
        "from utils.parser_utils import minibatches, load_and_preprocess_data"
      ],
      "execution_count": 53,
      "outputs": []
    },
    {
      "cell_type": "markdown",
      "metadata": {
        "id": "RksEEdJvy_m8"
      },
      "source": [
        "Preparing data. We will use a subset of Penn Treebank and pretrained embeddings in this task"
      ]
    },
    {
      "cell_type": "markdown",
      "metadata": {
        "id": "5XNgGpMUy_m9"
      },
      "source": [
        "We are now going to train a neural network to predict, given the state of the stack, buffer, and dependencies, which transition should be applied next. First, the model extracts a feature vector representing the current state. We will be using the feature set presented in the original neural dependency parsing paper: A Fast and Accurate Dependency Parser using Neural Networks. \n",
        "\n",
        "The function extracting these features has been implemented for you in parser_utils. This feature vector consists of a list of tokens (e.g., the last word in the stack, first word in the buffer, dependent of the second-to-last word in the stack if there is one, etc.). They can be represented as a list of integers."
      ]
    },
    {
      "cell_type": "code",
      "metadata": {
        "colab": {
          "base_uri": "https://localhost:8080/"
        },
        "id": "JhqbGTYpy_m-",
        "outputId": "2ebf9039-1394-404e-e97b-7b8c2ce570e6"
      },
      "source": [
        "parser, embeddings, train_examples, dev_set, test_set = load_and_preprocess_data(True)"
      ],
      "execution_count": 54,
      "outputs": [
        {
          "output_type": "stream",
          "text": [
            "Loading data...\n",
            "took 2.12 seconds\n",
            "Building parser...\n",
            "took 0.03 seconds\n",
            "Loading pretrained embeddings...\n",
            "took 2.25 seconds\n",
            "Vectorizing data...\n",
            "took 0.06 seconds\n",
            "Preprocessing training data...\n",
            "took 1.36 seconds\n"
          ],
          "name": "stdout"
        }
      ]
    },
    {
      "cell_type": "code",
      "metadata": {
        "colab": {
          "base_uri": "https://localhost:8080/"
        },
        "id": "D-VYL2rKy_nB",
        "outputId": "f2519bba-57ca-46ce-adeb-ebec382cf4d8"
      },
      "source": [
        "print(len(train_examples), len(dev_set), len(test_set))"
      ],
      "execution_count": 55,
      "outputs": [
        {
          "output_type": "stream",
          "text": [
            "48390 500 500\n"
          ],
          "name": "stdout"
        }
      ]
    },
    {
      "cell_type": "code",
      "metadata": {
        "colab": {
          "base_uri": "https://localhost:8080/"
        },
        "id": "FubWDIsNy_nE",
        "outputId": "a78434c0-ad72-42ab-9fff-3709025f06a1"
      },
      "source": [
        "print(embeddings.shape)"
      ],
      "execution_count": 56,
      "outputs": [
        {
          "output_type": "stream",
          "text": [
            "(5157, 50)\n"
          ],
          "name": "stdout"
        }
      ]
    },
    {
      "cell_type": "markdown",
      "metadata": {
        "id": "ZBD3A4yVy_nI"
      },
      "source": [
        "Get the full batch of our subset data"
      ]
    },
    {
      "cell_type": "code",
      "metadata": {
        "id": "8vNwux9by_nJ"
      },
      "source": [
        "minibatch_gen = minibatches(train_examples, len(train_examples))\n",
        "x_train, y_train = minibatch_gen.__next__()"
      ],
      "execution_count": 57,
      "outputs": []
    },
    {
      "cell_type": "code",
      "metadata": {
        "colab": {
          "base_uri": "https://localhost:8080/"
        },
        "id": "i__8jliGy_nM",
        "outputId": "99f8d031-1631-4469-9a12-219d5564a021"
      },
      "source": [
        "print(x_train.shape)\n",
        "print(y_train.shape)"
      ],
      "execution_count": 58,
      "outputs": [
        {
          "output_type": "stream",
          "text": [
            "(48390, 36)\n",
            "(48390, 3)\n"
          ],
          "name": "stdout"
        }
      ]
    },
    {
      "cell_type": "code",
      "metadata": {
        "colab": {
          "base_uri": "https://localhost:8080/"
        },
        "id": "2LerZSYby_nP",
        "outputId": "94b5ccc6-92e0-4433-952d-254c9d8993d7"
      },
      "source": [
        "# Sample features\n",
        "print(x_train[0])\n",
        "print([parser.id2tok[i] for i in x_train[0]])"
      ],
      "execution_count": 62,
      "outputs": [
        {
          "output_type": "stream",
          "text": [
            "[5156 4003   86   94  822   86 5155 5155 5155 5155 5155 5155 5155 4004\n",
            " 5155   92 5155 5155   84   42   45   40   39   45   83   83   83   83\n",
            "   83   83   83   42   83   51   83   83]\n",
            "['<ROOT>', 'greece', ',', 'for', 'example', ',', '<NULL>', '<NULL>', '<NULL>', '<NULL>', '<NULL>', '<NULL>', '<NULL>', 'turkey', '<NULL>', 'and', '<NULL>', '<NULL>', '<p>:<ROOT>', '<p>:NNP', '<p>:,', '<p>:IN', '<p>:NN', '<p>:,', '<p>:<NULL>', '<p>:<NULL>', '<p>:<NULL>', '<p>:<NULL>', '<p>:<NULL>', '<p>:<NULL>', '<p>:<NULL>', '<p>:NNP', '<p>:<NULL>', '<p>:CC', '<p>:<NULL>', '<p>:<NULL>']\n"
          ],
          "name": "stdout"
        }
      ]
    },
    {
      "cell_type": "markdown",
      "metadata": {
        "id": "17eqeESxy_nR"
      },
      "source": [
        "## 3. Model"
      ]
    },
    {
      "cell_type": "code",
      "metadata": {
        "id": "T5mqcz1qy_nT"
      },
      "source": [
        "from tensorflow.keras.models import Sequential, Model\n",
        "from tensorflow.keras.layers import Embedding, Reshape, Activation, Input, Dense, Reshape, Dropout, Flatten\n",
        "from tensorflow.keras.optimizers import Adam\n",
        "import tensorflow as tf"
      ],
      "execution_count": 68,
      "outputs": []
    },
    {
      "cell_type": "markdown",
      "metadata": {
        "id": "5sW29Rhvy_nX"
      },
      "source": [
        "### TODO 4 (Coding):\n",
        "Build and train a tensroflow keras model to predict an action for each state of of the input. This is a simple classification task. \n",
        "- The input and output of the model must match the dimention of x_train and y_train.\n",
        "- The model must use the provided pretrained embeddings\n",
        "- The model could comprise of only a feedforward layer and a dropout\n",
        "- Training loss should be around 0.1 or below, and training categorical_accuracy above 0.94"
      ]
    },
    {
      "cell_type": "code",
      "metadata": {
        "id": "jAWlQI6iy_nY"
      },
      "source": [
        "model = Sequential()\n",
        "# Write your code here\n",
        "model.add(Input((36,)))\n",
        "model.add(Embedding(\n",
        "    5157,\n",
        "    50,\n",
        "    input_length=36,\n",
        "    embeddings_initializer=tf.keras.initializers.Constant(embeddings),\n",
        "))\n",
        "model.add(Flatten())\n",
        "model.add(Dense(1024, activation='relu'))\n",
        "model.add(Dropout(0.2))\n",
        "model.add(Dense(512, activation='relu'))\n",
        "model.add(Dropout(0.2))\n",
        "model.add(Dense(256, activation='relu'))\n",
        "model.add(Dropout(0.1))\n",
        "model.add(Dense(128, activation='relu'))\n",
        "model.add(Dropout(0.1))\n",
        "model.add(Dense(3, activation='softmax'))\n",
        "model.compile(optimizer=Adam(), loss='categorical_crossentropy')"
      ],
      "execution_count": 99,
      "outputs": []
    },
    {
      "cell_type": "code",
      "metadata": {
        "colab": {
          "base_uri": "https://localhost:8080/"
        },
        "id": "iMjs0W69y_nb",
        "outputId": "31a9a5d4-c799-4fba-9ae4-086f6157141f"
      },
      "source": [
        "# Write your code here\n",
        "model.summary()\n",
        "model.fit(x_train, y_train, batch_size=64, epochs=1)"
      ],
      "execution_count": 109,
      "outputs": [
        {
          "output_type": "stream",
          "text": [
            "Model: \"sequential_11\"\n",
            "_________________________________________________________________\n",
            "Layer (type)                 Output Shape              Param #   \n",
            "=================================================================\n",
            "embedding_7 (Embedding)      (None, 36, 50)            257850    \n",
            "_________________________________________________________________\n",
            "flatten_3 (Flatten)          (None, 1800)              0         \n",
            "_________________________________________________________________\n",
            "dense_14 (Dense)             (None, 1024)              1844224   \n",
            "_________________________________________________________________\n",
            "dropout_4 (Dropout)          (None, 1024)              0         \n",
            "_________________________________________________________________\n",
            "dense_15 (Dense)             (None, 512)               524800    \n",
            "_________________________________________________________________\n",
            "dropout_5 (Dropout)          (None, 512)               0         \n",
            "_________________________________________________________________\n",
            "dense_16 (Dense)             (None, 256)               131328    \n",
            "_________________________________________________________________\n",
            "dropout_6 (Dropout)          (None, 256)               0         \n",
            "_________________________________________________________________\n",
            "dense_17 (Dense)             (None, 128)               32896     \n",
            "_________________________________________________________________\n",
            "dropout_7 (Dropout)          (None, 128)               0         \n",
            "_________________________________________________________________\n",
            "dense_18 (Dense)             (None, 3)                 387       \n",
            "=================================================================\n",
            "Total params: 2,791,485\n",
            "Trainable params: 2,791,485\n",
            "Non-trainable params: 0\n",
            "_________________________________________________________________\n",
            "757/757 [==============================] - 36s 48ms/step - loss: 0.0121\n"
          ],
          "name": "stdout"
        },
        {
          "output_type": "execute_result",
          "data": {
            "text/plain": [
              "<tensorflow.python.keras.callbacks.History at 0x7f22d65cde90>"
            ]
          },
          "metadata": {
            "tags": []
          },
          "execution_count": 109
        }
      ]
    },
    {
      "cell_type": "markdown",
      "metadata": {
        "id": "332SL84Yy_nf"
      },
      "source": [
        "## 4. Evaluation"
      ]
    },
    {
      "cell_type": "markdown",
      "metadata": {
        "id": "HohiOHZUy_nf"
      },
      "source": [
        "For Dependency Parsing, we usually report attachment score of the model for evaluation. There are two possible metrics UAS and LAS."
      ]
    },
    {
      "cell_type": "markdown",
      "metadata": {
        "id": "R3hmM0Kly_ng"
      },
      "source": [
        "### TODO 5 (Written and Coding):\n",
        "Explain how attachment score is calculated and the difference between unlabeled attachment score (UAS) and labeled attachment score (LAS). Which one should we use here?\n",
        "\n",
        "```\n",
        "UAS = Percentage of words that get the correct head\\\n",
        "LAS = Percentage of words that get the correct head and label\n",
        "\n",
        "we use UAS because our model predict only transition which provide only dependency not sematic relation (dependency label)\n",
        "```"
      ]
    },
    {
      "cell_type": "markdown",
      "metadata": {
        "id": "rENVVVUhy_nh"
      },
      "source": [
        "__Answer here__:"
      ]
    },
    {
      "cell_type": "markdown",
      "metadata": {
        "id": "HE2HQT4Vy_ni"
      },
      "source": [
        "Report the score using appropriate metric on dev_set and test_set. The function for calculating scores are provided in parser.parse and the dataset can be passed in as-is."
      ]
    },
    {
      "cell_type": "markdown",
      "metadata": {
        "id": "r4JJmrsGy_nj"
      },
      "source": [
        "dev_score:"
      ]
    },
    {
      "cell_type": "code",
      "metadata": {
        "colab": {
          "base_uri": "https://localhost:8080/"
        },
        "id": "SOTPTqf7y_nj",
        "outputId": "4d3b479a-4fea-4ff9-bbe5-22832805023f"
      },
      "source": [
        "UAS, dependencies = parser.parse(dev_set, model, minibatch_parse)\r\n",
        "UAS"
      ],
      "execution_count": 107,
      "outputs": [
        {
          "output_type": "execute_result",
          "data": {
            "text/plain": [
              "0.7454802965925186"
            ]
          },
          "metadata": {
            "tags": []
          },
          "execution_count": 107
        }
      ]
    },
    {
      "cell_type": "markdown",
      "metadata": {
        "id": "DlCJGdLWy_nm"
      },
      "source": [
        "test_score:"
      ]
    },
    {
      "cell_type": "code",
      "metadata": {
        "colab": {
          "base_uri": "https://localhost:8080/"
        },
        "id": "o2bJf_1oy_nn",
        "outputId": "35002027-3de5-4f83-faf3-0b7fb36d52e2"
      },
      "source": [
        "UAS, dependencies = parser.parse(test_set, model, minibatch_parse)\r\n",
        "UAS"
      ],
      "execution_count": 108,
      "outputs": [
        {
          "output_type": "execute_result",
          "data": {
            "text/plain": [
              "0.7740117746005046"
            ]
          },
          "metadata": {
            "tags": []
          },
          "execution_count": 108
        }
      ]
    },
    {
      "cell_type": "markdown",
      "metadata": {
        "id": "SLcAa-fLy_nq"
      },
      "source": [
        "Also, print one sample sentence (in English) in the test set and its predicted dependencies from the model.\n",
        "You can use __parser.id2tok\\[word_id\\]__ to lookup the word in English.\n",
        "\n",
        "__Draw a picture of this sentence with arrows and upload it to my couseville__"
      ]
    },
    {
      "cell_type": "code",
      "metadata": {
        "colab": {
          "base_uri": "https://localhost:8080/"
        },
        "id": "PIHwv4pufBGF",
        "outputId": "39805052-dd37-4a56-f719-4c22ef67d421"
      },
      "source": [
        "print(' '.join([parser.id2tok[id] for id in test_set[7]['word']]))\r\n",
        "dependencies[7]"
      ],
      "execution_count": 126,
      "outputs": [
        {
          "output_type": "stream",
          "text": [
            "<ROOT> the <UNK> has already <UNK> .\n"
          ],
          "name": "stdout"
        },
        {
          "output_type": "execute_result",
          "data": {
            "text/plain": [
              "[(2, 1), (5, 4), (5, 3), (5, 2), (5, 6), (0, 5)]"
            ]
          },
          "metadata": {
            "tags": []
          },
          "execution_count": 126
        }
      ]
    },
    {
      "cell_type": "code",
      "metadata": {
        "id": "qWd58XC_fXSw"
      },
      "source": [
        ""
      ],
      "execution_count": null,
      "outputs": []
    }
  ]
}